{
 "cells": [
  {
   "cell_type": "markdown",
   "metadata": {},
   "source": [
    "# Augment the Data"
   ]
  },
  {
   "cell_type": "markdown",
   "metadata": {},
   "source": [
    "Let us augment the items(movie) data with more fields from IMDB and / or TMDB data"
   ]
  },
  {
   "cell_type": "code",
   "execution_count": 1,
   "metadata": {},
   "outputs": [],
   "source": [
    "import numpy as np\n",
    "import pandas as pd\n",
    "import json, glob\n",
    "import requests\n",
    "import re\n",
    "import tmdb\n",
    "from importlib import reload\n",
    "from reco.recoutils import create_directory, update_progress"
   ]
  },
  {
   "cell_type": "markdown",
   "metadata": {},
   "source": [
    "## Get the Movie Features from TMDB\n",
    "\n",
    "- We will use the \"links.csv\" which contains:\n",
    "    - movie_id\n",
    "    - imdb_id\n",
    "    - tmdb_id\n",
    "- Source: Scraper + Manual Enhancement\n",
    "     - Bootstrapped using the scraper to get the IMDB title link\n",
    "     - Enhanced through search on TMDB database to get complete list"
   ]
  },
  {
   "cell_type": "code",
   "execution_count": 2,
   "metadata": {},
   "outputs": [],
   "source": [
    "links = pd.read_csv(\"links.csv\", dtype={\"tmdb_id\": 'Int64' })"
   ]
  },
  {
   "cell_type": "code",
   "execution_count": 3,
   "metadata": {},
   "outputs": [
    {
     "data": {
      "text/html": [
       "<div>\n",
       "<style scoped>\n",
       "    .dataframe tbody tr th:only-of-type {\n",
       "        vertical-align: middle;\n",
       "    }\n",
       "\n",
       "    .dataframe tbody tr th {\n",
       "        vertical-align: top;\n",
       "    }\n",
       "\n",
       "    .dataframe thead th {\n",
       "        text-align: right;\n",
       "    }\n",
       "</style>\n",
       "<table border=\"1\" class=\"dataframe\">\n",
       "  <thead>\n",
       "    <tr style=\"text-align: right;\">\n",
       "      <th></th>\n",
       "      <th>movie_id</th>\n",
       "      <th>imdb_id</th>\n",
       "      <th>tmdb_id</th>\n",
       "    </tr>\n",
       "  </thead>\n",
       "  <tbody>\n",
       "    <tr>\n",
       "      <th>0</th>\n",
       "      <td>1</td>\n",
       "      <td>tt0114709</td>\n",
       "      <td>862</td>\n",
       "    </tr>\n",
       "    <tr>\n",
       "      <th>1</th>\n",
       "      <td>2</td>\n",
       "      <td>tt0113189</td>\n",
       "      <td>710</td>\n",
       "    </tr>\n",
       "    <tr>\n",
       "      <th>2</th>\n",
       "      <td>3</td>\n",
       "      <td>tt0113101</td>\n",
       "      <td>5</td>\n",
       "    </tr>\n",
       "    <tr>\n",
       "      <th>3</th>\n",
       "      <td>4</td>\n",
       "      <td>tt0113161</td>\n",
       "      <td>8012</td>\n",
       "    </tr>\n",
       "    <tr>\n",
       "      <th>4</th>\n",
       "      <td>5</td>\n",
       "      <td>tt0112722</td>\n",
       "      <td>1710</td>\n",
       "    </tr>\n",
       "  </tbody>\n",
       "</table>\n",
       "</div>"
      ],
      "text/plain": [
       "   movie_id    imdb_id  tmdb_id\n",
       "0         1  tt0114709      862\n",
       "1         2  tt0113189      710\n",
       "2         3  tt0113101        5\n",
       "3         4  tt0113161     8012\n",
       "4         5  tt0112722     1710"
      ]
     },
     "execution_count": 3,
     "metadata": {},
     "output_type": "execute_result"
    }
   ],
   "source": [
    "links.head()"
   ]
  },
  {
   "cell_type": "code",
   "execution_count": 4,
   "metadata": {},
   "outputs": [
    {
     "data": {
      "text/plain": [
       "(1682, 3)"
      ]
     },
     "execution_count": 4,
     "metadata": {},
     "output_type": "execute_result"
    }
   ],
   "source": [
    "links.shape"
   ]
  },
  {
   "cell_type": "markdown",
   "metadata": {},
   "source": [
    "## Get Movie Feature from TMDB "
   ]
  },
  {
   "cell_type": "code",
   "execution_count": 5,
   "metadata": {},
   "outputs": [],
   "source": [
    "# sample_id = links.tmdb_id[5]\n",
    "# tmdb.movie(sample_id)"
   ]
  },
  {
   "cell_type": "code",
   "execution_count": 6,
   "metadata": {},
   "outputs": [],
   "source": [
    "tmdb_ids = links.tmdb_id.tolist()"
   ]
  },
  {
   "cell_type": "code",
   "execution_count": 7,
   "metadata": {},
   "outputs": [],
   "source": [
    "def get_movie_features(tmdb_ids):\n",
    "    num = len(tmdb_ids)\n",
    "    tick = 0\n",
    "    features = []\n",
    "    for i in tmdb_ids:\n",
    "        feature = tmdb.movie(i)\n",
    "        if feature != False: \n",
    "            features.append(feature)\n",
    "        \n",
    "        tick = tick + 1\n",
    "        update_progress(tick / num)\n",
    "    \n",
    "    update_progress(1)\n",
    "    return features"
   ]
  },
  {
   "cell_type": "code",
   "execution_count": 8,
   "metadata": {},
   "outputs": [],
   "source": [
    "def save_movie_features(features):\n",
    "    outfile = \"data/features.json\"\n",
    "    with open(outfile, 'w') as fout:\n",
    "            json.dump(features, fout)"
   ]
  },
  {
   "cell_type": "code",
   "execution_count": 9,
   "metadata": {},
   "outputs": [],
   "source": [
    "# Uncomment and Run this to download movie features from tmdb\n",
    "\n",
    "#features = get_movie_features(tmdb_ids)\n",
    "#save_movie_features(features)"
   ]
  },
  {
   "cell_type": "markdown",
   "metadata": {},
   "source": [
    "## Create Item Features Augment"
   ]
  },
  {
   "cell_type": "code",
   "execution_count": 10,
   "metadata": {},
   "outputs": [],
   "source": [
    "df_features = pd.read_json(\"data/features.json\")\n",
    "#df_features = pd.DataFrame.from_dict(features)"
   ]
  },
  {
   "cell_type": "code",
   "execution_count": 11,
   "metadata": {},
   "outputs": [],
   "source": [
    "# Select the non NA links\n",
    "links_full = links[~links.tmdb_id.isna()][[\"movie_id\", \"tmdb_id\"]]"
   ]
  },
  {
   "cell_type": "code",
   "execution_count": 12,
   "metadata": {},
   "outputs": [],
   "source": [
    "df_item_features = pd.merge(left=df_features, right=links_full, left_on=\"id\", right_on=\"tmdb_id\", how=\"left\")"
   ]
  },
  {
   "cell_type": "code",
   "execution_count": 13,
   "metadata": {},
   "outputs": [
    {
     "data": {
      "text/html": [
       "<div>\n",
       "<style scoped>\n",
       "    .dataframe tbody tr th:only-of-type {\n",
       "        vertical-align: middle;\n",
       "    }\n",
       "\n",
       "    .dataframe tbody tr th {\n",
       "        vertical-align: top;\n",
       "    }\n",
       "\n",
       "    .dataframe thead th {\n",
       "        text-align: right;\n",
       "    }\n",
       "</style>\n",
       "<table border=\"1\" class=\"dataframe\">\n",
       "  <thead>\n",
       "    <tr style=\"text-align: right;\">\n",
       "      <th></th>\n",
       "      <th>adult</th>\n",
       "      <th>backdrop_path</th>\n",
       "      <th>belongs_to_collection</th>\n",
       "      <th>budget</th>\n",
       "      <th>genres</th>\n",
       "      <th>homepage</th>\n",
       "      <th>id</th>\n",
       "      <th>imdb_id</th>\n",
       "      <th>original_language</th>\n",
       "      <th>original_title</th>\n",
       "      <th>...</th>\n",
       "      <th>runtime</th>\n",
       "      <th>spoken_languages</th>\n",
       "      <th>status</th>\n",
       "      <th>tagline</th>\n",
       "      <th>title</th>\n",
       "      <th>video</th>\n",
       "      <th>vote_average</th>\n",
       "      <th>vote_count</th>\n",
       "      <th>movie_id</th>\n",
       "      <th>tmdb_id</th>\n",
       "    </tr>\n",
       "  </thead>\n",
       "  <tbody>\n",
       "    <tr>\n",
       "      <th>0</th>\n",
       "      <td>False</td>\n",
       "      <td>/dji4Fm0gCDVb9DQQMRvAI8YNnTz.jpg</td>\n",
       "      <td>{'id': 10194, 'name': 'Toy Story Collection', ...</td>\n",
       "      <td>30000000</td>\n",
       "      <td>[{'id': 16, 'name': 'Animation'}, {'id': 35, '...</td>\n",
       "      <td>http://toystory.disney.com/toy-story</td>\n",
       "      <td>862</td>\n",
       "      <td>tt0114709</td>\n",
       "      <td>en</td>\n",
       "      <td>Toy Story</td>\n",
       "      <td>...</td>\n",
       "      <td>81.0</td>\n",
       "      <td>[{'iso_639_1': 'en', 'name': 'English'}]</td>\n",
       "      <td>Released</td>\n",
       "      <td></td>\n",
       "      <td>Toy Story</td>\n",
       "      <td>False</td>\n",
       "      <td>7.9</td>\n",
       "      <td>10878</td>\n",
       "      <td>1</td>\n",
       "      <td>862</td>\n",
       "    </tr>\n",
       "    <tr>\n",
       "      <th>1</th>\n",
       "      <td>False</td>\n",
       "      <td>/dA9I0Vd9OZzRQ2GyGcsFXdKGMz3.jpg</td>\n",
       "      <td>{'id': 645, 'name': 'James Bond Collection', '...</td>\n",
       "      <td>58000000</td>\n",
       "      <td>[{'id': 12, 'name': 'Adventure'}, {'id': 28, '...</td>\n",
       "      <td>http://www.mgm.com/view/movie/757/Goldeneye/</td>\n",
       "      <td>710</td>\n",
       "      <td>tt0113189</td>\n",
       "      <td>en</td>\n",
       "      <td>GoldenEye</td>\n",
       "      <td>...</td>\n",
       "      <td>130.0</td>\n",
       "      <td>[{'iso_639_1': 'en', 'name': 'English'}, {'iso...</td>\n",
       "      <td>Released</td>\n",
       "      <td>No limits. No fears. No substitutes.</td>\n",
       "      <td>GoldenEye</td>\n",
       "      <td>False</td>\n",
       "      <td>6.8</td>\n",
       "      <td>2037</td>\n",
       "      <td>2</td>\n",
       "      <td>710</td>\n",
       "    </tr>\n",
       "    <tr>\n",
       "      <th>2</th>\n",
       "      <td>False</td>\n",
       "      <td>/3EqYpbGCE9S5GddU2K4cYzP5UmI.jpg</td>\n",
       "      <td>None</td>\n",
       "      <td>4000000</td>\n",
       "      <td>[{'id': 80, 'name': 'Crime'}, {'id': 35, 'name...</td>\n",
       "      <td>None</td>\n",
       "      <td>5</td>\n",
       "      <td>tt0113101</td>\n",
       "      <td>en</td>\n",
       "      <td>Four Rooms</td>\n",
       "      <td>...</td>\n",
       "      <td>98.0</td>\n",
       "      <td>[{'iso_639_1': 'en', 'name': 'English'}]</td>\n",
       "      <td>Released</td>\n",
       "      <td>Twelve outrageous guests. Four scandalous requ...</td>\n",
       "      <td>Four Rooms</td>\n",
       "      <td>False</td>\n",
       "      <td>6.1</td>\n",
       "      <td>1251</td>\n",
       "      <td>3</td>\n",
       "      <td>5</td>\n",
       "    </tr>\n",
       "    <tr>\n",
       "      <th>3</th>\n",
       "      <td>False</td>\n",
       "      <td>/g1BfxcnplYEveGqS1ttfhdRBgbR.jpg</td>\n",
       "      <td>{'id': 91698, 'name': 'Chili Palmer Collection...</td>\n",
       "      <td>30250000</td>\n",
       "      <td>[{'id': 35, 'name': 'Comedy'}, {'id': 53, 'nam...</td>\n",
       "      <td>None</td>\n",
       "      <td>8012</td>\n",
       "      <td>tt0113161</td>\n",
       "      <td>en</td>\n",
       "      <td>Get Shorty</td>\n",
       "      <td>...</td>\n",
       "      <td>105.0</td>\n",
       "      <td>[{'iso_639_1': 'en', 'name': 'English'}]</td>\n",
       "      <td>Released</td>\n",
       "      <td>The mob is tough, but it’s nothing like show b...</td>\n",
       "      <td>Get Shorty</td>\n",
       "      <td>False</td>\n",
       "      <td>6.5</td>\n",
       "      <td>501</td>\n",
       "      <td>4</td>\n",
       "      <td>8012</td>\n",
       "    </tr>\n",
       "    <tr>\n",
       "      <th>4</th>\n",
       "      <td>False</td>\n",
       "      <td>/gE1DHa82NZVb9B2Lx2cLNz43Iwd.jpg</td>\n",
       "      <td>None</td>\n",
       "      <td>0</td>\n",
       "      <td>[{'id': 18, 'name': 'Drama'}, {'id': 53, 'name...</td>\n",
       "      <td>None</td>\n",
       "      <td>1710</td>\n",
       "      <td>tt0112722</td>\n",
       "      <td>en</td>\n",
       "      <td>Copycat</td>\n",
       "      <td>...</td>\n",
       "      <td>124.0</td>\n",
       "      <td>[{'iso_639_1': 'en', 'name': 'English'}, {'iso...</td>\n",
       "      <td>Released</td>\n",
       "      <td>One man is copying the most notorious killers ...</td>\n",
       "      <td>Copycat</td>\n",
       "      <td>False</td>\n",
       "      <td>6.5</td>\n",
       "      <td>424</td>\n",
       "      <td>5</td>\n",
       "      <td>1710</td>\n",
       "    </tr>\n",
       "  </tbody>\n",
       "</table>\n",
       "<p>5 rows × 27 columns</p>\n",
       "</div>"
      ],
      "text/plain": [
       "   adult                     backdrop_path  \\\n",
       "0  False  /dji4Fm0gCDVb9DQQMRvAI8YNnTz.jpg   \n",
       "1  False  /dA9I0Vd9OZzRQ2GyGcsFXdKGMz3.jpg   \n",
       "2  False  /3EqYpbGCE9S5GddU2K4cYzP5UmI.jpg   \n",
       "3  False  /g1BfxcnplYEveGqS1ttfhdRBgbR.jpg   \n",
       "4  False  /gE1DHa82NZVb9B2Lx2cLNz43Iwd.jpg   \n",
       "\n",
       "                               belongs_to_collection    budget  \\\n",
       "0  {'id': 10194, 'name': 'Toy Story Collection', ...  30000000   \n",
       "1  {'id': 645, 'name': 'James Bond Collection', '...  58000000   \n",
       "2                                               None   4000000   \n",
       "3  {'id': 91698, 'name': 'Chili Palmer Collection...  30250000   \n",
       "4                                               None         0   \n",
       "\n",
       "                                              genres  \\\n",
       "0  [{'id': 16, 'name': 'Animation'}, {'id': 35, '...   \n",
       "1  [{'id': 12, 'name': 'Adventure'}, {'id': 28, '...   \n",
       "2  [{'id': 80, 'name': 'Crime'}, {'id': 35, 'name...   \n",
       "3  [{'id': 35, 'name': 'Comedy'}, {'id': 53, 'nam...   \n",
       "4  [{'id': 18, 'name': 'Drama'}, {'id': 53, 'name...   \n",
       "\n",
       "                                       homepage    id    imdb_id  \\\n",
       "0          http://toystory.disney.com/toy-story   862  tt0114709   \n",
       "1  http://www.mgm.com/view/movie/757/Goldeneye/   710  tt0113189   \n",
       "2                                          None     5  tt0113101   \n",
       "3                                          None  8012  tt0113161   \n",
       "4                                          None  1710  tt0112722   \n",
       "\n",
       "  original_language original_title  ... runtime  \\\n",
       "0                en      Toy Story  ...    81.0   \n",
       "1                en      GoldenEye  ...   130.0   \n",
       "2                en     Four Rooms  ...    98.0   \n",
       "3                en     Get Shorty  ...   105.0   \n",
       "4                en        Copycat  ...   124.0   \n",
       "\n",
       "                                    spoken_languages    status  \\\n",
       "0           [{'iso_639_1': 'en', 'name': 'English'}]  Released   \n",
       "1  [{'iso_639_1': 'en', 'name': 'English'}, {'iso...  Released   \n",
       "2           [{'iso_639_1': 'en', 'name': 'English'}]  Released   \n",
       "3           [{'iso_639_1': 'en', 'name': 'English'}]  Released   \n",
       "4  [{'iso_639_1': 'en', 'name': 'English'}, {'iso...  Released   \n",
       "\n",
       "                                             tagline       title  video  \\\n",
       "0                                                      Toy Story  False   \n",
       "1               No limits. No fears. No substitutes.   GoldenEye  False   \n",
       "2  Twelve outrageous guests. Four scandalous requ...  Four Rooms  False   \n",
       "3  The mob is tough, but it’s nothing like show b...  Get Shorty  False   \n",
       "4  One man is copying the most notorious killers ...     Copycat  False   \n",
       "\n",
       "   vote_average  vote_count movie_id tmdb_id  \n",
       "0           7.9       10878        1     862  \n",
       "1           6.8        2037        2     710  \n",
       "2           6.1        1251        3       5  \n",
       "3           6.5         501        4    8012  \n",
       "4           6.5         424        5    1710  \n",
       "\n",
       "[5 rows x 27 columns]"
      ]
     },
     "execution_count": 13,
     "metadata": {},
     "output_type": "execute_result"
    }
   ],
   "source": [
    "df_item_features.head()"
   ]
  },
  {
   "cell_type": "code",
   "execution_count": 14,
   "metadata": {},
   "outputs": [],
   "source": [
    "df_item_features.to_csv(\"data/item_features.csv\", index=None)"
   ]
  },
  {
   "cell_type": "markdown",
   "metadata": {},
   "source": [
    "## Get Movie Posters"
   ]
  },
  {
   "cell_type": "code",
   "execution_count": 15,
   "metadata": {},
   "outputs": [
    {
     "name": "stdout",
     "output_type": "stream",
     "text": [
      "Directory already exists C:\\Users\\sadha\\OneDrive\\Desktop\\Movie Recommendation System/data/posters\n"
     ]
    }
   ],
   "source": [
    "# Create Poster Directory\n",
    "create_directory(\"/data/posters\")"
   ]
  },
  {
   "cell_type": "code",
   "execution_count": 16,
   "metadata": {},
   "outputs": [],
   "source": [
    "def poster(movie_id, df):\n",
    "    \"\"\"\n",
    "    Gets the movie poster from the movie_id\n",
    "    \n",
    "    poster_path (string): path for the poster\n",
    "    df (pd.Dataframe): pandas dataframe with movie id and poster_path\n",
    "    \"\"\"\n",
    "    directory_path = \"data/posters/\"    \n",
    "    poster_path = df[df.movie_id == movie_id].poster_path.values[0]\n",
    "    if poster_path == None:\n",
    "        poster_path = \"\"\n",
    "    \n",
    "    save_path = directory_path + str(movie_id) + \".jpg\"\n",
    "    \n",
    "    base_url = \"https://image.tmdb.org/t/p/w92\"\n",
    "    url = base_url + poster_path   \n",
    "    \n",
    "    response = requests.request(\"GET\", url, stream=True)\n",
    "    if response.status_code == 200:\n",
    "        with open(save_path, 'wb') as out_file:\n",
    "            response.raw.decode_content = True \n",
    "            shutil.copyfileobj(response.raw, out_file)\n",
    "        return True\n",
    "    else: \n",
    "        return False"
   ]
  },
  {
   "cell_type": "code",
   "execution_count": 17,
   "metadata": {},
   "outputs": [],
   "source": [
    "#df_item_features[df_item_features.poster_path.isna()][[\"movie_id\", \"poster_path\"]]"
   ]
  },
  {
   "cell_type": "code",
   "execution_count": 18,
   "metadata": {},
   "outputs": [],
   "source": [
    "import shutil"
   ]
  },
  {
   "cell_type": "code",
   "execution_count": 19,
   "metadata": {},
   "outputs": [
    {
     "data": {
      "text/plain": [
       "True"
      ]
     },
     "execution_count": 19,
     "metadata": {},
     "output_type": "execute_result"
    }
   ],
   "source": [
    "poster(1, df_item_features)"
   ]
  },
  {
   "cell_type": "code",
   "execution_count": 20,
   "metadata": {},
   "outputs": [
    {
     "data": {
      "image/jpeg": "[encoded data removed]",
      "text/plain": [
       "<IPython.core.display.Image object>"
      ]
     },
     "execution_count": 20,
     "metadata": {},
     "output_type": "execute_result"
    }
   ],
   "source": [
    "from IPython.display import Image \n",
    "Image(filename='data/posters/8.jpg')"
   ]
  },
  {
   "cell_type": "code",
   "execution_count": 21,
   "metadata": {},
   "outputs": [],
   "source": [
    "def get_all_posters(df):\n",
    "    \"\"\"\n",
    "    Get all posters from the dataframe and save with movie_id\n",
    "    \"\"\"\n",
    "    id_list = df.movie_id.tolist()\n",
    "    num = len(id_list)\n",
    "    tick = 0\n",
    "    \n",
    "    for i in id_list:\n",
    "        df[\"image\"] = poster(i, df)\n",
    "        tick = tick + 1\n",
    "        update_progress(tick / num)\n",
    "    \n",
    "    update_progress(1)\n",
    "    return df"
   ]
  },
  {
   "cell_type": "code",
   "execution_count": 22,
   "metadata": {},
   "outputs": [],
   "source": [
    "# Uncomment and run this to get posters\n",
    "# get_all_posters(df_item_features)"
   ]
  },
  {
   "cell_type": "code",
   "execution_count": null,
   "metadata": {},
   "outputs": [],
   "source": []
  },
  {
   "cell_type": "code",
   "execution_count": null,
   "metadata": {},
   "outputs": [],
   "source": []
  }
 ],
 "metadata": {
  "kernelspec": {
   "display_name": "Python 3 (ipykernel)",
   "language": "python",
   "name": "python3"
  },
  "language_info": {
   "codemirror_mode": {
    "name": "ipython",
    "version": 3
   },
   "file_extension": ".py",
   "mimetype": "text/x-python",
   "name": "python",
   "nbconvert_exporter": "python",
   "pygments_lexer": "ipython3",
   "version": "3.9.13"
  }
 },
 "nbformat": 4,
 "nbformat_minor": 4
}
