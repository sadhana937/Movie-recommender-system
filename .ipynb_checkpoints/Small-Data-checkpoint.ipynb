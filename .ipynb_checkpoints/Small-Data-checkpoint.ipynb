{
 "cells": [
  {
   "cell_type": "markdown",
   "metadata": {},
   "source": [
    "# Matrix Factorisation - Intuition"
   ]
  },
  {
   "cell_type": "code",
   "execution_count": 1,
   "metadata": {},
   "outputs": [],
   "source": [
    "import warnings\n",
    "warnings.filterwarnings(\"ignore\")"
   ]
  },
  {
   "cell_type": "code",
   "execution_count": 2,
   "metadata": {},
   "outputs": [],
   "source": [
    "import numpy as np\n",
    "import pandas as pd"
   ]
  },
  {
   "cell_type": "code",
   "execution_count": 3,
   "metadata": {},
   "outputs": [],
   "source": [
    "ratings = pd.read_csv(\"data/ratings.csv\")\n",
    "items = pd.read_csv(\"data/items.csv\")\n",
    "users = pd.read_csv(\"data/users.csv\")"
   ]
  },
  {
   "cell_type": "code",
   "execution_count": 4,
   "metadata": {},
   "outputs": [
    {
     "data": {
      "text/html": [
       "<div>\n",
       "<style scoped>\n",
       "    .dataframe tbody tr th:only-of-type {\n",
       "        vertical-align: middle;\n",
       "    }\n",
       "\n",
       "    .dataframe tbody tr th {\n",
       "        vertical-align: top;\n",
       "    }\n",
       "\n",
       "    .dataframe thead th {\n",
       "        text-align: right;\n",
       "    }\n",
       "</style>\n",
       "<table border=\"1\" class=\"dataframe\">\n",
       "  <thead>\n",
       "    <tr style=\"text-align: right;\">\n",
       "      <th></th>\n",
       "      <th>user_id</th>\n",
       "      <th>movie_id</th>\n",
       "      <th>rating</th>\n",
       "      <th>unix_timestamp</th>\n",
       "    </tr>\n",
       "  </thead>\n",
       "  <tbody>\n",
       "    <tr>\n",
       "      <th>0</th>\n",
       "      <td>196</td>\n",
       "      <td>242</td>\n",
       "      <td>3</td>\n",
       "      <td>881250949</td>\n",
       "    </tr>\n",
       "    <tr>\n",
       "      <th>1</th>\n",
       "      <td>186</td>\n",
       "      <td>302</td>\n",
       "      <td>3</td>\n",
       "      <td>891717742</td>\n",
       "    </tr>\n",
       "    <tr>\n",
       "      <th>2</th>\n",
       "      <td>22</td>\n",
       "      <td>377</td>\n",
       "      <td>1</td>\n",
       "      <td>878887116</td>\n",
       "    </tr>\n",
       "    <tr>\n",
       "      <th>3</th>\n",
       "      <td>244</td>\n",
       "      <td>51</td>\n",
       "      <td>2</td>\n",
       "      <td>880606923</td>\n",
       "    </tr>\n",
       "    <tr>\n",
       "      <th>4</th>\n",
       "      <td>166</td>\n",
       "      <td>346</td>\n",
       "      <td>1</td>\n",
       "      <td>886397596</td>\n",
       "    </tr>\n",
       "  </tbody>\n",
       "</table>\n",
       "</div>"
      ],
      "text/plain": [
       "   user_id  movie_id  rating  unix_timestamp\n",
       "0      196       242       3       881250949\n",
       "1      186       302       3       891717742\n",
       "2       22       377       1       878887116\n",
       "3      244        51       2       880606923\n",
       "4      166       346       1       886397596"
      ]
     },
     "execution_count": 4,
     "metadata": {},
     "output_type": "execute_result"
    }
   ],
   "source": [
    "ratings.head()"
   ]
  },
  {
   "cell_type": "markdown",
   "metadata": {},
   "source": [
    "## Small Data\n",
    "\n",
    "| movie_id | title                 |\n",
    "| -------: | :-------------------- |\n",
    "|      1   | Toy Story (1995)      |\n",
    "|     71   | Lion King, The (1994) |\n",
    "|     95   | Aladdin (1992)        |\n",
    "|     50   | Star Wars (1972)      |\n",
    "|    176   | Aliens (1986)         |\n",
    "|     82   | Jurassic Park (1993)  |\n"
   ]
  },
  {
   "cell_type": "code",
   "execution_count": 5,
   "metadata": {},
   "outputs": [],
   "source": [
    "from recoflow.datasets import SampleData"
   ]
  },
  {
   "cell_type": "code",
   "execution_count": 6,
   "metadata": {},
   "outputs": [],
   "source": [
    "sample_users, sample_items, sample_ratings = SampleData(users, items, ratings)"
   ]
  },
  {
   "cell_type": "code",
   "execution_count": 7,
   "metadata": {},
   "outputs": [],
   "source": [
    "from recoflow.preprocessing import EncodeUserItem"
   ]
  },
  {
   "cell_type": "code",
   "execution_count": 8,
   "metadata": {},
   "outputs": [
    {
     "name": "stdout",
     "output_type": "stream",
     "text": [
      "Number of users:  10\n",
      "Number of items:  6\n"
     ]
    }
   ],
   "source": [
    "interaction, n_users, n_items, user_encoder, item_encoder = EncodeUserItem(sample_ratings,\n",
    "                                                         \"user_id\", \"movie_id\", \"rating\", \"unix_timestamp\")"
   ]
  },
  {
   "cell_type": "code",
   "execution_count": 9,
   "metadata": {},
   "outputs": [
    {
     "data": {
      "text/html": [
       "<div>\n",
       "<style scoped>\n",
       "    .dataframe tbody tr th:only-of-type {\n",
       "        vertical-align: middle;\n",
       "    }\n",
       "\n",
       "    .dataframe tbody tr th {\n",
       "        vertical-align: top;\n",
       "    }\n",
       "\n",
       "    .dataframe thead th {\n",
       "        text-align: right;\n",
       "    }\n",
       "</style>\n",
       "<table border=\"1\" class=\"dataframe\">\n",
       "  <thead>\n",
       "    <tr style=\"text-align: right;\">\n",
       "      <th></th>\n",
       "      <th>user_id</th>\n",
       "      <th>movie_id</th>\n",
       "      <th>RATING</th>\n",
       "      <th>TIMESTAMP</th>\n",
       "      <th>USER</th>\n",
       "      <th>ITEM</th>\n",
       "    </tr>\n",
       "  </thead>\n",
       "  <tbody>\n",
       "    <tr>\n",
       "      <th>1052</th>\n",
       "      <td>2</td>\n",
       "      <td>50</td>\n",
       "      <td>5</td>\n",
       "      <td>888552084</td>\n",
       "      <td>1</td>\n",
       "      <td>1</td>\n",
       "    </tr>\n",
       "    <tr>\n",
       "      <th>1090</th>\n",
       "      <td>8</td>\n",
       "      <td>50</td>\n",
       "      <td>5</td>\n",
       "      <td>879362124</td>\n",
       "      <td>4</td>\n",
       "      <td>1</td>\n",
       "    </tr>\n",
       "    <tr>\n",
       "      <th>3672</th>\n",
       "      <td>6</td>\n",
       "      <td>95</td>\n",
       "      <td>2</td>\n",
       "      <td>883602133</td>\n",
       "      <td>2</td>\n",
       "      <td>4</td>\n",
       "    </tr>\n",
       "    <tr>\n",
       "      <th>4280</th>\n",
       "      <td>1</td>\n",
       "      <td>82</td>\n",
       "      <td>5</td>\n",
       "      <td>878542589</td>\n",
       "      <td>0</td>\n",
       "      <td>3</td>\n",
       "    </tr>\n",
       "    <tr>\n",
       "      <th>4596</th>\n",
       "      <td>12</td>\n",
       "      <td>82</td>\n",
       "      <td>4</td>\n",
       "      <td>879959610</td>\n",
       "      <td>6</td>\n",
       "      <td>3</td>\n",
       "    </tr>\n",
       "  </tbody>\n",
       "</table>\n",
       "</div>"
      ],
      "text/plain": [
       "      user_id  movie_id  RATING  TIMESTAMP  USER  ITEM\n",
       "1052        2        50       5  888552084     1     1\n",
       "1090        8        50       5  879362124     4     1\n",
       "3672        6        95       2  883602133     2     4\n",
       "4280        1        82       5  878542589     0     3\n",
       "4596       12        82       4  879959610     6     3"
      ]
     },
     "execution_count": 9,
     "metadata": {},
     "output_type": "execute_result"
    }
   ],
   "source": [
    "interaction.head()"
   ]
  },
  {
   "cell_type": "code",
   "execution_count": 10,
   "metadata": {},
   "outputs": [
    {
     "data": {
      "text/plain": [
       "(1, 5)"
      ]
     },
     "execution_count": 10,
     "metadata": {},
     "output_type": "execute_result"
    }
   ],
   "source": [
    "max_rating = interaction.RATING.max()\n",
    "min_rating = interaction.RATING.min()\n",
    "min_rating, max_rating"
   ]
  },
  {
   "cell_type": "code",
   "execution_count": 11,
   "metadata": {},
   "outputs": [],
   "source": [
    "from recoflow.vis import InteractionVis, TrainTestVis"
   ]
  },
  {
   "cell_type": "code",
   "execution_count": 12,
   "metadata": {},
   "outputs": [
    {
     "data": {
      "text/html": [
       "\n",
       "<style>\n",
       "  #altair-viz-fae73078c7da4507890302486224fb33.vega-embed {\n",
       "    width: 100%;\n",
       "    display: flex;\n",
       "  }\n",
       "\n",
       "  #altair-viz-fae73078c7da4507890302486224fb33.vega-embed details,\n",
       "  #altair-viz-fae73078c7da4507890302486224fb33.vega-embed details summary {\n",
       "    position: relative;\n",
       "  }\n",
       "</style>\n",
       "<div id=\"altair-viz-fae73078c7da4507890302486224fb33\"></div>\n",
       "<script type=\"text/javascript\">\n",
       "  var VEGA_DEBUG = (typeof VEGA_DEBUG == \"undefined\") ? {} : VEGA_DEBUG;\n",
       "  (function(spec, embedOpt){\n",
       "    let outputDiv = document.currentScript.previousElementSibling;\n",
       "    if (outputDiv.id !== \"altair-viz-fae73078c7da4507890302486224fb33\") {\n",
       "      outputDiv = document.getElementById(\"altair-viz-fae73078c7da4507890302486224fb33\");\n",
       "    }\n",
       "    const paths = {\n",
       "      \"vega\": \"https://cdn.jsdelivr.net/npm/vega@5?noext\",\n",
       "      \"vega-lib\": \"https://cdn.jsdelivr.net/npm/vega-lib?noext\",\n",
       "      \"vega-lite\": \"https://cdn.jsdelivr.net/npm/vega-lite@5.17.0?noext\",\n",
       "      \"vega-embed\": \"https://cdn.jsdelivr.net/npm/vega-embed@6?noext\",\n",
       "    };\n",
       "\n",
       "    function maybeLoadScript(lib, version) {\n",
       "      var key = `${lib.replace(\"-\", \"\")}_version`;\n",
       "      return (VEGA_DEBUG[key] == version) ?\n",
       "        Promise.resolve(paths[lib]) :\n",
       "        new Promise(function(resolve, reject) {\n",
       "          var s = document.createElement('script');\n",
       "          document.getElementsByTagName(\"head\")[0].appendChild(s);\n",
       "          s.async = true;\n",
       "          s.onload = () => {\n",
       "            VEGA_DEBUG[key] = version;\n",
       "            return resolve(paths[lib]);\n",
       "          };\n",
       "          s.onerror = () => reject(`Error loading script: ${paths[lib]}`);\n",
       "          s.src = paths[lib];\n",
       "        });\n",
       "    }\n",
       "\n",
       "    function showError(err) {\n",
       "      outputDiv.innerHTML = `<div class=\"error\" style=\"color:red;\">${err}</div>`;\n",
       "      throw err;\n",
       "    }\n",
       "\n",
       "    function displayChart(vegaEmbed) {\n",
       "      vegaEmbed(outputDiv, spec, embedOpt)\n",
       "        .catch(err => showError(`Javascript Error: ${err.message}<br>This usually means there's a typo in your chart specification. See the javascript console for the full traceback.`));\n",
       "    }\n",
       "\n",
       "    if(typeof define === \"function\" && define.amd) {\n",
       "      requirejs.config({paths});\n",
       "      require([\"vega-embed\"], displayChart, err => showError(`Error loading script: ${err.message}`));\n",
       "    } else {\n",
       "      maybeLoadScript(\"vega\", \"5\")\n",
       "        .then(() => maybeLoadScript(\"vega-lite\", \"5.17.0\"))\n",
       "        .then(() => maybeLoadScript(\"vega-embed\", \"6\"))\n",
       "        .catch(showError)\n",
       "        .then(() => displayChart(vegaEmbed));\n",
       "    }\n",
       "  })({\"config\": {\"view\": {\"continuousWidth\": 300, \"continuousHeight\": 300}, \"axis\": {\"grid\": false}}, \"data\": {\"name\": \"data-e208f8c2ec46fdbd54bc3eb1fc89c8b2\"}, \"mark\": {\"type\": \"rect\"}, \"encoding\": {\"color\": {\"field\": \"RATING\", \"legend\": {\"direction\": \"horizontal\", \"orient\": \"bottom\", \"tickCount\": 5, \"titleOrient\": \"top\"}, \"scale\": {\"nice\": true, \"scheme\": \"yellowgreenblue\", \"type\": \"bin-ordinal\"}, \"type\": \"quantitative\"}, \"x\": {\"axis\": {\"labelAngle\": 0, \"orient\": \"top\"}, \"field\": \"ITEM\", \"type\": \"nominal\"}, \"y\": {\"axis\": {\"orient\": \"left\"}, \"field\": \"USER\", \"type\": \"nominal\"}}, \"height\": 300, \"width\": 180, \"$schema\": \"https://vega.github.io/schema/vega-lite/v5.17.0.json\", \"datasets\": {\"data-e208f8c2ec46fdbd54bc3eb1fc89c8b2\": [{\"user_id\": 2, \"movie_id\": 50, \"RATING\": 5, \"TIMESTAMP\": 888552084, \"USER\": 1, \"ITEM\": 1}, {\"user_id\": 8, \"movie_id\": 50, \"RATING\": 5, \"TIMESTAMP\": 879362124, \"USER\": 4, \"ITEM\": 1}, {\"user_id\": 6, \"movie_id\": 95, \"RATING\": 2, \"TIMESTAMP\": 883602133, \"USER\": 2, \"ITEM\": 4}, {\"user_id\": 1, \"movie_id\": 82, \"RATING\": 5, \"TIMESTAMP\": 878542589, \"USER\": 0, \"ITEM\": 3}, {\"user_id\": 12, \"movie_id\": 82, \"RATING\": 4, \"TIMESTAMP\": 879959610, \"USER\": 6, \"ITEM\": 3}, {\"user_id\": 12, \"movie_id\": 71, \"RATING\": 4, \"TIMESTAMP\": 879959635, \"USER\": 6, \"ITEM\": 2}, {\"user_id\": 7, \"movie_id\": 82, \"RATING\": 3, \"TIMESTAMP\": 891351471, \"USER\": 3, \"ITEM\": 3}, {\"user_id\": 13, \"movie_id\": 71, \"RATING\": 4, \"TIMESTAMP\": 882398654, \"USER\": 7, \"ITEM\": 2}, {\"user_id\": 10, \"movie_id\": 176, \"RATING\": 4, \"TIMESTAMP\": 877889130, \"USER\": 5, \"ITEM\": 5}, {\"user_id\": 14, \"movie_id\": 176, \"RATING\": 1, \"TIMESTAMP\": 890881484, \"USER\": 8, \"ITEM\": 5}, {\"user_id\": 8, \"movie_id\": 176, \"RATING\": 5, \"TIMESTAMP\": 879362233, \"USER\": 4, \"ITEM\": 5}, {\"user_id\": 14, \"movie_id\": 50, \"RATING\": 5, \"TIMESTAMP\": 890881557, \"USER\": 8, \"ITEM\": 1}, {\"user_id\": 12, \"movie_id\": 50, \"RATING\": 4, \"TIMESTAMP\": 879959044, \"USER\": 6, \"ITEM\": 1}, {\"user_id\": 10, \"movie_id\": 1, \"RATING\": 4, \"TIMESTAMP\": 877888877, \"USER\": 5, \"ITEM\": 0}, {\"user_id\": 7, \"movie_id\": 176, \"RATING\": 3, \"TIMESTAMP\": 891350782, \"USER\": 3, \"ITEM\": 5}, {\"user_id\": 10, \"movie_id\": 82, \"RATING\": 4, \"TIMESTAMP\": 877886912, \"USER\": 5, \"ITEM\": 3}, {\"user_id\": 10, \"movie_id\": 50, \"RATING\": 5, \"TIMESTAMP\": 877888545, \"USER\": 5, \"ITEM\": 1}, {\"user_id\": 1, \"movie_id\": 176, \"RATING\": 5, \"TIMESTAMP\": 876892468, \"USER\": 0, \"ITEM\": 5}, {\"user_id\": 6, \"movie_id\": 50, \"RATING\": 4, \"TIMESTAMP\": 883600842, \"USER\": 2, \"ITEM\": 1}, {\"user_id\": 16, \"movie_id\": 95, \"RATING\": 5, \"TIMESTAMP\": 877728417, \"USER\": 9, \"ITEM\": 4}, {\"user_id\": 2, \"movie_id\": 1, \"RATING\": 4, \"TIMESTAMP\": 888550871, \"USER\": 1, \"ITEM\": 0}, {\"user_id\": 13, \"movie_id\": 95, \"RATING\": 5, \"TIMESTAMP\": 882140104, \"USER\": 7, \"ITEM\": 4}, {\"user_id\": 8, \"movie_id\": 82, \"RATING\": 5, \"TIMESTAMP\": 879362356, \"USER\": 4, \"ITEM\": 3}, {\"user_id\": 13, \"movie_id\": 1, \"RATING\": 3, \"TIMESTAMP\": 882140487, \"USER\": 7, \"ITEM\": 0}, {\"user_id\": 1, \"movie_id\": 1, \"RATING\": 5, \"TIMESTAMP\": 874965758, \"USER\": 0, \"ITEM\": 0}, {\"user_id\": 16, \"movie_id\": 1, \"RATING\": 5, \"TIMESTAMP\": 877717833, \"USER\": 9, \"ITEM\": 0}, {\"user_id\": 1, \"movie_id\": 71, \"RATING\": 3, \"TIMESTAMP\": 876892425, \"USER\": 0, \"ITEM\": 2}, {\"user_id\": 6, \"movie_id\": 71, \"RATING\": 4, \"TIMESTAMP\": 883601053, \"USER\": 2, \"ITEM\": 2}, {\"user_id\": 1, \"movie_id\": 50, \"RATING\": 5, \"TIMESTAMP\": 874965954, \"USER\": 0, \"ITEM\": 1}, {\"user_id\": 13, \"movie_id\": 82, \"RATING\": 2, \"TIMESTAMP\": 882397503, \"USER\": 7, \"ITEM\": 3}, {\"user_id\": 13, \"movie_id\": 50, \"RATING\": 5, \"TIMESTAMP\": 882140001, \"USER\": 7, \"ITEM\": 1}, {\"user_id\": 6, \"movie_id\": 1, \"RATING\": 4, \"TIMESTAMP\": 883599478, \"USER\": 2, \"ITEM\": 0}, {\"user_id\": 16, \"movie_id\": 71, \"RATING\": 5, \"TIMESTAMP\": 877721071, \"USER\": 9, \"ITEM\": 2}, {\"user_id\": 7, \"movie_id\": 71, \"RATING\": 5, \"TIMESTAMP\": 891352692, \"USER\": 3, \"ITEM\": 2}, {\"user_id\": 1, \"movie_id\": 95, \"RATING\": 4, \"TIMESTAMP\": 875072303, \"USER\": 0, \"ITEM\": 4}, {\"user_id\": 13, \"movie_id\": 176, \"RATING\": 3, \"TIMESTAMP\": 882140455, \"USER\": 7, \"ITEM\": 5}, {\"user_id\": 7, \"movie_id\": 50, \"RATING\": 5, \"TIMESTAMP\": 891351042, \"USER\": 3, \"ITEM\": 1}]}}, {\"mode\": \"vega-lite\"});\n",
       "</script>"
      ],
      "text/plain": [
       "alt.Chart(...)"
      ]
     },
     "execution_count": 12,
     "metadata": {},
     "output_type": "execute_result"
    }
   ],
   "source": [
    "InteractionVis(interaction)"
   ]
  },
  {
   "cell_type": "code",
   "execution_count": 13,
   "metadata": {},
   "outputs": [],
   "source": [
    "from recoflow.preprocessing import RandomSplit, StratifiedSplit, ChronoSplit"
   ]
  },
  {
   "cell_type": "code",
   "execution_count": 14,
   "metadata": {},
   "outputs": [],
   "source": [
    "train, test = RandomSplit(interaction, [0.6, 0.4])"
   ]
  },
  {
   "cell_type": "code",
   "execution_count": 15,
   "metadata": {},
   "outputs": [
    {
     "data": {
      "text/html": [
       "\n",
       "<style>\n",
       "  #altair-viz-b3891cf65f284ffca45dfd3d87dff3e3.vega-embed {\n",
       "    width: 100%;\n",
       "    display: flex;\n",
       "  }\n",
       "\n",
       "  #altair-viz-b3891cf65f284ffca45dfd3d87dff3e3.vega-embed details,\n",
       "  #altair-viz-b3891cf65f284ffca45dfd3d87dff3e3.vega-embed details summary {\n",
       "    position: relative;\n",
       "  }\n",
       "</style>\n",
       "<div id=\"altair-viz-b3891cf65f284ffca45dfd3d87dff3e3\"></div>\n",
       "<script type=\"text/javascript\">\n",
       "  var VEGA_DEBUG = (typeof VEGA_DEBUG == \"undefined\") ? {} : VEGA_DEBUG;\n",
       "  (function(spec, embedOpt){\n",
       "    let outputDiv = document.currentScript.previousElementSibling;\n",
       "    if (outputDiv.id !== \"altair-viz-b3891cf65f284ffca45dfd3d87dff3e3\") {\n",
       "      outputDiv = document.getElementById(\"altair-viz-b3891cf65f284ffca45dfd3d87dff3e3\");\n",
       "    }\n",
       "    const paths = {\n",
       "      \"vega\": \"https://cdn.jsdelivr.net/npm/vega@5?noext\",\n",
       "      \"vega-lib\": \"https://cdn.jsdelivr.net/npm/vega-lib?noext\",\n",
       "      \"vega-lite\": \"https://cdn.jsdelivr.net/npm/vega-lite@5.17.0?noext\",\n",
       "      \"vega-embed\": \"https://cdn.jsdelivr.net/npm/vega-embed@6?noext\",\n",
       "    };\n",
       "\n",
       "    function maybeLoadScript(lib, version) {\n",
       "      var key = `${lib.replace(\"-\", \"\")}_version`;\n",
       "      return (VEGA_DEBUG[key] == version) ?\n",
       "        Promise.resolve(paths[lib]) :\n",
       "        new Promise(function(resolve, reject) {\n",
       "          var s = document.createElement('script');\n",
       "          document.getElementsByTagName(\"head\")[0].appendChild(s);\n",
       "          s.async = true;\n",
       "          s.onload = () => {\n",
       "            VEGA_DEBUG[key] = version;\n",
       "            return resolve(paths[lib]);\n",
       "          };\n",
       "          s.onerror = () => reject(`Error loading script: ${paths[lib]}`);\n",
       "          s.src = paths[lib];\n",
       "        });\n",
       "    }\n",
       "\n",
       "    function showError(err) {\n",
       "      outputDiv.innerHTML = `<div class=\"error\" style=\"color:red;\">${err}</div>`;\n",
       "      throw err;\n",
       "    }\n",
       "\n",
       "    function displayChart(vegaEmbed) {\n",
       "      vegaEmbed(outputDiv, spec, embedOpt)\n",
       "        .catch(err => showError(`Javascript Error: ${err.message}<br>This usually means there's a typo in your chart specification. See the javascript console for the full traceback.`));\n",
       "    }\n",
       "\n",
       "    if(typeof define === \"function\" && define.amd) {\n",
       "      requirejs.config({paths});\n",
       "      require([\"vega-embed\"], displayChart, err => showError(`Error loading script: ${err.message}`));\n",
       "    } else {\n",
       "      maybeLoadScript(\"vega\", \"5\")\n",
       "        .then(() => maybeLoadScript(\"vega-lite\", \"5.17.0\"))\n",
       "        .then(() => maybeLoadScript(\"vega-embed\", \"6\"))\n",
       "        .catch(showError)\n",
       "        .then(() => displayChart(vegaEmbed));\n",
       "    }\n",
       "  })({\"config\": {\"view\": {\"continuousWidth\": 300, \"continuousHeight\": 300}, \"axis\": {\"grid\": false}}, \"data\": {\"name\": \"data-7eb84dc9e34185c1fc9e5de55d5d2a7c\"}, \"mark\": {\"type\": \"rect\"}, \"encoding\": {\"color\": {\"field\": \"SPLIT\", \"legend\": {\"direction\": \"horizontal\", \"orient\": \"bottom\", \"tickCount\": 5, \"titleOrient\": \"top\"}, \"scale\": {\"nice\": true, \"scheme\": \"darkred\", \"type\": \"ordinal\"}, \"type\": \"ordinal\"}, \"opacity\": {\"value\": 1}, \"x\": {\"axis\": {\"labelAngle\": 0, \"orient\": \"top\"}, \"field\": \"ITEM\", \"type\": \"nominal\"}, \"y\": {\"axis\": {\"orient\": \"left\"}, \"field\": \"USER\", \"type\": \"nominal\"}}, \"height\": 300, \"width\": 180, \"$schema\": \"https://vega.github.io/schema/vega-lite/v5.17.0.json\", \"datasets\": {\"data-7eb84dc9e34185c1fc9e5de55d5d2a7c\": [{\"user_id\": 2, \"movie_id\": 50, \"RATING\": 5, \"TIMESTAMP\": 888552084, \"USER\": 1, \"ITEM\": 1, \"split_index\": 0, \"SPLIT\": \"train\"}, {\"user_id\": 8, \"movie_id\": 50, \"RATING\": 5, \"TIMESTAMP\": 879362124, \"USER\": 4, \"ITEM\": 1, \"split_index\": 0, \"SPLIT\": \"train\"}, {\"user_id\": 6, \"movie_id\": 95, \"RATING\": 2, \"TIMESTAMP\": 883602133, \"USER\": 2, \"ITEM\": 4, \"split_index\": 0, \"SPLIT\": \"train\"}, {\"user_id\": 1, \"movie_id\": 82, \"RATING\": 5, \"TIMESTAMP\": 878542589, \"USER\": 0, \"ITEM\": 3, \"split_index\": 0, \"SPLIT\": \"train\"}, {\"user_id\": 12, \"movie_id\": 82, \"RATING\": 4, \"TIMESTAMP\": 879959610, \"USER\": 6, \"ITEM\": 3, \"split_index\": 0, \"SPLIT\": \"train\"}, {\"user_id\": 12, \"movie_id\": 71, \"RATING\": 4, \"TIMESTAMP\": 879959635, \"USER\": 6, \"ITEM\": 2, \"split_index\": 0, \"SPLIT\": \"train\"}, {\"user_id\": 7, \"movie_id\": 82, \"RATING\": 3, \"TIMESTAMP\": 891351471, \"USER\": 3, \"ITEM\": 3, \"split_index\": 0, \"SPLIT\": \"train\"}, {\"user_id\": 13, \"movie_id\": 71, \"RATING\": 4, \"TIMESTAMP\": 882398654, \"USER\": 7, \"ITEM\": 2, \"split_index\": 0, \"SPLIT\": \"train\"}, {\"user_id\": 10, \"movie_id\": 176, \"RATING\": 4, \"TIMESTAMP\": 877889130, \"USER\": 5, \"ITEM\": 5, \"split_index\": 0, \"SPLIT\": \"train\"}, {\"user_id\": 14, \"movie_id\": 176, \"RATING\": 1, \"TIMESTAMP\": 890881484, \"USER\": 8, \"ITEM\": 5, \"split_index\": 0, \"SPLIT\": \"train\"}, {\"user_id\": 8, \"movie_id\": 176, \"RATING\": 5, \"TIMESTAMP\": 879362233, \"USER\": 4, \"ITEM\": 5, \"split_index\": 0, \"SPLIT\": \"train\"}, {\"user_id\": 14, \"movie_id\": 50, \"RATING\": 5, \"TIMESTAMP\": 890881557, \"USER\": 8, \"ITEM\": 1, \"split_index\": 0, \"SPLIT\": \"train\"}, {\"user_id\": 12, \"movie_id\": 50, \"RATING\": 4, \"TIMESTAMP\": 879959044, \"USER\": 6, \"ITEM\": 1, \"split_index\": 0, \"SPLIT\": \"train\"}, {\"user_id\": 10, \"movie_id\": 1, \"RATING\": 4, \"TIMESTAMP\": 877888877, \"USER\": 5, \"ITEM\": 0, \"split_index\": 0, \"SPLIT\": \"train\"}, {\"user_id\": 7, \"movie_id\": 176, \"RATING\": 3, \"TIMESTAMP\": 891350782, \"USER\": 3, \"ITEM\": 5, \"split_index\": 0, \"SPLIT\": \"train\"}, {\"user_id\": 10, \"movie_id\": 82, \"RATING\": 4, \"TIMESTAMP\": 877886912, \"USER\": 5, \"ITEM\": 3, \"split_index\": 0, \"SPLIT\": \"train\"}, {\"user_id\": 10, \"movie_id\": 50, \"RATING\": 5, \"TIMESTAMP\": 877888545, \"USER\": 5, \"ITEM\": 1, \"split_index\": 0, \"SPLIT\": \"train\"}, {\"user_id\": 1, \"movie_id\": 176, \"RATING\": 5, \"TIMESTAMP\": 876892468, \"USER\": 0, \"ITEM\": 5, \"split_index\": 0, \"SPLIT\": \"train\"}, {\"user_id\": 6, \"movie_id\": 50, \"RATING\": 4, \"TIMESTAMP\": 883600842, \"USER\": 2, \"ITEM\": 1, \"split_index\": 0, \"SPLIT\": \"train\"}, {\"user_id\": 16, \"movie_id\": 95, \"RATING\": 5, \"TIMESTAMP\": 877728417, \"USER\": 9, \"ITEM\": 4, \"split_index\": 0, \"SPLIT\": \"train\"}, {\"user_id\": 2, \"movie_id\": 1, \"RATING\": 4, \"TIMESTAMP\": 888550871, \"USER\": 1, \"ITEM\": 0, \"split_index\": 0, \"SPLIT\": \"train\"}, {\"user_id\": 13, \"movie_id\": 95, \"RATING\": 5, \"TIMESTAMP\": 882140104, \"USER\": 7, \"ITEM\": 4, \"split_index\": 0, \"SPLIT\": \"train\"}, {\"user_id\": 8, \"movie_id\": 82, \"RATING\": 5, \"TIMESTAMP\": 879362356, \"USER\": 4, \"ITEM\": 3, \"split_index\": 1, \"SPLIT\": \"test\"}, {\"user_id\": 13, \"movie_id\": 1, \"RATING\": 3, \"TIMESTAMP\": 882140487, \"USER\": 7, \"ITEM\": 0, \"split_index\": 1, \"SPLIT\": \"test\"}, {\"user_id\": 1, \"movie_id\": 1, \"RATING\": 5, \"TIMESTAMP\": 874965758, \"USER\": 0, \"ITEM\": 0, \"split_index\": 1, \"SPLIT\": \"test\"}, {\"user_id\": 16, \"movie_id\": 1, \"RATING\": 5, \"TIMESTAMP\": 877717833, \"USER\": 9, \"ITEM\": 0, \"split_index\": 1, \"SPLIT\": \"test\"}, {\"user_id\": 1, \"movie_id\": 71, \"RATING\": 3, \"TIMESTAMP\": 876892425, \"USER\": 0, \"ITEM\": 2, \"split_index\": 1, \"SPLIT\": \"test\"}, {\"user_id\": 6, \"movie_id\": 71, \"RATING\": 4, \"TIMESTAMP\": 883601053, \"USER\": 2, \"ITEM\": 2, \"split_index\": 1, \"SPLIT\": \"test\"}, {\"user_id\": 1, \"movie_id\": 50, \"RATING\": 5, \"TIMESTAMP\": 874965954, \"USER\": 0, \"ITEM\": 1, \"split_index\": 1, \"SPLIT\": \"test\"}, {\"user_id\": 13, \"movie_id\": 82, \"RATING\": 2, \"TIMESTAMP\": 882397503, \"USER\": 7, \"ITEM\": 3, \"split_index\": 1, \"SPLIT\": \"test\"}, {\"user_id\": 13, \"movie_id\": 50, \"RATING\": 5, \"TIMESTAMP\": 882140001, \"USER\": 7, \"ITEM\": 1, \"split_index\": 1, \"SPLIT\": \"test\"}, {\"user_id\": 6, \"movie_id\": 1, \"RATING\": 4, \"TIMESTAMP\": 883599478, \"USER\": 2, \"ITEM\": 0, \"split_index\": 1, \"SPLIT\": \"test\"}, {\"user_id\": 16, \"movie_id\": 71, \"RATING\": 5, \"TIMESTAMP\": 877721071, \"USER\": 9, \"ITEM\": 2, \"split_index\": 1, \"SPLIT\": \"test\"}, {\"user_id\": 7, \"movie_id\": 71, \"RATING\": 5, \"TIMESTAMP\": 891352692, \"USER\": 3, \"ITEM\": 2, \"split_index\": 1, \"SPLIT\": \"test\"}, {\"user_id\": 1, \"movie_id\": 95, \"RATING\": 4, \"TIMESTAMP\": 875072303, \"USER\": 0, \"ITEM\": 4, \"split_index\": 1, \"SPLIT\": \"test\"}, {\"user_id\": 13, \"movie_id\": 176, \"RATING\": 3, \"TIMESTAMP\": 882140455, \"USER\": 7, \"ITEM\": 5, \"split_index\": 1, \"SPLIT\": \"test\"}, {\"user_id\": 7, \"movie_id\": 50, \"RATING\": 5, \"TIMESTAMP\": 891351042, \"USER\": 3, \"ITEM\": 1, \"split_index\": 1, \"SPLIT\": \"test\"}]}}, {\"mode\": \"vega-lite\"});\n",
       "</script>"
      ],
      "text/plain": [
       "alt.Chart(...)"
      ]
     },
     "execution_count": 15,
     "metadata": {},
     "output_type": "execute_result"
    }
   ],
   "source": [
    "TrainTestVis(train, test)"
   ]
  },
  {
   "cell_type": "markdown",
   "metadata": {},
   "source": [
    "## Build Model"
   ]
  },
  {
   "cell_type": "code",
   "execution_count": 16,
   "metadata": {},
   "outputs": [],
   "source": [
    "from recoflow.models import ExplicitMatrixFactorisationBias"
   ]
  },
  {
   "cell_type": "code",
   "execution_count": 17,
   "metadata": {},
   "outputs": [],
   "source": [
    "n_factors = 2\n",
    "model = ExplicitMatrixFactorisationBias(n_users, n_items, n_factors, max_rating, min_rating)"
   ]
  },
  {
   "cell_type": "code",
   "execution_count": 18,
   "metadata": {},
   "outputs": [
    {
     "data": {
      "text/html": [
       "<pre style=\"white-space:pre;overflow-x:auto;line-height:normal;font-family:Menlo,'DejaVu Sans Mono',consolas,'Courier New',monospace\"><span style=\"font-weight: bold\">Model: \"ExplicitMatrixFactorisationBias\"</span>\n",
       "</pre>\n"
      ],
      "text/plain": [
       "\u001b[1mModel: \"ExplicitMatrixFactorisationBias\"\u001b[0m\n"
      ]
     },
     "metadata": {},
     "output_type": "display_data"
    },
    {
     "data": {
      "text/html": [
       "<pre style=\"white-space:pre;overflow-x:auto;line-height:normal;font-family:Menlo,'DejaVu Sans Mono',consolas,'Courier New',monospace\">┏━━━━━━━━━━━━━━━━━━━━━━━━━━━━━━━┳━━━━━━━━━━━━━━━━━━━━━━━━━━━┳━━━━━━━━━━━━━━━━━┳━━━━━━━━━━━━━━━━━━━━━━━━━━━━┓\n",
       "┃<span style=\"font-weight: bold\"> Layer (type)                  </span>┃<span style=\"font-weight: bold\"> Output Shape              </span>┃<span style=\"font-weight: bold\">         Param # </span>┃<span style=\"font-weight: bold\"> Connected to               </span>┃\n",
       "┡━━━━━━━━━━━━━━━━━━━━━━━━━━━━━━━╇━━━━━━━━━━━━━━━━━━━━━━━━━━━╇━━━━━━━━━━━━━━━━━╇━━━━━━━━━━━━━━━━━━━━━━━━━━━━┩\n",
       "│ Item (<span style=\"color: #0087ff; text-decoration-color: #0087ff\">InputLayer</span>)             │ (<span style=\"color: #00d7ff; text-decoration-color: #00d7ff\">None</span>, <span style=\"color: #00af00; text-decoration-color: #00af00\">1</span>)                 │               <span style=\"color: #00af00; text-decoration-color: #00af00\">0</span> │ -                          │\n",
       "├───────────────────────────────┼───────────────────────────┼─────────────────┼────────────────────────────┤\n",
       "│ User (<span style=\"color: #0087ff; text-decoration-color: #0087ff\">InputLayer</span>)             │ (<span style=\"color: #00d7ff; text-decoration-color: #00d7ff\">None</span>, <span style=\"color: #00af00; text-decoration-color: #00af00\">1</span>)                 │               <span style=\"color: #00af00; text-decoration-color: #00af00\">0</span> │ -                          │\n",
       "├───────────────────────────────┼───────────────────────────┼─────────────────┼────────────────────────────┤\n",
       "│ ItemEmbedding (<span style=\"color: #0087ff; text-decoration-color: #0087ff\">Embedding</span>)     │ (<span style=\"color: #00d7ff; text-decoration-color: #00d7ff\">None</span>, <span style=\"color: #00af00; text-decoration-color: #00af00\">1</span>, <span style=\"color: #00af00; text-decoration-color: #00af00\">2</span>)              │              <span style=\"color: #00af00; text-decoration-color: #00af00\">12</span> │ Item[<span style=\"color: #00af00; text-decoration-color: #00af00\">0</span>][<span style=\"color: #00af00; text-decoration-color: #00af00\">0</span>]                 │\n",
       "├───────────────────────────────┼───────────────────────────┼─────────────────┼────────────────────────────┤\n",
       "│ UserEmbedding (<span style=\"color: #0087ff; text-decoration-color: #0087ff\">Embedding</span>)     │ (<span style=\"color: #00d7ff; text-decoration-color: #00d7ff\">None</span>, <span style=\"color: #00af00; text-decoration-color: #00af00\">1</span>, <span style=\"color: #00af00; text-decoration-color: #00af00\">2</span>)              │              <span style=\"color: #00af00; text-decoration-color: #00af00\">20</span> │ User[<span style=\"color: #00af00; text-decoration-color: #00af00\">0</span>][<span style=\"color: #00af00; text-decoration-color: #00af00\">0</span>]                 │\n",
       "├───────────────────────────────┼───────────────────────────┼─────────────────┼────────────────────────────┤\n",
       "│ FlattenItemE (<span style=\"color: #0087ff; text-decoration-color: #0087ff\">Flatten</span>)        │ (<span style=\"color: #00d7ff; text-decoration-color: #00d7ff\">None</span>, <span style=\"color: #00af00; text-decoration-color: #00af00\">2</span>)                 │               <span style=\"color: #00af00; text-decoration-color: #00af00\">0</span> │ ItemEmbedding[<span style=\"color: #00af00; text-decoration-color: #00af00\">0</span>][<span style=\"color: #00af00; text-decoration-color: #00af00\">0</span>]        │\n",
       "├───────────────────────────────┼───────────────────────────┼─────────────────┼────────────────────────────┤\n",
       "│ FlattenUserE (<span style=\"color: #0087ff; text-decoration-color: #0087ff\">Flatten</span>)        │ (<span style=\"color: #00d7ff; text-decoration-color: #00d7ff\">None</span>, <span style=\"color: #00af00; text-decoration-color: #00af00\">2</span>)                 │               <span style=\"color: #00af00; text-decoration-color: #00af00\">0</span> │ UserEmbedding[<span style=\"color: #00af00; text-decoration-color: #00af00\">0</span>][<span style=\"color: #00af00; text-decoration-color: #00af00\">0</span>]        │\n",
       "├───────────────────────────────┼───────────────────────────┼─────────────────┼────────────────────────────┤\n",
       "│ ItemBias (<span style=\"color: #0087ff; text-decoration-color: #0087ff\">Embedding</span>)          │ (<span style=\"color: #00d7ff; text-decoration-color: #00d7ff\">None</span>, <span style=\"color: #00af00; text-decoration-color: #00af00\">1</span>, <span style=\"color: #00af00; text-decoration-color: #00af00\">1</span>)              │               <span style=\"color: #00af00; text-decoration-color: #00af00\">6</span> │ Item[<span style=\"color: #00af00; text-decoration-color: #00af00\">0</span>][<span style=\"color: #00af00; text-decoration-color: #00af00\">0</span>]                 │\n",
       "├───────────────────────────────┼───────────────────────────┼─────────────────┼────────────────────────────┤\n",
       "│ UserBias (<span style=\"color: #0087ff; text-decoration-color: #0087ff\">Embedding</span>)          │ (<span style=\"color: #00d7ff; text-decoration-color: #00d7ff\">None</span>, <span style=\"color: #00af00; text-decoration-color: #00af00\">1</span>, <span style=\"color: #00af00; text-decoration-color: #00af00\">1</span>)              │              <span style=\"color: #00af00; text-decoration-color: #00af00\">10</span> │ User[<span style=\"color: #00af00; text-decoration-color: #00af00\">0</span>][<span style=\"color: #00af00; text-decoration-color: #00af00\">0</span>]                 │\n",
       "├───────────────────────────────┼───────────────────────────┼─────────────────┼────────────────────────────┤\n",
       "│ DotProduct (<span style=\"color: #0087ff; text-decoration-color: #0087ff\">Dot</span>)              │ (<span style=\"color: #00d7ff; text-decoration-color: #00d7ff\">None</span>, <span style=\"color: #00af00; text-decoration-color: #00af00\">1</span>)                 │               <span style=\"color: #00af00; text-decoration-color: #00af00\">0</span> │ FlattenItemE[<span style=\"color: #00af00; text-decoration-color: #00af00\">0</span>][<span style=\"color: #00af00; text-decoration-color: #00af00\">0</span>],        │\n",
       "│                               │                           │                 │ FlattenUserE[<span style=\"color: #00af00; text-decoration-color: #00af00\">0</span>][<span style=\"color: #00af00; text-decoration-color: #00af00\">0</span>]         │\n",
       "├───────────────────────────────┼───────────────────────────┼─────────────────┼────────────────────────────┤\n",
       "│ FlattenItemBiasE (<span style=\"color: #0087ff; text-decoration-color: #0087ff\">Flatten</span>)    │ (<span style=\"color: #00d7ff; text-decoration-color: #00d7ff\">None</span>, <span style=\"color: #00af00; text-decoration-color: #00af00\">1</span>)                 │               <span style=\"color: #00af00; text-decoration-color: #00af00\">0</span> │ ItemBias[<span style=\"color: #00af00; text-decoration-color: #00af00\">0</span>][<span style=\"color: #00af00; text-decoration-color: #00af00\">0</span>]             │\n",
       "├───────────────────────────────┼───────────────────────────┼─────────────────┼────────────────────────────┤\n",
       "│ FlattenUserBiasE (<span style=\"color: #0087ff; text-decoration-color: #0087ff\">Flatten</span>)    │ (<span style=\"color: #00d7ff; text-decoration-color: #00d7ff\">None</span>, <span style=\"color: #00af00; text-decoration-color: #00af00\">1</span>)                 │               <span style=\"color: #00af00; text-decoration-color: #00af00\">0</span> │ UserBias[<span style=\"color: #00af00; text-decoration-color: #00af00\">0</span>][<span style=\"color: #00af00; text-decoration-color: #00af00\">0</span>]             │\n",
       "├───────────────────────────────┼───────────────────────────┼─────────────────┼────────────────────────────┤\n",
       "│ AddBias (<span style=\"color: #0087ff; text-decoration-color: #0087ff\">Add</span>)                 │ (<span style=\"color: #00d7ff; text-decoration-color: #00d7ff\">None</span>, <span style=\"color: #00af00; text-decoration-color: #00af00\">1</span>)                 │               <span style=\"color: #00af00; text-decoration-color: #00af00\">0</span> │ DotProduct[<span style=\"color: #00af00; text-decoration-color: #00af00\">0</span>][<span style=\"color: #00af00; text-decoration-color: #00af00\">0</span>],          │\n",
       "│                               │                           │                 │ FlattenItemBiasE[<span style=\"color: #00af00; text-decoration-color: #00af00\">0</span>][<span style=\"color: #00af00; text-decoration-color: #00af00\">0</span>],    │\n",
       "│                               │                           │                 │ FlattenUserBiasE[<span style=\"color: #00af00; text-decoration-color: #00af00\">0</span>][<span style=\"color: #00af00; text-decoration-color: #00af00\">0</span>]     │\n",
       "├───────────────────────────────┼───────────────────────────┼─────────────────┼────────────────────────────┤\n",
       "│ activation (<span style=\"color: #0087ff; text-decoration-color: #0087ff\">Activation</span>)       │ (<span style=\"color: #00d7ff; text-decoration-color: #00d7ff\">None</span>, <span style=\"color: #00af00; text-decoration-color: #00af00\">1</span>)                 │               <span style=\"color: #00af00; text-decoration-color: #00af00\">0</span> │ AddBias[<span style=\"color: #00af00; text-decoration-color: #00af00\">0</span>][<span style=\"color: #00af00; text-decoration-color: #00af00\">0</span>]              │\n",
       "├───────────────────────────────┼───────────────────────────┼─────────────────┼────────────────────────────┤\n",
       "│ lambda (<span style=\"color: #0087ff; text-decoration-color: #0087ff\">Lambda</span>)               │ (<span style=\"color: #00d7ff; text-decoration-color: #00d7ff\">None</span>, <span style=\"color: #00af00; text-decoration-color: #00af00\">1</span>)                 │               <span style=\"color: #00af00; text-decoration-color: #00af00\">0</span> │ activation[<span style=\"color: #00af00; text-decoration-color: #00af00\">0</span>][<span style=\"color: #00af00; text-decoration-color: #00af00\">0</span>]           │\n",
       "└───────────────────────────────┴───────────────────────────┴─────────────────┴────────────────────────────┘\n",
       "</pre>\n"
      ],
      "text/plain": [
       "┏━━━━━━━━━━━━━━━━━━━━━━━━━━━━━━━┳━━━━━━━━━━━━━━━━━━━━━━━━━━━┳━━━━━━━━━━━━━━━━━┳━━━━━━━━━━━━━━━━━━━━━━━━━━━━┓\n",
       "┃\u001b[1m \u001b[0m\u001b[1mLayer (type)                 \u001b[0m\u001b[1m \u001b[0m┃\u001b[1m \u001b[0m\u001b[1mOutput Shape             \u001b[0m\u001b[1m \u001b[0m┃\u001b[1m \u001b[0m\u001b[1m        Param #\u001b[0m\u001b[1m \u001b[0m┃\u001b[1m \u001b[0m\u001b[1mConnected to              \u001b[0m\u001b[1m \u001b[0m┃\n",
       "┡━━━━━━━━━━━━━━━━━━━━━━━━━━━━━━━╇━━━━━━━━━━━━━━━━━━━━━━━━━━━╇━━━━━━━━━━━━━━━━━╇━━━━━━━━━━━━━━━━━━━━━━━━━━━━┩\n",
       "│ Item (\u001b[38;5;33mInputLayer\u001b[0m)             │ (\u001b[38;5;45mNone\u001b[0m, \u001b[38;5;34m1\u001b[0m)                 │               \u001b[38;5;34m0\u001b[0m │ -                          │\n",
       "├───────────────────────────────┼───────────────────────────┼─────────────────┼────────────────────────────┤\n",
       "│ User (\u001b[38;5;33mInputLayer\u001b[0m)             │ (\u001b[38;5;45mNone\u001b[0m, \u001b[38;5;34m1\u001b[0m)                 │               \u001b[38;5;34m0\u001b[0m │ -                          │\n",
       "├───────────────────────────────┼───────────────────────────┼─────────────────┼────────────────────────────┤\n",
       "│ ItemEmbedding (\u001b[38;5;33mEmbedding\u001b[0m)     │ (\u001b[38;5;45mNone\u001b[0m, \u001b[38;5;34m1\u001b[0m, \u001b[38;5;34m2\u001b[0m)              │              \u001b[38;5;34m12\u001b[0m │ Item[\u001b[38;5;34m0\u001b[0m][\u001b[38;5;34m0\u001b[0m]                 │\n",
       "├───────────────────────────────┼───────────────────────────┼─────────────────┼────────────────────────────┤\n",
       "│ UserEmbedding (\u001b[38;5;33mEmbedding\u001b[0m)     │ (\u001b[38;5;45mNone\u001b[0m, \u001b[38;5;34m1\u001b[0m, \u001b[38;5;34m2\u001b[0m)              │              \u001b[38;5;34m20\u001b[0m │ User[\u001b[38;5;34m0\u001b[0m][\u001b[38;5;34m0\u001b[0m]                 │\n",
       "├───────────────────────────────┼───────────────────────────┼─────────────────┼────────────────────────────┤\n",
       "│ FlattenItemE (\u001b[38;5;33mFlatten\u001b[0m)        │ (\u001b[38;5;45mNone\u001b[0m, \u001b[38;5;34m2\u001b[0m)                 │               \u001b[38;5;34m0\u001b[0m │ ItemEmbedding[\u001b[38;5;34m0\u001b[0m][\u001b[38;5;34m0\u001b[0m]        │\n",
       "├───────────────────────────────┼───────────────────────────┼─────────────────┼────────────────────────────┤\n",
       "│ FlattenUserE (\u001b[38;5;33mFlatten\u001b[0m)        │ (\u001b[38;5;45mNone\u001b[0m, \u001b[38;5;34m2\u001b[0m)                 │               \u001b[38;5;34m0\u001b[0m │ UserEmbedding[\u001b[38;5;34m0\u001b[0m][\u001b[38;5;34m0\u001b[0m]        │\n",
       "├───────────────────────────────┼───────────────────────────┼─────────────────┼────────────────────────────┤\n",
       "│ ItemBias (\u001b[38;5;33mEmbedding\u001b[0m)          │ (\u001b[38;5;45mNone\u001b[0m, \u001b[38;5;34m1\u001b[0m, \u001b[38;5;34m1\u001b[0m)              │               \u001b[38;5;34m6\u001b[0m │ Item[\u001b[38;5;34m0\u001b[0m][\u001b[38;5;34m0\u001b[0m]                 │\n",
       "├───────────────────────────────┼───────────────────────────┼─────────────────┼────────────────────────────┤\n",
       "│ UserBias (\u001b[38;5;33mEmbedding\u001b[0m)          │ (\u001b[38;5;45mNone\u001b[0m, \u001b[38;5;34m1\u001b[0m, \u001b[38;5;34m1\u001b[0m)              │              \u001b[38;5;34m10\u001b[0m │ User[\u001b[38;5;34m0\u001b[0m][\u001b[38;5;34m0\u001b[0m]                 │\n",
       "├───────────────────────────────┼───────────────────────────┼─────────────────┼────────────────────────────┤\n",
       "│ DotProduct (\u001b[38;5;33mDot\u001b[0m)              │ (\u001b[38;5;45mNone\u001b[0m, \u001b[38;5;34m1\u001b[0m)                 │               \u001b[38;5;34m0\u001b[0m │ FlattenItemE[\u001b[38;5;34m0\u001b[0m][\u001b[38;5;34m0\u001b[0m],        │\n",
       "│                               │                           │                 │ FlattenUserE[\u001b[38;5;34m0\u001b[0m][\u001b[38;5;34m0\u001b[0m]         │\n",
       "├───────────────────────────────┼───────────────────────────┼─────────────────┼────────────────────────────┤\n",
       "│ FlattenItemBiasE (\u001b[38;5;33mFlatten\u001b[0m)    │ (\u001b[38;5;45mNone\u001b[0m, \u001b[38;5;34m1\u001b[0m)                 │               \u001b[38;5;34m0\u001b[0m │ ItemBias[\u001b[38;5;34m0\u001b[0m][\u001b[38;5;34m0\u001b[0m]             │\n",
       "├───────────────────────────────┼───────────────────────────┼─────────────────┼────────────────────────────┤\n",
       "│ FlattenUserBiasE (\u001b[38;5;33mFlatten\u001b[0m)    │ (\u001b[38;5;45mNone\u001b[0m, \u001b[38;5;34m1\u001b[0m)                 │               \u001b[38;5;34m0\u001b[0m │ UserBias[\u001b[38;5;34m0\u001b[0m][\u001b[38;5;34m0\u001b[0m]             │\n",
       "├───────────────────────────────┼───────────────────────────┼─────────────────┼────────────────────────────┤\n",
       "│ AddBias (\u001b[38;5;33mAdd\u001b[0m)                 │ (\u001b[38;5;45mNone\u001b[0m, \u001b[38;5;34m1\u001b[0m)                 │               \u001b[38;5;34m0\u001b[0m │ DotProduct[\u001b[38;5;34m0\u001b[0m][\u001b[38;5;34m0\u001b[0m],          │\n",
       "│                               │                           │                 │ FlattenItemBiasE[\u001b[38;5;34m0\u001b[0m][\u001b[38;5;34m0\u001b[0m],    │\n",
       "│                               │                           │                 │ FlattenUserBiasE[\u001b[38;5;34m0\u001b[0m][\u001b[38;5;34m0\u001b[0m]     │\n",
       "├───────────────────────────────┼───────────────────────────┼─────────────────┼────────────────────────────┤\n",
       "│ activation (\u001b[38;5;33mActivation\u001b[0m)       │ (\u001b[38;5;45mNone\u001b[0m, \u001b[38;5;34m1\u001b[0m)                 │               \u001b[38;5;34m0\u001b[0m │ AddBias[\u001b[38;5;34m0\u001b[0m][\u001b[38;5;34m0\u001b[0m]              │\n",
       "├───────────────────────────────┼───────────────────────────┼─────────────────┼────────────────────────────┤\n",
       "│ lambda (\u001b[38;5;33mLambda\u001b[0m)               │ (\u001b[38;5;45mNone\u001b[0m, \u001b[38;5;34m1\u001b[0m)                 │               \u001b[38;5;34m0\u001b[0m │ activation[\u001b[38;5;34m0\u001b[0m][\u001b[38;5;34m0\u001b[0m]           │\n",
       "└───────────────────────────────┴───────────────────────────┴─────────────────┴────────────────────────────┘\n"
      ]
     },
     "metadata": {},
     "output_type": "display_data"
    },
    {
     "data": {
      "text/html": [
       "<pre style=\"white-space:pre;overflow-x:auto;line-height:normal;font-family:Menlo,'DejaVu Sans Mono',consolas,'Courier New',monospace\"><span style=\"font-weight: bold\"> Total params: </span><span style=\"color: #00af00; text-decoration-color: #00af00\">48</span> (192.00 B)\n",
       "</pre>\n"
      ],
      "text/plain": [
       "\u001b[1m Total params: \u001b[0m\u001b[38;5;34m48\u001b[0m (192.00 B)\n"
      ]
     },
     "metadata": {},
     "output_type": "display_data"
    },
    {
     "data": {
      "text/html": [
       "<pre style=\"white-space:pre;overflow-x:auto;line-height:normal;font-family:Menlo,'DejaVu Sans Mono',consolas,'Courier New',monospace\"><span style=\"font-weight: bold\"> Trainable params: </span><span style=\"color: #00af00; text-decoration-color: #00af00\">48</span> (192.00 B)\n",
       "</pre>\n"
      ],
      "text/plain": [
       "\u001b[1m Trainable params: \u001b[0m\u001b[38;5;34m48\u001b[0m (192.00 B)\n"
      ]
     },
     "metadata": {},
     "output_type": "display_data"
    },
    {
     "data": {
      "text/html": [
       "<pre style=\"white-space:pre;overflow-x:auto;line-height:normal;font-family:Menlo,'DejaVu Sans Mono',consolas,'Courier New',monospace\"><span style=\"font-weight: bold\"> Non-trainable params: </span><span style=\"color: #00af00; text-decoration-color: #00af00\">0</span> (0.00 B)\n",
       "</pre>\n"
      ],
      "text/plain": [
       "\u001b[1m Non-trainable params: \u001b[0m\u001b[38;5;34m0\u001b[0m (0.00 B)\n"
      ]
     },
     "metadata": {},
     "output_type": "display_data"
    }
   ],
   "source": [
    "model.summary()"
   ]
  },
  {
   "cell_type": "code",
   "execution_count": 19,
   "metadata": {},
   "outputs": [
    {
     "name": "stdout",
     "output_type": "stream",
     "text": [
      "Wall time: 21.9 s\n"
     ]
    }
   ],
   "source": [
    "%%time\n",
    "output = model.fit([train.USER, train.ITEM], train.RATING, shuffle=True, batch_size=1, epochs=100, verbose=0, \n",
    "                   validation_data=([test.USER, test.ITEM], test.RATING))"
   ]
  },
  {
   "cell_type": "code",
   "execution_count": 20,
   "metadata": {},
   "outputs": [],
   "source": [
    "from recoflow.vis import MetricsVis"
   ]
  },
  {
   "cell_type": "code",
   "execution_count": 21,
   "metadata": {},
   "outputs": [
    {
     "data": {
      "text/html": [
       "\n",
       "<style>\n",
       "  #altair-viz-ffea53483ab241298f7a9e37c3591891.vega-embed {\n",
       "    width: 100%;\n",
       "    display: flex;\n",
       "  }\n",
       "\n",
       "  #altair-viz-ffea53483ab241298f7a9e37c3591891.vega-embed details,\n",
       "  #altair-viz-ffea53483ab241298f7a9e37c3591891.vega-embed details summary {\n",
       "    position: relative;\n",
       "  }\n",
       "</style>\n",
       "<div id=\"altair-viz-ffea53483ab241298f7a9e37c3591891\"></div>\n",
       "<script type=\"text/javascript\">\n",
       "  var VEGA_DEBUG = (typeof VEGA_DEBUG == \"undefined\") ? {} : VEGA_DEBUG;\n",
       "  (function(spec, embedOpt){\n",
       "    let outputDiv = document.currentScript.previousElementSibling;\n",
       "    if (outputDiv.id !== \"altair-viz-ffea53483ab241298f7a9e37c3591891\") {\n",
       "      outputDiv = document.getElementById(\"altair-viz-ffea53483ab241298f7a9e37c3591891\");\n",
       "    }\n",
       "    const paths = {\n",
       "      \"vega\": \"https://cdn.jsdelivr.net/npm/vega@5?noext\",\n",
       "      \"vega-lib\": \"https://cdn.jsdelivr.net/npm/vega-lib?noext\",\n",
       "      \"vega-lite\": \"https://cdn.jsdelivr.net/npm/vega-lite@5.17.0?noext\",\n",
       "      \"vega-embed\": \"https://cdn.jsdelivr.net/npm/vega-embed@6?noext\",\n",
       "    };\n",
       "\n",
       "    function maybeLoadScript(lib, version) {\n",
       "      var key = `${lib.replace(\"-\", \"\")}_version`;\n",
       "      return (VEGA_DEBUG[key] == version) ?\n",
       "        Promise.resolve(paths[lib]) :\n",
       "        new Promise(function(resolve, reject) {\n",
       "          var s = document.createElement('script');\n",
       "          document.getElementsByTagName(\"head\")[0].appendChild(s);\n",
       "          s.async = true;\n",
       "          s.onload = () => {\n",
       "            VEGA_DEBUG[key] = version;\n",
       "            return resolve(paths[lib]);\n",
       "          };\n",
       "          s.onerror = () => reject(`Error loading script: ${paths[lib]}`);\n",
       "          s.src = paths[lib];\n",
       "        });\n",
       "    }\n",
       "\n",
       "    function showError(err) {\n",
       "      outputDiv.innerHTML = `<div class=\"error\" style=\"color:red;\">${err}</div>`;\n",
       "      throw err;\n",
       "    }\n",
       "\n",
       "    function displayChart(vegaEmbed) {\n",
       "      vegaEmbed(outputDiv, spec, embedOpt)\n",
       "        .catch(err => showError(`Javascript Error: ${err.message}<br>This usually means there's a typo in your chart specification. See the javascript console for the full traceback.`));\n",
       "    }\n",
       "\n",
       "    if(typeof define === \"function\" && define.amd) {\n",
       "      requirejs.config({paths});\n",
       "      require([\"vega-embed\"], displayChart, err => showError(`Error loading script: ${err.message}`));\n",
       "    } else {\n",
       "      maybeLoadScript(\"vega\", \"5\")\n",
       "        .then(() => maybeLoadScript(\"vega-lite\", \"5.17.0\"))\n",
       "        .then(() => maybeLoadScript(\"vega-embed\", \"6\"))\n",
       "        .catch(showError)\n",
       "        .then(() => displayChart(vegaEmbed));\n",
       "    }\n",
       "  })({\"config\": {\"view\": {\"continuousWidth\": 300, \"continuousHeight\": 300}}, \"data\": {\"name\": \"data-ae7536497fce8573be3900594071ef1a\"}, \"facet\": {\"column\": {\"field\": \"metrics\", \"type\": \"nominal\"}}, \"spec\": {\"layer\": [{\"mark\": {\"type\": \"circle\", \"size\": 50}, \"encoding\": {\"color\": {\"field\": \"type\", \"type\": \"nominal\"}, \"tooltip\": [{\"field\": \"batch\", \"type\": \"quantitative\"}, {\"field\": \"value\", \"type\": \"quantitative\"}], \"x\": {\"field\": \"batch\", \"type\": \"quantitative\"}, \"y\": {\"field\": \"value\", \"type\": \"quantitative\"}}}, {\"mark\": {\"type\": \"line\"}, \"encoding\": {\"color\": {\"field\": \"type\", \"type\": \"nominal\"}, \"x\": {\"field\": \"batch\", \"type\": \"quantitative\"}, \"y\": {\"field\": \"value\", \"type\": \"quantitative\"}}}], \"height\": 300, \"width\": 300}, \"resolve\": {\"scale\": {\"y\": \"independent\"}}, \"$schema\": \"https://vega.github.io/schema/vega-lite/v5.17.0.json\", \"datasets\": {\"data-ae7536497fce8573be3900594071ef1a\": [{\"batch\": 1, \"value\": 2.2880003452301025, \"type\": \"training\", \"metrics\": \"loss\"}, {\"batch\": 2, \"value\": 2.254457473754883, \"type\": \"training\", \"metrics\": \"loss\"}, {\"batch\": 3, \"value\": 2.2199556827545166, \"type\": \"training\", \"metrics\": \"loss\"}, {\"batch\": 4, \"value\": 2.1892526149749756, \"type\": \"training\", \"metrics\": \"loss\"}, {\"batch\": 5, \"value\": 2.1555826663970947, \"type\": \"training\", \"metrics\": \"loss\"}, {\"batch\": 6, \"value\": 2.1229019165039062, \"type\": \"training\", \"metrics\": \"loss\"}, {\"batch\": 7, \"value\": 2.0908379554748535, \"type\": \"training\", \"metrics\": \"loss\"}, {\"batch\": 8, \"value\": 2.0596699714660645, \"type\": \"training\", \"metrics\": \"loss\"}, {\"batch\": 9, \"value\": 2.025930643081665, \"type\": \"training\", \"metrics\": \"loss\"}, {\"batch\": 10, \"value\": 1.996358036994934, \"type\": \"training\", \"metrics\": \"loss\"}, {\"batch\": 11, \"value\": 1.9638866186141968, \"type\": \"training\", \"metrics\": \"loss\"}, {\"batch\": 12, \"value\": 1.9311554431915283, \"type\": \"training\", \"metrics\": \"loss\"}, {\"batch\": 13, \"value\": 1.9021682739257812, \"type\": \"training\", \"metrics\": \"loss\"}, {\"batch\": 14, \"value\": 1.8680099248886108, \"type\": \"training\", \"metrics\": \"loss\"}, {\"batch\": 15, \"value\": 1.8362723588943481, \"type\": \"training\", \"metrics\": \"loss\"}, {\"batch\": 16, \"value\": 1.8042864799499512, \"type\": \"training\", \"metrics\": \"loss\"}, {\"batch\": 17, \"value\": 1.7747613191604614, \"type\": \"training\", \"metrics\": \"loss\"}, {\"batch\": 18, \"value\": 1.7408931255340576, \"type\": \"training\", \"metrics\": \"loss\"}, {\"batch\": 19, \"value\": 1.7097285985946655, \"type\": \"training\", \"metrics\": \"loss\"}, {\"batch\": 20, \"value\": 1.6771540641784668, \"type\": \"training\", \"metrics\": \"loss\"}, {\"batch\": 21, \"value\": 1.6444556713104248, \"type\": \"training\", \"metrics\": \"loss\"}, {\"batch\": 22, \"value\": 1.6126961708068848, \"type\": \"training\", \"metrics\": \"loss\"}, {\"batch\": 23, \"value\": 1.5805538892745972, \"type\": \"training\", \"metrics\": \"loss\"}, {\"batch\": 24, \"value\": 1.5477242469787598, \"type\": \"training\", \"metrics\": \"loss\"}, {\"batch\": 25, \"value\": 1.5169655084609985, \"type\": \"training\", \"metrics\": \"loss\"}, {\"batch\": 26, \"value\": 1.4839725494384766, \"type\": \"training\", \"metrics\": \"loss\"}, {\"batch\": 27, \"value\": 1.451990008354187, \"type\": \"training\", \"metrics\": \"loss\"}, {\"batch\": 28, \"value\": 1.421050786972046, \"type\": \"training\", \"metrics\": \"loss\"}, {\"batch\": 29, \"value\": 1.3887919187545776, \"type\": \"training\", \"metrics\": \"loss\"}, {\"batch\": 30, \"value\": 1.3563380241394043, \"type\": \"training\", \"metrics\": \"loss\"}, {\"batch\": 31, \"value\": 1.327072262763977, \"type\": \"training\", \"metrics\": \"loss\"}, {\"batch\": 32, \"value\": 1.2955979108810425, \"type\": \"training\", \"metrics\": \"loss\"}, {\"batch\": 33, \"value\": 1.2639946937561035, \"type\": \"training\", \"metrics\": \"loss\"}, {\"batch\": 34, \"value\": 1.2333014011383057, \"type\": \"training\", \"metrics\": \"loss\"}, {\"batch\": 35, \"value\": 1.2048259973526, \"type\": \"training\", \"metrics\": \"loss\"}, {\"batch\": 36, \"value\": 1.1744190454483032, \"type\": \"training\", \"metrics\": \"loss\"}, {\"batch\": 37, \"value\": 1.1457387208938599, \"type\": \"training\", \"metrics\": \"loss\"}, {\"batch\": 38, \"value\": 1.1176830530166626, \"type\": \"training\", \"metrics\": \"loss\"}, {\"batch\": 39, \"value\": 1.0894732475280762, \"type\": \"training\", \"metrics\": \"loss\"}, {\"batch\": 40, \"value\": 1.0631083250045776, \"type\": \"training\", \"metrics\": \"loss\"}, {\"batch\": 41, \"value\": 1.0379277467727661, \"type\": \"training\", \"metrics\": \"loss\"}, {\"batch\": 42, \"value\": 1.0090373754501343, \"type\": \"training\", \"metrics\": \"loss\"}, {\"batch\": 43, \"value\": 0.9853295683860779, \"type\": \"training\", \"metrics\": \"loss\"}, {\"batch\": 44, \"value\": 0.9584607481956482, \"type\": \"training\", \"metrics\": \"loss\"}, {\"batch\": 45, \"value\": 0.9334491491317749, \"type\": \"training\", \"metrics\": \"loss\"}, {\"batch\": 46, \"value\": 0.9095810055732727, \"type\": \"training\", \"metrics\": \"loss\"}, {\"batch\": 47, \"value\": 0.8859184384346008, \"type\": \"training\", \"metrics\": \"loss\"}, {\"batch\": 48, \"value\": 0.8631599545478821, \"type\": \"training\", \"metrics\": \"loss\"}, {\"batch\": 49, \"value\": 0.840374767780304, \"type\": \"training\", \"metrics\": \"loss\"}, {\"batch\": 50, \"value\": 0.8188841342926025, \"type\": \"training\", \"metrics\": \"loss\"}, {\"batch\": 51, \"value\": 0.7974546551704407, \"type\": \"training\", \"metrics\": \"loss\"}, {\"batch\": 52, \"value\": 0.7766937017440796, \"type\": \"training\", \"metrics\": \"loss\"}, {\"batch\": 53, \"value\": 0.7563717365264893, \"type\": \"training\", \"metrics\": \"loss\"}, {\"batch\": 54, \"value\": 0.7363833785057068, \"type\": \"training\", \"metrics\": \"loss\"}, {\"batch\": 55, \"value\": 0.7184914946556091, \"type\": \"training\", \"metrics\": \"loss\"}, {\"batch\": 56, \"value\": 0.698462724685669, \"type\": \"training\", \"metrics\": \"loss\"}, {\"batch\": 57, \"value\": 0.6802459359169006, \"type\": \"training\", \"metrics\": \"loss\"}, {\"batch\": 58, \"value\": 0.6635074615478516, \"type\": \"training\", \"metrics\": \"loss\"}, {\"batch\": 59, \"value\": 0.6475867629051208, \"type\": \"training\", \"metrics\": \"loss\"}, {\"batch\": 60, \"value\": 0.6296966075897217, \"type\": \"training\", \"metrics\": \"loss\"}, {\"batch\": 61, \"value\": 0.6140727400779724, \"type\": \"training\", \"metrics\": \"loss\"}, {\"batch\": 62, \"value\": 0.5972274541854858, \"type\": \"training\", \"metrics\": \"loss\"}, {\"batch\": 63, \"value\": 0.5823626518249512, \"type\": \"training\", \"metrics\": \"loss\"}, {\"batch\": 64, \"value\": 0.5675603747367859, \"type\": \"training\", \"metrics\": \"loss\"}, {\"batch\": 65, \"value\": 0.5533067584037781, \"type\": \"training\", \"metrics\": \"loss\"}, {\"batch\": 66, \"value\": 0.539246141910553, \"type\": \"training\", \"metrics\": \"loss\"}, {\"batch\": 67, \"value\": 0.5260375142097473, \"type\": \"training\", \"metrics\": \"loss\"}, {\"batch\": 68, \"value\": 0.512995719909668, \"type\": \"training\", \"metrics\": \"loss\"}, {\"batch\": 69, \"value\": 0.500140905380249, \"type\": \"training\", \"metrics\": \"loss\"}, {\"batch\": 70, \"value\": 0.4876600205898285, \"type\": \"training\", \"metrics\": \"loss\"}, {\"batch\": 71, \"value\": 0.47528430819511414, \"type\": \"training\", \"metrics\": \"loss\"}, {\"batch\": 72, \"value\": 0.46338745951652527, \"type\": \"training\", \"metrics\": \"loss\"}, {\"batch\": 73, \"value\": 0.4524156451225281, \"type\": \"training\", \"metrics\": \"loss\"}, {\"batch\": 74, \"value\": 0.4409329295158386, \"type\": \"training\", \"metrics\": \"loss\"}, {\"batch\": 75, \"value\": 0.43128594756126404, \"type\": \"training\", \"metrics\": \"loss\"}, {\"batch\": 76, \"value\": 0.419841468334198, \"type\": \"training\", \"metrics\": \"loss\"}, {\"batch\": 77, \"value\": 0.40981796383857727, \"type\": \"training\", \"metrics\": \"loss\"}, {\"batch\": 78, \"value\": 0.40063637495040894, \"type\": \"training\", \"metrics\": \"loss\"}, {\"batch\": 79, \"value\": 0.390569806098938, \"type\": \"training\", \"metrics\": \"loss\"}, {\"batch\": 80, \"value\": 0.38186609745025635, \"type\": \"training\", \"metrics\": \"loss\"}, {\"batch\": 81, \"value\": 0.37289679050445557, \"type\": \"training\", \"metrics\": \"loss\"}, {\"batch\": 82, \"value\": 0.36401402950286865, \"type\": \"training\", \"metrics\": \"loss\"}, {\"batch\": 83, \"value\": 0.3551170527935028, \"type\": \"training\", \"metrics\": \"loss\"}, {\"batch\": 84, \"value\": 0.3472459614276886, \"type\": \"training\", \"metrics\": \"loss\"}, {\"batch\": 85, \"value\": 0.33906763792037964, \"type\": \"training\", \"metrics\": \"loss\"}, {\"batch\": 86, \"value\": 0.331804484128952, \"type\": \"training\", \"metrics\": \"loss\"}, {\"batch\": 87, \"value\": 0.3236224353313446, \"type\": \"training\", \"metrics\": \"loss\"}, {\"batch\": 88, \"value\": 0.31669023633003235, \"type\": \"training\", \"metrics\": \"loss\"}, {\"batch\": 89, \"value\": 0.3088741600513458, \"type\": \"training\", \"metrics\": \"loss\"}, {\"batch\": 90, \"value\": 0.30224502086639404, \"type\": \"training\", \"metrics\": \"loss\"}, {\"batch\": 91, \"value\": 0.2954087257385254, \"type\": \"training\", \"metrics\": \"loss\"}, {\"batch\": 92, \"value\": 0.28868165612220764, \"type\": \"training\", \"metrics\": \"loss\"}, {\"batch\": 93, \"value\": 0.2826163172721863, \"type\": \"training\", \"metrics\": \"loss\"}, {\"batch\": 94, \"value\": 0.27617380023002625, \"type\": \"training\", \"metrics\": \"loss\"}, {\"batch\": 95, \"value\": 0.2701524794101715, \"type\": \"training\", \"metrics\": \"loss\"}, {\"batch\": 96, \"value\": 0.2642801105976105, \"type\": \"training\", \"metrics\": \"loss\"}, {\"batch\": 97, \"value\": 0.2585768401622772, \"type\": \"training\", \"metrics\": \"loss\"}, {\"batch\": 98, \"value\": 0.25282689929008484, \"type\": \"training\", \"metrics\": \"loss\"}, {\"batch\": 99, \"value\": 0.24737529456615448, \"type\": \"training\", \"metrics\": \"loss\"}, {\"batch\": 100, \"value\": 0.2422514408826828, \"type\": \"training\", \"metrics\": \"loss\"}, {\"batch\": 1, \"value\": 2.4092323780059814, \"type\": \"validation\", \"metrics\": \"loss\"}, {\"batch\": 2, \"value\": 2.3778412342071533, \"type\": \"validation\", \"metrics\": \"loss\"}, {\"batch\": 3, \"value\": 2.3501100540161133, \"type\": \"validation\", \"metrics\": \"loss\"}, {\"batch\": 4, \"value\": 2.3221354484558105, \"type\": \"validation\", \"metrics\": \"loss\"}, {\"batch\": 5, \"value\": 2.296107292175293, \"type\": \"validation\", \"metrics\": \"loss\"}, {\"batch\": 6, \"value\": 2.2711899280548096, \"type\": \"validation\", \"metrics\": \"loss\"}, {\"batch\": 7, \"value\": 2.2439980506896973, \"type\": \"validation\", \"metrics\": \"loss\"}, {\"batch\": 8, \"value\": 2.219066858291626, \"type\": \"validation\", \"metrics\": \"loss\"}, {\"batch\": 9, \"value\": 2.199373960494995, \"type\": \"validation\", \"metrics\": \"loss\"}, {\"batch\": 10, \"value\": 2.1715247631073, \"type\": \"validation\", \"metrics\": \"loss\"}, {\"batch\": 11, \"value\": 2.149867057800293, \"type\": \"validation\", \"metrics\": \"loss\"}, {\"batch\": 12, \"value\": 2.132009744644165, \"type\": \"validation\", \"metrics\": \"loss\"}, {\"batch\": 13, \"value\": 2.1087937355041504, \"type\": \"validation\", \"metrics\": \"loss\"}, {\"batch\": 14, \"value\": 2.087160348892212, \"type\": \"validation\", \"metrics\": \"loss\"}, {\"batch\": 15, \"value\": 2.0693633556365967, \"type\": \"validation\", \"metrics\": \"loss\"}, {\"batch\": 16, \"value\": 2.0493407249450684, \"type\": \"validation\", \"metrics\": \"loss\"}, {\"batch\": 17, \"value\": 2.026590585708618, \"type\": \"validation\", \"metrics\": \"loss\"}, {\"batch\": 18, \"value\": 2.0049588680267334, \"type\": \"validation\", \"metrics\": \"loss\"}, {\"batch\": 19, \"value\": 1.9855005741119385, \"type\": \"validation\", \"metrics\": \"loss\"}, {\"batch\": 20, \"value\": 1.9681485891342163, \"type\": \"validation\", \"metrics\": \"loss\"}, {\"batch\": 21, \"value\": 1.9474796056747437, \"type\": \"validation\", \"metrics\": \"loss\"}, {\"batch\": 22, \"value\": 1.9319632053375244, \"type\": \"validation\", \"metrics\": \"loss\"}, {\"batch\": 23, \"value\": 1.9147350788116455, \"type\": \"validation\", \"metrics\": \"loss\"}, {\"batch\": 24, \"value\": 1.8979147672653198, \"type\": \"validation\", \"metrics\": \"loss\"}, {\"batch\": 25, \"value\": 1.8784822225570679, \"type\": \"validation\", \"metrics\": \"loss\"}, {\"batch\": 26, \"value\": 1.859035849571228, \"type\": \"validation\", \"metrics\": \"loss\"}, {\"batch\": 27, \"value\": 1.8427377939224243, \"type\": \"validation\", \"metrics\": \"loss\"}, {\"batch\": 28, \"value\": 1.8301576375961304, \"type\": \"validation\", \"metrics\": \"loss\"}, {\"batch\": 29, \"value\": 1.8157211542129517, \"type\": \"validation\", \"metrics\": \"loss\"}, {\"batch\": 30, \"value\": 1.8017863035202026, \"type\": \"validation\", \"metrics\": \"loss\"}, {\"batch\": 31, \"value\": 1.7867372035980225, \"type\": \"validation\", \"metrics\": \"loss\"}, {\"batch\": 32, \"value\": 1.771370768547058, \"type\": \"validation\", \"metrics\": \"loss\"}, {\"batch\": 33, \"value\": 1.7581959962844849, \"type\": \"validation\", \"metrics\": \"loss\"}, {\"batch\": 34, \"value\": 1.7443559169769287, \"type\": \"validation\", \"metrics\": \"loss\"}, {\"batch\": 35, \"value\": 1.7312132120132446, \"type\": \"validation\", \"metrics\": \"loss\"}, {\"batch\": 36, \"value\": 1.7201380729675293, \"type\": \"validation\", \"metrics\": \"loss\"}, {\"batch\": 37, \"value\": 1.7085614204406738, \"type\": \"validation\", \"metrics\": \"loss\"}, {\"batch\": 38, \"value\": 1.7002860307693481, \"type\": \"validation\", \"metrics\": \"loss\"}, {\"batch\": 39, \"value\": 1.6904925107955933, \"type\": \"validation\", \"metrics\": \"loss\"}, {\"batch\": 40, \"value\": 1.677000641822815, \"type\": \"validation\", \"metrics\": \"loss\"}, {\"batch\": 41, \"value\": 1.6668477058410645, \"type\": \"validation\", \"metrics\": \"loss\"}, {\"batch\": 42, \"value\": 1.6603230237960815, \"type\": \"validation\", \"metrics\": \"loss\"}, {\"batch\": 43, \"value\": 1.6532666683197021, \"type\": \"validation\", \"metrics\": \"loss\"}, {\"batch\": 44, \"value\": 1.6415358781814575, \"type\": \"validation\", \"metrics\": \"loss\"}, {\"batch\": 45, \"value\": 1.6382957696914673, \"type\": \"validation\", \"metrics\": \"loss\"}, {\"batch\": 46, \"value\": 1.6275862455368042, \"type\": \"validation\", \"metrics\": \"loss\"}, {\"batch\": 47, \"value\": 1.6256465911865234, \"type\": \"validation\", \"metrics\": \"loss\"}, {\"batch\": 48, \"value\": 1.614402174949646, \"type\": \"validation\", \"metrics\": \"loss\"}, {\"batch\": 49, \"value\": 1.6125679016113281, \"type\": \"validation\", \"metrics\": \"loss\"}, {\"batch\": 50, \"value\": 1.6045947074890137, \"type\": \"validation\", \"metrics\": \"loss\"}, {\"batch\": 51, \"value\": 1.6006226539611816, \"type\": \"validation\", \"metrics\": \"loss\"}, {\"batch\": 52, \"value\": 1.5963960886001587, \"type\": \"validation\", \"metrics\": \"loss\"}, {\"batch\": 53, \"value\": 1.5908888578414917, \"type\": \"validation\", \"metrics\": \"loss\"}, {\"batch\": 54, \"value\": 1.5864025354385376, \"type\": \"validation\", \"metrics\": \"loss\"}, {\"batch\": 55, \"value\": 1.5859053134918213, \"type\": \"validation\", \"metrics\": \"loss\"}, {\"batch\": 56, \"value\": 1.5807667970657349, \"type\": \"validation\", \"metrics\": \"loss\"}, {\"batch\": 57, \"value\": 1.5760856866836548, \"type\": \"validation\", \"metrics\": \"loss\"}, {\"batch\": 58, \"value\": 1.5749602317810059, \"type\": \"validation\", \"metrics\": \"loss\"}, {\"batch\": 59, \"value\": 1.5714962482452393, \"type\": \"validation\", \"metrics\": \"loss\"}, {\"batch\": 60, \"value\": 1.570971131324768, \"type\": \"validation\", \"metrics\": \"loss\"}, {\"batch\": 61, \"value\": 1.5697238445281982, \"type\": \"validation\", \"metrics\": \"loss\"}, {\"batch\": 62, \"value\": 1.5650488138198853, \"type\": \"validation\", \"metrics\": \"loss\"}, {\"batch\": 63, \"value\": 1.566468596458435, \"type\": \"validation\", \"metrics\": \"loss\"}, {\"batch\": 64, \"value\": 1.5652393102645874, \"type\": \"validation\", \"metrics\": \"loss\"}, {\"batch\": 65, \"value\": 1.5651485919952393, \"type\": \"validation\", \"metrics\": \"loss\"}, {\"batch\": 66, \"value\": 1.5615804195404053, \"type\": \"validation\", \"metrics\": \"loss\"}, {\"batch\": 67, \"value\": 1.5603293180465698, \"type\": \"validation\", \"metrics\": \"loss\"}, {\"batch\": 68, \"value\": 1.560176134109497, \"type\": \"validation\", \"metrics\": \"loss\"}, {\"batch\": 69, \"value\": 1.5622265338897705, \"type\": \"validation\", \"metrics\": \"loss\"}, {\"batch\": 70, \"value\": 1.558896541595459, \"type\": \"validation\", \"metrics\": \"loss\"}, {\"batch\": 71, \"value\": 1.562010645866394, \"type\": \"validation\", \"metrics\": \"loss\"}, {\"batch\": 72, \"value\": 1.563287377357483, \"type\": \"validation\", \"metrics\": \"loss\"}, {\"batch\": 73, \"value\": 1.5615402460098267, \"type\": \"validation\", \"metrics\": \"loss\"}, {\"batch\": 74, \"value\": 1.5637916326522827, \"type\": \"validation\", \"metrics\": \"loss\"}, {\"batch\": 75, \"value\": 1.564186453819275, \"type\": \"validation\", \"metrics\": \"loss\"}, {\"batch\": 76, \"value\": 1.5639138221740723, \"type\": \"validation\", \"metrics\": \"loss\"}, {\"batch\": 77, \"value\": 1.5657119750976562, \"type\": \"validation\", \"metrics\": \"loss\"}, {\"batch\": 78, \"value\": 1.5681653022766113, \"type\": \"validation\", \"metrics\": \"loss\"}, {\"batch\": 79, \"value\": 1.5673507452011108, \"type\": \"validation\", \"metrics\": \"loss\"}, {\"batch\": 80, \"value\": 1.568350076675415, \"type\": \"validation\", \"metrics\": \"loss\"}, {\"batch\": 81, \"value\": 1.5709946155548096, \"type\": \"validation\", \"metrics\": \"loss\"}, {\"batch\": 82, \"value\": 1.5700392723083496, \"type\": \"validation\", \"metrics\": \"loss\"}, {\"batch\": 83, \"value\": 1.5711041688919067, \"type\": \"validation\", \"metrics\": \"loss\"}, {\"batch\": 84, \"value\": 1.573310375213623, \"type\": \"validation\", \"metrics\": \"loss\"}, {\"batch\": 85, \"value\": 1.5745936632156372, \"type\": \"validation\", \"metrics\": \"loss\"}, {\"batch\": 86, \"value\": 1.5733833312988281, \"type\": \"validation\", \"metrics\": \"loss\"}, {\"batch\": 87, \"value\": 1.5764085054397583, \"type\": \"validation\", \"metrics\": \"loss\"}, {\"batch\": 88, \"value\": 1.578621745109558, \"type\": \"validation\", \"metrics\": \"loss\"}, {\"batch\": 89, \"value\": 1.5809478759765625, \"type\": \"validation\", \"metrics\": \"loss\"}, {\"batch\": 90, \"value\": 1.5834403038024902, \"type\": \"validation\", \"metrics\": \"loss\"}, {\"batch\": 91, \"value\": 1.582719087600708, \"type\": \"validation\", \"metrics\": \"loss\"}, {\"batch\": 92, \"value\": 1.5839412212371826, \"type\": \"validation\", \"metrics\": \"loss\"}, {\"batch\": 93, \"value\": 1.5876399278640747, \"type\": \"validation\", \"metrics\": \"loss\"}, {\"batch\": 94, \"value\": 1.5897212028503418, \"type\": \"validation\", \"metrics\": \"loss\"}, {\"batch\": 95, \"value\": 1.5890824794769287, \"type\": \"validation\", \"metrics\": \"loss\"}, {\"batch\": 96, \"value\": 1.5908029079437256, \"type\": \"validation\", \"metrics\": \"loss\"}, {\"batch\": 97, \"value\": 1.5915578603744507, \"type\": \"validation\", \"metrics\": \"loss\"}, {\"batch\": 98, \"value\": 1.5932585000991821, \"type\": \"validation\", \"metrics\": \"loss\"}, {\"batch\": 99, \"value\": 1.5922787189483643, \"type\": \"validation\", \"metrics\": \"loss\"}, {\"batch\": 100, \"value\": 1.5965039730072021, \"type\": \"validation\", \"metrics\": \"loss\"}]}}, {\"mode\": \"vega-lite\"});\n",
       "</script>"
      ],
      "text/plain": [
       "alt.FacetChart(...)"
      ]
     },
     "execution_count": 21,
     "metadata": {},
     "output_type": "execute_result"
    }
   ],
   "source": [
    "MetricsVis(output.history)"
   ]
  },
  {
   "cell_type": "code",
   "execution_count": 22,
   "metadata": {},
   "outputs": [],
   "source": [
    "from recoflow.recommend import UserEmbedding, ItemEmbedding"
   ]
  },
  {
   "cell_type": "code",
   "execution_count": 23,
   "metadata": {},
   "outputs": [],
   "source": [
    "item_embedding = UserEmbedding(model, \"ItemEmbedding\")\n",
    "user_embedding = ItemEmbedding(model, \"UserEmbedding\")"
   ]
  },
  {
   "cell_type": "code",
   "execution_count": 24,
   "metadata": {},
   "outputs": [
    {
     "data": {
      "text/plain": [
       "array([[ 0.2530496 , -0.5111764 ],\n",
       "       [ 0.73075414, -0.55731034],\n",
       "       [-0.42168757, -0.4707426 ],\n",
       "       [-0.6180135 , -0.6195485 ],\n",
       "       [-0.9349068 , -0.90708137],\n",
       "       [-0.89944446, -0.95990777]], dtype=float32)"
      ]
     },
     "execution_count": 24,
     "metadata": {},
     "output_type": "execute_result"
    }
   ],
   "source": [
    "item_embedding"
   ]
  },
  {
   "cell_type": "code",
   "execution_count": 25,
   "metadata": {},
   "outputs": [
    {
     "data": {
      "text/plain": [
       "array([[ 0.76338285,  0.6608079 ],\n",
       "       [-0.57110083,  0.72774523],\n",
       "       [-0.7177329 , -0.38117373],\n",
       "       [-0.15819004,  0.12245224],\n",
       "       [ 0.17812128,  0.82140344],\n",
       "       [-0.15531518,  0.7387702 ],\n",
       "       [ 0.27006432,  0.54701644],\n",
       "       [ 0.61769456,  0.59973997],\n",
       "       [-0.8317416 , -0.3363021 ],\n",
       "       [ 0.55941665,  0.52651054]], dtype=float32)"
      ]
     },
     "execution_count": 25,
     "metadata": {},
     "output_type": "execute_result"
    }
   ],
   "source": [
    "user_embedding"
   ]
  },
  {
   "cell_type": "code",
   "execution_count": 26,
   "metadata": {},
   "outputs": [],
   "source": [
    "from recoflow.vis import EmbeddingVis"
   ]
  },
  {
   "cell_type": "code",
   "execution_count": 27,
   "metadata": {},
   "outputs": [
    {
     "data": {
      "text/html": [
       "\n",
       "<style>\n",
       "  #altair-viz-395463fe242d4a2f89c3976f21d457ef.vega-embed {\n",
       "    width: 100%;\n",
       "    display: flex;\n",
       "  }\n",
       "\n",
       "  #altair-viz-395463fe242d4a2f89c3976f21d457ef.vega-embed details,\n",
       "  #altair-viz-395463fe242d4a2f89c3976f21d457ef.vega-embed details summary {\n",
       "    position: relative;\n",
       "  }\n",
       "</style>\n",
       "<div id=\"altair-viz-395463fe242d4a2f89c3976f21d457ef\"></div>\n",
       "<script type=\"text/javascript\">\n",
       "  var VEGA_DEBUG = (typeof VEGA_DEBUG == \"undefined\") ? {} : VEGA_DEBUG;\n",
       "  (function(spec, embedOpt){\n",
       "    let outputDiv = document.currentScript.previousElementSibling;\n",
       "    if (outputDiv.id !== \"altair-viz-395463fe242d4a2f89c3976f21d457ef\") {\n",
       "      outputDiv = document.getElementById(\"altair-viz-395463fe242d4a2f89c3976f21d457ef\");\n",
       "    }\n",
       "    const paths = {\n",
       "      \"vega\": \"https://cdn.jsdelivr.net/npm/vega@5?noext\",\n",
       "      \"vega-lib\": \"https://cdn.jsdelivr.net/npm/vega-lib?noext\",\n",
       "      \"vega-lite\": \"https://cdn.jsdelivr.net/npm/vega-lite@5.17.0?noext\",\n",
       "      \"vega-embed\": \"https://cdn.jsdelivr.net/npm/vega-embed@6?noext\",\n",
       "    };\n",
       "\n",
       "    function maybeLoadScript(lib, version) {\n",
       "      var key = `${lib.replace(\"-\", \"\")}_version`;\n",
       "      return (VEGA_DEBUG[key] == version) ?\n",
       "        Promise.resolve(paths[lib]) :\n",
       "        new Promise(function(resolve, reject) {\n",
       "          var s = document.createElement('script');\n",
       "          document.getElementsByTagName(\"head\")[0].appendChild(s);\n",
       "          s.async = true;\n",
       "          s.onload = () => {\n",
       "            VEGA_DEBUG[key] = version;\n",
       "            return resolve(paths[lib]);\n",
       "          };\n",
       "          s.onerror = () => reject(`Error loading script: ${paths[lib]}`);\n",
       "          s.src = paths[lib];\n",
       "        });\n",
       "    }\n",
       "\n",
       "    function showError(err) {\n",
       "      outputDiv.innerHTML = `<div class=\"error\" style=\"color:red;\">${err}</div>`;\n",
       "      throw err;\n",
       "    }\n",
       "\n",
       "    function displayChart(vegaEmbed) {\n",
       "      vegaEmbed(outputDiv, spec, embedOpt)\n",
       "        .catch(err => showError(`Javascript Error: ${err.message}<br>This usually means there's a typo in your chart specification. See the javascript console for the full traceback.`));\n",
       "    }\n",
       "\n",
       "    if(typeof define === \"function\" && define.amd) {\n",
       "      requirejs.config({paths});\n",
       "      require([\"vega-embed\"], displayChart, err => showError(`Error loading script: ${err.message}`));\n",
       "    } else {\n",
       "      maybeLoadScript(\"vega\", \"5\")\n",
       "        .then(() => maybeLoadScript(\"vega-lite\", \"5.17.0\"))\n",
       "        .then(() => maybeLoadScript(\"vega-embed\", \"6\"))\n",
       "        .catch(showError)\n",
       "        .then(() => displayChart(vegaEmbed));\n",
       "    }\n",
       "  })({\"config\": {\"view\": {\"continuousWidth\": 300, \"continuousHeight\": 300}}, \"data\": {\"name\": \"data-5c7530449b8df40d7169bde381cd1c40\"}, \"mark\": {\"type\": \"rect\"}, \"encoding\": {\"color\": {\"field\": \"value\", \"legend\": {\"direction\": \"horizontal\", \"orient\": \"bottom\", \"tickCount\": 5, \"titleOrient\": \"top\"}, \"scale\": {\"nice\": true, \"scheme\": \"yellowgreenblue\", \"type\": \"bin-ordinal\"}, \"type\": \"quantitative\"}, \"x\": {\"axis\": {\"labelAngle\": 0, \"orient\": \"top\"}, \"field\": \"ITEM\", \"type\": \"nominal\"}, \"y\": {\"axis\": {\"orient\": \"left\"}, \"field\": \"dim\", \"type\": \"nominal\"}}, \"height\": 60, \"width\": 180, \"$schema\": \"https://vega.github.io/schema/vega-lite/v5.17.0.json\", \"datasets\": {\"data-5c7530449b8df40d7169bde381cd1c40\": [{\"ITEM\": 0, \"dim\": 0, \"value\": 0.2530496120452881}, {\"ITEM\": 1, \"dim\": 0, \"value\": 0.7307541370391846}, {\"ITEM\": 2, \"dim\": 0, \"value\": -0.4216875731945038}, {\"ITEM\": 3, \"dim\": 0, \"value\": -0.6180135011672974}, {\"ITEM\": 4, \"dim\": 0, \"value\": -0.9349067807197571}, {\"ITEM\": 5, \"dim\": 0, \"value\": -0.8994444608688354}, {\"ITEM\": 0, \"dim\": 1, \"value\": -0.5111764073371887}, {\"ITEM\": 1, \"dim\": 1, \"value\": -0.5573103427886963}, {\"ITEM\": 2, \"dim\": 1, \"value\": -0.4707426130771637}, {\"ITEM\": 3, \"dim\": 1, \"value\": -0.619548499584198}, {\"ITEM\": 4, \"dim\": 1, \"value\": -0.9070813655853271}, {\"ITEM\": 5, \"dim\": 1, \"value\": -0.9599077701568604}]}}, {\"mode\": \"vega-lite\"});\n",
       "</script>"
      ],
      "text/plain": [
       "alt.Chart(...)"
      ]
     },
     "execution_count": 27,
     "metadata": {},
     "output_type": "execute_result"
    }
   ],
   "source": [
    "EmbeddingVis(item_embedding, n_factors, \"ITEM\")"
   ]
  },
  {
   "cell_type": "code",
   "execution_count": 28,
   "metadata": {},
   "outputs": [
    {
     "data": {
      "text/html": [
       "\n",
       "<style>\n",
       "  #altair-viz-0ee956dc77ee43d9958da37dc93fd4d1.vega-embed {\n",
       "    width: 100%;\n",
       "    display: flex;\n",
       "  }\n",
       "\n",
       "  #altair-viz-0ee956dc77ee43d9958da37dc93fd4d1.vega-embed details,\n",
       "  #altair-viz-0ee956dc77ee43d9958da37dc93fd4d1.vega-embed details summary {\n",
       "    position: relative;\n",
       "  }\n",
       "</style>\n",
       "<div id=\"altair-viz-0ee956dc77ee43d9958da37dc93fd4d1\"></div>\n",
       "<script type=\"text/javascript\">\n",
       "  var VEGA_DEBUG = (typeof VEGA_DEBUG == \"undefined\") ? {} : VEGA_DEBUG;\n",
       "  (function(spec, embedOpt){\n",
       "    let outputDiv = document.currentScript.previousElementSibling;\n",
       "    if (outputDiv.id !== \"altair-viz-0ee956dc77ee43d9958da37dc93fd4d1\") {\n",
       "      outputDiv = document.getElementById(\"altair-viz-0ee956dc77ee43d9958da37dc93fd4d1\");\n",
       "    }\n",
       "    const paths = {\n",
       "      \"vega\": \"https://cdn.jsdelivr.net/npm/vega@5?noext\",\n",
       "      \"vega-lib\": \"https://cdn.jsdelivr.net/npm/vega-lib?noext\",\n",
       "      \"vega-lite\": \"https://cdn.jsdelivr.net/npm/vega-lite@5.17.0?noext\",\n",
       "      \"vega-embed\": \"https://cdn.jsdelivr.net/npm/vega-embed@6?noext\",\n",
       "    };\n",
       "\n",
       "    function maybeLoadScript(lib, version) {\n",
       "      var key = `${lib.replace(\"-\", \"\")}_version`;\n",
       "      return (VEGA_DEBUG[key] == version) ?\n",
       "        Promise.resolve(paths[lib]) :\n",
       "        new Promise(function(resolve, reject) {\n",
       "          var s = document.createElement('script');\n",
       "          document.getElementsByTagName(\"head\")[0].appendChild(s);\n",
       "          s.async = true;\n",
       "          s.onload = () => {\n",
       "            VEGA_DEBUG[key] = version;\n",
       "            return resolve(paths[lib]);\n",
       "          };\n",
       "          s.onerror = () => reject(`Error loading script: ${paths[lib]}`);\n",
       "          s.src = paths[lib];\n",
       "        });\n",
       "    }\n",
       "\n",
       "    function showError(err) {\n",
       "      outputDiv.innerHTML = `<div class=\"error\" style=\"color:red;\">${err}</div>`;\n",
       "      throw err;\n",
       "    }\n",
       "\n",
       "    function displayChart(vegaEmbed) {\n",
       "      vegaEmbed(outputDiv, spec, embedOpt)\n",
       "        .catch(err => showError(`Javascript Error: ${err.message}<br>This usually means there's a typo in your chart specification. See the javascript console for the full traceback.`));\n",
       "    }\n",
       "\n",
       "    if(typeof define === \"function\" && define.amd) {\n",
       "      requirejs.config({paths});\n",
       "      require([\"vega-embed\"], displayChart, err => showError(`Error loading script: ${err.message}`));\n",
       "    } else {\n",
       "      maybeLoadScript(\"vega\", \"5\")\n",
       "        .then(() => maybeLoadScript(\"vega-lite\", \"5.17.0\"))\n",
       "        .then(() => maybeLoadScript(\"vega-embed\", \"6\"))\n",
       "        .catch(showError)\n",
       "        .then(() => displayChart(vegaEmbed));\n",
       "    }\n",
       "  })({\"config\": {\"view\": {\"continuousWidth\": 300, \"continuousHeight\": 300}}, \"data\": {\"name\": \"data-a3693033e440b9311933cf498b405e1c\"}, \"mark\": {\"type\": \"rect\"}, \"encoding\": {\"color\": {\"field\": \"value\", \"legend\": {\"direction\": \"horizontal\", \"orient\": \"bottom\", \"tickCount\": 5, \"titleOrient\": \"top\"}, \"scale\": {\"nice\": true, \"scheme\": \"yellowgreenblue\", \"type\": \"bin-ordinal\"}, \"type\": \"quantitative\"}, \"x\": {\"axis\": {\"labelAngle\": 0, \"orient\": \"top\"}, \"field\": \"dim\", \"type\": \"nominal\"}, \"y\": {\"axis\": {\"orient\": \"left\"}, \"field\": \"USER\", \"type\": \"nominal\"}}, \"height\": 300, \"width\": 60, \"$schema\": \"https://vega.github.io/schema/vega-lite/v5.17.0.json\", \"datasets\": {\"data-a3693033e440b9311933cf498b405e1c\": [{\"USER\": 0, \"dim\": 0, \"value\": 0.7633828520774841}, {\"USER\": 1, \"dim\": 0, \"value\": -0.5711008310317993}, {\"USER\": 2, \"dim\": 0, \"value\": -0.7177329063415527}, {\"USER\": 3, \"dim\": 0, \"value\": -0.1581900417804718}, {\"USER\": 4, \"dim\": 0, \"value\": 0.17812128365039825}, {\"USER\": 5, \"dim\": 0, \"value\": -0.15531517565250397}, {\"USER\": 6, \"dim\": 0, \"value\": 0.2700643241405487}, {\"USER\": 7, \"dim\": 0, \"value\": 0.6176945567131042}, {\"USER\": 8, \"dim\": 0, \"value\": -0.8317415714263916}, {\"USER\": 9, \"dim\": 0, \"value\": 0.559416651725769}, {\"USER\": 0, \"dim\": 1, \"value\": 0.6608079075813293}, {\"USER\": 1, \"dim\": 1, \"value\": 0.7277452349662781}, {\"USER\": 2, \"dim\": 1, \"value\": -0.3811737298965454}, {\"USER\": 3, \"dim\": 1, \"value\": 0.12245224416255951}, {\"USER\": 4, \"dim\": 1, \"value\": 0.821403443813324}, {\"USER\": 5, \"dim\": 1, \"value\": 0.7387701869010925}, {\"USER\": 6, \"dim\": 1, \"value\": 0.547016441822052}, {\"USER\": 7, \"dim\": 1, \"value\": 0.5997399687767029}, {\"USER\": 8, \"dim\": 1, \"value\": -0.33630210161209106}, {\"USER\": 9, \"dim\": 1, \"value\": 0.5265105366706848}]}}, {\"mode\": \"vega-lite\"});\n",
       "</script>"
      ],
      "text/plain": [
       "alt.Chart(...)"
      ]
     },
     "execution_count": 28,
     "metadata": {},
     "output_type": "execute_result"
    }
   ],
   "source": [
    "EmbeddingVis(user_embedding, n_factors, \"USER\")"
   ]
  },
  {
   "cell_type": "code",
   "execution_count": 29,
   "metadata": {},
   "outputs": [
    {
     "data": {
      "text/html": [
       "\n",
       "<style>\n",
       "  #altair-viz-a41ef90dbfb24d3ebfc5b4ccce96805b.vega-embed {\n",
       "    width: 100%;\n",
       "    display: flex;\n",
       "  }\n",
       "\n",
       "  #altair-viz-a41ef90dbfb24d3ebfc5b4ccce96805b.vega-embed details,\n",
       "  #altair-viz-a41ef90dbfb24d3ebfc5b4ccce96805b.vega-embed details summary {\n",
       "    position: relative;\n",
       "  }\n",
       "</style>\n",
       "<div id=\"altair-viz-a41ef90dbfb24d3ebfc5b4ccce96805b\"></div>\n",
       "<script type=\"text/javascript\">\n",
       "  var VEGA_DEBUG = (typeof VEGA_DEBUG == \"undefined\") ? {} : VEGA_DEBUG;\n",
       "  (function(spec, embedOpt){\n",
       "    let outputDiv = document.currentScript.previousElementSibling;\n",
       "    if (outputDiv.id !== \"altair-viz-a41ef90dbfb24d3ebfc5b4ccce96805b\") {\n",
       "      outputDiv = document.getElementById(\"altair-viz-a41ef90dbfb24d3ebfc5b4ccce96805b\");\n",
       "    }\n",
       "    const paths = {\n",
       "      \"vega\": \"https://cdn.jsdelivr.net/npm/vega@5?noext\",\n",
       "      \"vega-lib\": \"https://cdn.jsdelivr.net/npm/vega-lib?noext\",\n",
       "      \"vega-lite\": \"https://cdn.jsdelivr.net/npm/vega-lite@5.17.0?noext\",\n",
       "      \"vega-embed\": \"https://cdn.jsdelivr.net/npm/vega-embed@6?noext\",\n",
       "    };\n",
       "\n",
       "    function maybeLoadScript(lib, version) {\n",
       "      var key = `${lib.replace(\"-\", \"\")}_version`;\n",
       "      return (VEGA_DEBUG[key] == version) ?\n",
       "        Promise.resolve(paths[lib]) :\n",
       "        new Promise(function(resolve, reject) {\n",
       "          var s = document.createElement('script');\n",
       "          document.getElementsByTagName(\"head\")[0].appendChild(s);\n",
       "          s.async = true;\n",
       "          s.onload = () => {\n",
       "            VEGA_DEBUG[key] = version;\n",
       "            return resolve(paths[lib]);\n",
       "          };\n",
       "          s.onerror = () => reject(`Error loading script: ${paths[lib]}`);\n",
       "          s.src = paths[lib];\n",
       "        });\n",
       "    }\n",
       "\n",
       "    function showError(err) {\n",
       "      outputDiv.innerHTML = `<div class=\"error\" style=\"color:red;\">${err}</div>`;\n",
       "      throw err;\n",
       "    }\n",
       "\n",
       "    function displayChart(vegaEmbed) {\n",
       "      vegaEmbed(outputDiv, spec, embedOpt)\n",
       "        .catch(err => showError(`Javascript Error: ${err.message}<br>This usually means there's a typo in your chart specification. See the javascript console for the full traceback.`));\n",
       "    }\n",
       "\n",
       "    if(typeof define === \"function\" && define.amd) {\n",
       "      requirejs.config({paths});\n",
       "      require([\"vega-embed\"], displayChart, err => showError(`Error loading script: ${err.message}`));\n",
       "    } else {\n",
       "      maybeLoadScript(\"vega\", \"5\")\n",
       "        .then(() => maybeLoadScript(\"vega-lite\", \"5.17.0\"))\n",
       "        .then(() => maybeLoadScript(\"vega-embed\", \"6\"))\n",
       "        .catch(showError)\n",
       "        .then(() => displayChart(vegaEmbed));\n",
       "    }\n",
       "  })({\"config\": {\"view\": {\"continuousWidth\": 300, \"continuousHeight\": 300}}, \"hconcat\": [{\"data\": {\"name\": \"data-a3693033e440b9311933cf498b405e1c\"}, \"mark\": {\"type\": \"rect\"}, \"encoding\": {\"color\": {\"field\": \"value\", \"legend\": {\"direction\": \"horizontal\", \"orient\": \"bottom\", \"tickCount\": 5, \"titleOrient\": \"top\"}, \"scale\": {\"nice\": true, \"scheme\": \"yellowgreenblue\", \"type\": \"bin-ordinal\"}, \"type\": \"quantitative\"}, \"x\": {\"axis\": {\"labelAngle\": 0, \"orient\": \"top\"}, \"field\": \"dim\", \"type\": \"nominal\"}, \"y\": {\"axis\": {\"orient\": \"left\"}, \"field\": \"USER\", \"type\": \"nominal\"}}, \"height\": 300, \"width\": 60}, {\"data\": {\"name\": \"data-5c7530449b8df40d7169bde381cd1c40\"}, \"mark\": {\"type\": \"rect\"}, \"encoding\": {\"color\": {\"field\": \"value\", \"legend\": {\"direction\": \"horizontal\", \"orient\": \"bottom\", \"tickCount\": 5, \"titleOrient\": \"top\"}, \"scale\": {\"nice\": true, \"scheme\": \"yellowgreenblue\", \"type\": \"bin-ordinal\"}, \"type\": \"quantitative\"}, \"x\": {\"axis\": {\"labelAngle\": 0, \"orient\": \"top\"}, \"field\": \"ITEM\", \"type\": \"nominal\"}, \"y\": {\"axis\": {\"orient\": \"left\"}, \"field\": \"dim\", \"type\": \"nominal\"}}, \"height\": 60, \"width\": 180}], \"$schema\": \"https://vega.github.io/schema/vega-lite/v5.17.0.json\", \"datasets\": {\"data-a3693033e440b9311933cf498b405e1c\": [{\"USER\": 0, \"dim\": 0, \"value\": 0.7633828520774841}, {\"USER\": 1, \"dim\": 0, \"value\": -0.5711008310317993}, {\"USER\": 2, \"dim\": 0, \"value\": -0.7177329063415527}, {\"USER\": 3, \"dim\": 0, \"value\": -0.1581900417804718}, {\"USER\": 4, \"dim\": 0, \"value\": 0.17812128365039825}, {\"USER\": 5, \"dim\": 0, \"value\": -0.15531517565250397}, {\"USER\": 6, \"dim\": 0, \"value\": 0.2700643241405487}, {\"USER\": 7, \"dim\": 0, \"value\": 0.6176945567131042}, {\"USER\": 8, \"dim\": 0, \"value\": -0.8317415714263916}, {\"USER\": 9, \"dim\": 0, \"value\": 0.559416651725769}, {\"USER\": 0, \"dim\": 1, \"value\": 0.6608079075813293}, {\"USER\": 1, \"dim\": 1, \"value\": 0.7277452349662781}, {\"USER\": 2, \"dim\": 1, \"value\": -0.3811737298965454}, {\"USER\": 3, \"dim\": 1, \"value\": 0.12245224416255951}, {\"USER\": 4, \"dim\": 1, \"value\": 0.821403443813324}, {\"USER\": 5, \"dim\": 1, \"value\": 0.7387701869010925}, {\"USER\": 6, \"dim\": 1, \"value\": 0.547016441822052}, {\"USER\": 7, \"dim\": 1, \"value\": 0.5997399687767029}, {\"USER\": 8, \"dim\": 1, \"value\": -0.33630210161209106}, {\"USER\": 9, \"dim\": 1, \"value\": 0.5265105366706848}], \"data-5c7530449b8df40d7169bde381cd1c40\": [{\"ITEM\": 0, \"dim\": 0, \"value\": 0.2530496120452881}, {\"ITEM\": 1, \"dim\": 0, \"value\": 0.7307541370391846}, {\"ITEM\": 2, \"dim\": 0, \"value\": -0.4216875731945038}, {\"ITEM\": 3, \"dim\": 0, \"value\": -0.6180135011672974}, {\"ITEM\": 4, \"dim\": 0, \"value\": -0.9349067807197571}, {\"ITEM\": 5, \"dim\": 0, \"value\": -0.8994444608688354}, {\"ITEM\": 0, \"dim\": 1, \"value\": -0.5111764073371887}, {\"ITEM\": 1, \"dim\": 1, \"value\": -0.5573103427886963}, {\"ITEM\": 2, \"dim\": 1, \"value\": -0.4707426130771637}, {\"ITEM\": 3, \"dim\": 1, \"value\": -0.619548499584198}, {\"ITEM\": 4, \"dim\": 1, \"value\": -0.9070813655853271}, {\"ITEM\": 5, \"dim\": 1, \"value\": -0.9599077701568604}]}}, {\"mode\": \"vega-lite\"});\n",
       "</script>"
      ],
      "text/plain": [
       "alt.HConcatChart(...)"
      ]
     },
     "execution_count": 29,
     "metadata": {},
     "output_type": "execute_result"
    }
   ],
   "source": [
    "EmbeddingVis(user_embedding, n_factors, \"USER\") | EmbeddingVis(item_embedding, n_factors, \"ITEM\") "
   ]
  },
  {
   "cell_type": "code",
   "execution_count": 30,
   "metadata": {},
   "outputs": [],
   "source": [
    "from recoflow.recommend import GetPredictions, GetRankingTopK"
   ]
  },
  {
   "cell_type": "code",
   "execution_count": 31,
   "metadata": {},
   "outputs": [
    {
     "name": "stdout",
     "output_type": "stream",
     "text": [
      "\u001b[1m2/2\u001b[0m \u001b[32m━━━━━━━━━━━━━━━━━━━━\u001b[0m\u001b[37m\u001b[0m \u001b[1m0s\u001b[0m 237ms/step\n"
     ]
    }
   ],
   "source": [
    "predictions = GetPredictions(model, interaction)"
   ]
  },
  {
   "cell_type": "code",
   "execution_count": 32,
   "metadata": {},
   "outputs": [
    {
     "data": {
      "text/html": [
       "\n",
       "<style>\n",
       "  #altair-viz-b5e61c14db944bf481082d43509a0c6e.vega-embed {\n",
       "    width: 100%;\n",
       "    display: flex;\n",
       "  }\n",
       "\n",
       "  #altair-viz-b5e61c14db944bf481082d43509a0c6e.vega-embed details,\n",
       "  #altair-viz-b5e61c14db944bf481082d43509a0c6e.vega-embed details summary {\n",
       "    position: relative;\n",
       "  }\n",
       "</style>\n",
       "<div id=\"altair-viz-b5e61c14db944bf481082d43509a0c6e\"></div>\n",
       "<script type=\"text/javascript\">\n",
       "  var VEGA_DEBUG = (typeof VEGA_DEBUG == \"undefined\") ? {} : VEGA_DEBUG;\n",
       "  (function(spec, embedOpt){\n",
       "    let outputDiv = document.currentScript.previousElementSibling;\n",
       "    if (outputDiv.id !== \"altair-viz-b5e61c14db944bf481082d43509a0c6e\") {\n",
       "      outputDiv = document.getElementById(\"altair-viz-b5e61c14db944bf481082d43509a0c6e\");\n",
       "    }\n",
       "    const paths = {\n",
       "      \"vega\": \"https://cdn.jsdelivr.net/npm/vega@5?noext\",\n",
       "      \"vega-lib\": \"https://cdn.jsdelivr.net/npm/vega-lib?noext\",\n",
       "      \"vega-lite\": \"https://cdn.jsdelivr.net/npm/vega-lite@5.17.0?noext\",\n",
       "      \"vega-embed\": \"https://cdn.jsdelivr.net/npm/vega-embed@6?noext\",\n",
       "    };\n",
       "\n",
       "    function maybeLoadScript(lib, version) {\n",
       "      var key = `${lib.replace(\"-\", \"\")}_version`;\n",
       "      return (VEGA_DEBUG[key] == version) ?\n",
       "        Promise.resolve(paths[lib]) :\n",
       "        new Promise(function(resolve, reject) {\n",
       "          var s = document.createElement('script');\n",
       "          document.getElementsByTagName(\"head\")[0].appendChild(s);\n",
       "          s.async = true;\n",
       "          s.onload = () => {\n",
       "            VEGA_DEBUG[key] = version;\n",
       "            return resolve(paths[lib]);\n",
       "          };\n",
       "          s.onerror = () => reject(`Error loading script: ${paths[lib]}`);\n",
       "          s.src = paths[lib];\n",
       "        });\n",
       "    }\n",
       "\n",
       "    function showError(err) {\n",
       "      outputDiv.innerHTML = `<div class=\"error\" style=\"color:red;\">${err}</div>`;\n",
       "      throw err;\n",
       "    }\n",
       "\n",
       "    function displayChart(vegaEmbed) {\n",
       "      vegaEmbed(outputDiv, spec, embedOpt)\n",
       "        .catch(err => showError(`Javascript Error: ${err.message}<br>This usually means there's a typo in your chart specification. See the javascript console for the full traceback.`));\n",
       "    }\n",
       "\n",
       "    if(typeof define === \"function\" && define.amd) {\n",
       "      requirejs.config({paths});\n",
       "      require([\"vega-embed\"], displayChart, err => showError(`Error loading script: ${err.message}`));\n",
       "    } else {\n",
       "      maybeLoadScript(\"vega\", \"5\")\n",
       "        .then(() => maybeLoadScript(\"vega-lite\", \"5.17.0\"))\n",
       "        .then(() => maybeLoadScript(\"vega-embed\", \"6\"))\n",
       "        .catch(showError)\n",
       "        .then(() => displayChart(vegaEmbed));\n",
       "    }\n",
       "  })({\"config\": {\"view\": {\"continuousWidth\": 300, \"continuousHeight\": 300}, \"axis\": {\"grid\": false}}, \"data\": {\"name\": \"data-26d1a0fc4fa1a7fd2761552a8a5c12ea\"}, \"mark\": {\"type\": \"rect\"}, \"encoding\": {\"color\": {\"field\": \"RATING\", \"legend\": {\"direction\": \"horizontal\", \"orient\": \"bottom\", \"tickCount\": 5, \"titleOrient\": \"top\"}, \"scale\": {\"nice\": true, \"scheme\": \"yellowgreenblue\", \"type\": \"bin-ordinal\"}, \"type\": \"quantitative\"}, \"x\": {\"axis\": {\"labelAngle\": 0, \"orient\": \"top\"}, \"field\": \"ITEM\", \"type\": \"nominal\"}, \"y\": {\"axis\": {\"orient\": \"left\"}, \"field\": \"USER\", \"type\": \"nominal\"}}, \"height\": 300, \"width\": 180, \"$schema\": \"https://vega.github.io/schema/vega-lite/v5.17.0.json\", \"datasets\": {\"data-26d1a0fc4fa1a7fd2761552a8a5c12ea\": [{\"USER\": 1, \"ITEM\": 1, \"RATING\": 4.484439373016357}, {\"USER\": 1, \"ITEM\": 4, \"RATING\": 3.7245259284973145}, {\"USER\": 1, \"ITEM\": 3, \"RATING\": 3.7421555519104004}, {\"USER\": 1, \"ITEM\": 2, \"RATING\": 3.681210994720459}, {\"USER\": 1, \"ITEM\": 5, \"RATING\": 3.6132333278656006}, {\"USER\": 1, \"ITEM\": 0, \"RATING\": 4.006260871887207}, {\"USER\": 4, \"ITEM\": 1, \"RATING\": 4.308056831359863}, {\"USER\": 4, \"ITEM\": 4, \"RATING\": 4.378730297088623}, {\"USER\": 4, \"ITEM\": 3, \"RATING\": 4.239688873291016}, {\"USER\": 4, \"ITEM\": 2, \"RATING\": 4.087328910827637}, {\"USER\": 4, \"ITEM\": 5, \"RATING\": 4.297633171081543}, {\"USER\": 4, \"ITEM\": 0, \"RATING\": 4.011769771575928}, {\"USER\": 2, \"ITEM\": 1, \"RATING\": 3.9070098400115967}, {\"USER\": 2, \"ITEM\": 4, \"RATING\": 2.235203981399536}, {\"USER\": 2, \"ITEM\": 3, \"RATING\": 2.5860238075256348}, {\"USER\": 2, \"ITEM\": 2, \"RATING\": 2.7061092853546143}, {\"USER\": 2, \"ITEM\": 5, \"RATING\": 2.088019609451294}, {\"USER\": 2, \"ITEM\": 0, \"RATING\": 3.1551766395568848}, {\"USER\": 0, \"ITEM\": 1, \"RATING\": 3.9188153743743896}, {\"USER\": 0, \"ITEM\": 4, \"RATING\": 4.540007591247559}, {\"USER\": 0, \"ITEM\": 3, \"RATING\": 4.359554290771484}, {\"USER\": 0, \"ITEM\": 2, \"RATING\": 4.167046070098877}, {\"USER\": 0, \"ITEM\": 5, \"RATING\": 4.463259220123291}, {\"USER\": 0, \"ITEM\": 0, \"RATING\": 3.7853074073791504}, {\"USER\": 6, \"ITEM\": 1, \"RATING\": 4.070992469787598}, {\"USER\": 6, \"ITEM\": 4, \"RATING\": 4.197049140930176}, {\"USER\": 6, \"ITEM\": 3, \"RATING\": 4.065148830413818}, {\"USER\": 6, \"ITEM\": 2, \"RATING\": 3.9079761505126953}, {\"USER\": 6, \"ITEM\": 5, \"RATING\": 4.0861053466796875}, {\"USER\": 6, \"ITEM\": 0, \"RATING\": 3.761586904525757}, {\"USER\": 3, \"ITEM\": 1, \"RATING\": 3.7129998207092285}, {\"USER\": 3, \"ITEM\": 4, \"RATING\": 3.069936752319336}, {\"USER\": 3, \"ITEM\": 3, \"RATING\": 3.1333281993865967}, {\"USER\": 3, \"ITEM\": 2, \"RATING\": 3.0727100372314453}, {\"USER\": 3, \"ITEM\": 5, \"RATING\": 2.8980720043182373}, {\"USER\": 3, \"ITEM\": 0, \"RATING\": 3.1666970252990723}, {\"USER\": 7, \"ITEM\": 1, \"RATING\": 3.9442858695983887}, {\"USER\": 7, \"ITEM\": 4, \"RATING\": 4.437048435211182}, {\"USER\": 7, \"ITEM\": 3, \"RATING\": 4.264089584350586}, {\"USER\": 7, \"ITEM\": 2, \"RATING\": 4.0780029296875}, {\"USER\": 7, \"ITEM\": 5, \"RATING\": 4.347354888916016}, {\"USER\": 7, \"ITEM\": 0, \"RATING\": 3.7561440467834473}, {\"USER\": 5, \"ITEM\": 1, \"RATING\": 4.4117231369018555}, {\"USER\": 5, \"ITEM\": 4, \"RATING\": 4.144926071166992}, {\"USER\": 5, \"ITEM\": 3, \"RATING\": 4.065386772155762}, {\"USER\": 5, \"ITEM\": 2, \"RATING\": 3.9513320922851562}, {\"USER\": 5, \"ITEM\": 5, \"RATING\": 4.047388076782227}, {\"USER\": 5, \"ITEM\": 0, \"RATING\": 4.039546966552734}, {\"USER\": 8, \"ITEM\": 1, \"RATING\": 4.004260540008545}, {\"USER\": 8, \"ITEM\": 4, \"RATING\": 2.1945102214813232}, {\"USER\": 8, \"ITEM\": 3, \"RATING\": 2.562267303466797}, {\"USER\": 8, \"ITEM\": 2, \"RATING\": 2.697134256362915}, {\"USER\": 8, \"ITEM\": 5, \"RATING\": 2.055307626724243}, {\"USER\": 8, \"ITEM\": 0, \"RATING\": 3.2241053581237793}, {\"USER\": 9, \"ITEM\": 1, \"RATING\": 3.9119765758514404}, {\"USER\": 9, \"ITEM\": 4, \"RATING\": 4.353025436401367}, {\"USER\": 9, \"ITEM\": 3, \"RATING\": 4.1864705085754395}, {\"USER\": 9, \"ITEM\": 2, \"RATING\": 4.003655433654785}, {\"USER\": 9, \"ITEM\": 5, \"RATING\": 4.251759052276611}, {\"USER\": 9, \"ITEM\": 0, \"RATING\": 3.69920015335083}]}}, {\"mode\": \"vega-lite\"});\n",
       "</script>"
      ],
      "text/plain": [
       "alt.Chart(...)"
      ]
     },
     "execution_count": 32,
     "metadata": {},
     "output_type": "execute_result"
    }
   ],
   "source": [
    "InteractionVis(predictions)"
   ]
  },
  {
   "cell_type": "code",
   "execution_count": 38,
   "metadata": {},
   "outputs": [],
   "source": [
    "import altair as alt"
   ]
  },
  {
   "cell_type": "code",
   "execution_count": 53,
   "metadata": {},
   "outputs": [],
   "source": [
    "def SimilarityVis(item_embedding, user_embedding):\n",
    "    \n",
    "    item_embedding_df_wide = pd.DataFrame(item_embedding)\n",
    "    user_embedding_df_wide = pd.DataFrame(user_embedding)\n",
    "\n",
    "    item_embedding_df_wide.reset_index(inplace=True)\n",
    "    item_embedding_df_wide[\"idx\"] = item_embedding_df_wide[\"index\"].apply(lambda x: \"I\" + str(x))\n",
    "    item_embedding_df_wide.columns = [\"index\", \"X0\", \"X1\", \"idx\" ]\n",
    "\n",
    "    user_embedding_df_wide.reset_index(inplace=True)\n",
    "    user_embedding_df_wide[\"idx\"] = user_embedding_df_wide[\"index\"].apply(lambda x: \"U\" + str(x))\n",
    "    user_embedding_df_wide.columns = [\"index\", \"X0\", \"X1\", \"idx\" ]\n",
    "\n",
    "    embedding_df_wide = pd.concat([item_embedding_df_wide, user_embedding_df_wide])\n",
    "    \n",
    "    base = alt.Chart(embedding_df_wide).encode(\n",
    "        alt.X(\"X0:Q\", axis = alt.Axis(bandPosition = 0.5)),\n",
    "        alt.Y(\"X1:Q\", axis = alt.Axis(bandPosition = 0.5))\n",
    "    )\n",
    "\n",
    "    vis = base.mark_point(size=0) + base.mark_text().encode(text=\"idx\")\n",
    "    \n",
    "    #return vis, \n",
    "    return embedding_df_wide"
   ]
  },
  {
   "cell_type": "code",
   "execution_count": 54,
   "metadata": {},
   "outputs": [],
   "source": [
    "embedding_df_wide = SimilarityVis(item_embedding, user_embedding)"
   ]
  },
  {
   "cell_type": "code",
   "execution_count": 55,
   "metadata": {},
   "outputs": [
    {
     "data": {
      "text/html": [
       "<div>\n",
       "<style scoped>\n",
       "    .dataframe tbody tr th:only-of-type {\n",
       "        vertical-align: middle;\n",
       "    }\n",
       "\n",
       "    .dataframe tbody tr th {\n",
       "        vertical-align: top;\n",
       "    }\n",
       "\n",
       "    .dataframe thead th {\n",
       "        text-align: right;\n",
       "    }\n",
       "</style>\n",
       "<table border=\"1\" class=\"dataframe\">\n",
       "  <thead>\n",
       "    <tr style=\"text-align: right;\">\n",
       "      <th></th>\n",
       "      <th>index</th>\n",
       "      <th>X0</th>\n",
       "      <th>X1</th>\n",
       "      <th>idx</th>\n",
       "    </tr>\n",
       "  </thead>\n",
       "  <tbody>\n",
       "    <tr>\n",
       "      <th>0</th>\n",
       "      <td>0</td>\n",
       "      <td>0.253050</td>\n",
       "      <td>-0.511176</td>\n",
       "      <td>I0</td>\n",
       "    </tr>\n",
       "    <tr>\n",
       "      <th>1</th>\n",
       "      <td>1</td>\n",
       "      <td>0.730754</td>\n",
       "      <td>-0.557310</td>\n",
       "      <td>I1</td>\n",
       "    </tr>\n",
       "    <tr>\n",
       "      <th>2</th>\n",
       "      <td>2</td>\n",
       "      <td>-0.421688</td>\n",
       "      <td>-0.470743</td>\n",
       "      <td>I2</td>\n",
       "    </tr>\n",
       "    <tr>\n",
       "      <th>3</th>\n",
       "      <td>3</td>\n",
       "      <td>-0.618014</td>\n",
       "      <td>-0.619548</td>\n",
       "      <td>I3</td>\n",
       "    </tr>\n",
       "    <tr>\n",
       "      <th>4</th>\n",
       "      <td>4</td>\n",
       "      <td>-0.934907</td>\n",
       "      <td>-0.907081</td>\n",
       "      <td>I4</td>\n",
       "    </tr>\n",
       "  </tbody>\n",
       "</table>\n",
       "</div>"
      ],
      "text/plain": [
       "   index        X0        X1 idx\n",
       "0      0  0.253050 -0.511176  I0\n",
       "1      1  0.730754 -0.557310  I1\n",
       "2      2 -0.421688 -0.470743  I2\n",
       "3      3 -0.618014 -0.619548  I3\n",
       "4      4 -0.934907 -0.907081  I4"
      ]
     },
     "execution_count": 55,
     "metadata": {},
     "output_type": "execute_result"
    }
   ],
   "source": [
    "embedding_df_wide.head()"
   ]
  },
  {
   "cell_type": "code",
   "execution_count": 56,
   "metadata": {},
   "outputs": [],
   "source": [
    "base = alt.Chart(embedding_df_wide).encode(\n",
    "    alt.X(\"X0:Q\", axis = alt.Axis(bandPosition = 0.5)),\n",
    "    alt.Y(\"X1:Q\", axis = alt.Axis(bandPosition = 0.5))\n",
    ")\n",
    "\n",
    "vis = base.mark_point(size=1) + base.mark_text().encode(text=\"idx\")"
   ]
  },
  {
   "cell_type": "code",
   "execution_count": null,
   "metadata": {},
   "outputs": [],
   "source": []
  }
 ],
 "metadata": {
  "kernelspec": {
   "display_name": "Python 3 (ipykernel)",
   "language": "python",
   "name": "python3"
  },
  "language_info": {
   "codemirror_mode": {
    "name": "ipython",
    "version": 3
   },
   "file_extension": ".py",
   "mimetype": "text/x-python",
   "name": "python",
   "nbconvert_exporter": "python",
   "pygments_lexer": "ipython3",
   "version": "3.9.13"
  }
 },
 "nbformat": 4,
 "nbformat_minor": 4
}
