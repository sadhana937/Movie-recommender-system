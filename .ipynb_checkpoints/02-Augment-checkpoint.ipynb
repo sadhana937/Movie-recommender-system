{
 "cells": [
  {
   "cell_type": "markdown",
   "metadata": {},
   "source": [
    "# Augment the Data"
   ]
  },
  {
   "cell_type": "markdown",
   "metadata": {},
   "source": [
    "Let us augment the items(movie) data with more fields from IMDB and / or TMDB data"
   ]
  },
  {
   "cell_type": "code",
   "execution_count": 1,
   "metadata": {},
   "outputs": [],
   "source": [
    "import numpy as np\n",
    "import pandas as pd\n",
    "import json, glob\n",
    "import requests\n",
    "import re\n",
    "import tmdb\n",
    "from importlib import reload\n",
    "from reco.recoutils import create_directory, update_progress"
   ]
  },
  {
   "cell_type": "markdown",
   "metadata": {},
   "source": [
    "## Get the Movie Features from TMDB\n",
    "\n",
    "- We will use the \"links.csv\" which contains:\n",
    "    - movie_id\n",
    "    - imdb_id\n",
    "    - tmdb_id\n",
    "- Source: Scraper + Manual Enhancement\n",
    "     - Bootstrapped using the scraper to get the IMDB title link\n",
    "     - Enhanced through search on TMDB database to get complete list"
   ]
  },
  {
   "cell_type": "code",
   "execution_count": 2,
   "metadata": {},
   "outputs": [],
   "source": [
    "links = pd.read_csv(\"links.csv\", dtype={\"tmdb_id\": 'Int64' })"
   ]
  },
  {
   "cell_type": "code",
   "execution_count": 3,
   "metadata": {},
   "outputs": [
    {
     "data": {
      "text/html": [
       "<div>\n",
       "<style scoped>\n",
       "    .dataframe tbody tr th:only-of-type {\n",
       "        vertical-align: middle;\n",
       "    }\n",
       "\n",
       "    .dataframe tbody tr th {\n",
       "        vertical-align: top;\n",
       "    }\n",
       "\n",
       "    .dataframe thead th {\n",
       "        text-align: right;\n",
       "    }\n",
       "</style>\n",
       "<table border=\"1\" class=\"dataframe\">\n",
       "  <thead>\n",
       "    <tr style=\"text-align: right;\">\n",
       "      <th></th>\n",
       "      <th>movie_id</th>\n",
       "      <th>imdb_id</th>\n",
       "      <th>tmdb_id</th>\n",
       "    </tr>\n",
       "  </thead>\n",
       "  <tbody>\n",
       "    <tr>\n",
       "      <th>0</th>\n",
       "      <td>1</td>\n",
       "      <td>tt0114709</td>\n",
       "      <td>862</td>\n",
       "    </tr>\n",
       "    <tr>\n",
       "      <th>1</th>\n",
       "      <td>2</td>\n",
       "      <td>tt0113189</td>\n",
       "      <td>710</td>\n",
       "    </tr>\n",
       "    <tr>\n",
       "      <th>2</th>\n",
       "      <td>3</td>\n",
       "      <td>tt0113101</td>\n",
       "      <td>5</td>\n",
       "    </tr>\n",
       "    <tr>\n",
       "      <th>3</th>\n",
       "      <td>4</td>\n",
       "      <td>tt0113161</td>\n",
       "      <td>8012</td>\n",
       "    </tr>\n",
       "    <tr>\n",
       "      <th>4</th>\n",
       "      <td>5</td>\n",
       "      <td>tt0112722</td>\n",
       "      <td>1710</td>\n",
       "    </tr>\n",
       "  </tbody>\n",
       "</table>\n",
       "</div>"
      ],
      "text/plain": [
       "   movie_id    imdb_id  tmdb_id\n",
       "0         1  tt0114709      862\n",
       "1         2  tt0113189      710\n",
       "2         3  tt0113101        5\n",
       "3         4  tt0113161     8012\n",
       "4         5  tt0112722     1710"
      ]
     },
     "execution_count": 3,
     "metadata": {},
     "output_type": "execute_result"
    }
   ],
   "source": [
    "links.head()"
   ]
  },
  {
   "cell_type": "code",
   "execution_count": 4,
   "metadata": {},
   "outputs": [
    {
     "data": {
      "text/plain": [
       "(1682, 3)"
      ]
     },
     "execution_count": 4,
     "metadata": {},
     "output_type": "execute_result"
    }
   ],
   "source": [
    "links.shape"
   ]
  },
  {
   "cell_type": "markdown",
   "metadata": {},
   "source": [
    "## Get Movie Feature from TMDB "
   ]
  },
  {
   "cell_type": "code",
   "execution_count": 5,
   "metadata": {},
   "outputs": [],
   "source": [
    "# sample_id = links.tmdb_id[5]\n",
    "# tmdb.movie(sample_id)"
   ]
  },
  {
   "cell_type": "code",
   "execution_count": 6,
   "metadata": {},
   "outputs": [
    {
     "name": "stdout",
     "output_type": "stream",
     "text": [
      "[862, 710, 5, 8012, 1710, 37557, 63, 9598, 687, 31174, 807, 629, 11448, 11010, 2054, 4482, 755, 46785, 880, 8447, 10874, 197, 103, 33542, 11000, 16388, 9737, 568, 414, 649, 8963, 26564, 8068, 13552, 9073, 47608, 34574, 1642, 281, 9090, 11017, 2292, 8984, 11929, 10451, 20156, 522, 14275, 11777, 11, 4476, 11318, 241, 6950, 101, 680, 40156, 11450, 110, 108, 109, 2164, 11395, 278, 1587, 2064, 3049, 9495, 13, 712, 8587, 680, 9359, 315, 316098, 6075, 37233, 1634, 5503, 9255, 11934, 329, 11971, 25557, 10872, 1245, 14291, 858, 78, 10442, 9479, 319, 11446, 771, 812, 280, 581, 274, 408, 275, 11827, 10112, 19042, 36259, 9099, 10988, 18989, 18414, 3065, 27281, 8866, 36355, 11876, 503475, 73183, 32513, 9802, 664, 85778, 9879, 602, 9894, 10779, 26748, 9294, 47907, 238, 11134, 9303, 22479, 164, 630, 770, 15, 62, 3083, 18203, 10680, 14136, 6878, 173, 12335, 15121, 562, 10163, 48862, 11412, 10586, 25147, 10218, 252, 11561, 623, 583, 88, 500, 792, 8491, 402, 9504, 744, 11816, 11843, 2756, 4480, 4481, 10765, 762, 531, 11216, 892, 1891, 2493, 85, 68, 679, 429, 389, 185, 28, 1892, 769, 348, 766, 539, 525, 240, 600, 530, 10705, 279, 1578, 9549, 9277, 218, 207, 37247, 9322, 826, 694, 765, 137, 33, 105, 11202, 149, 11673, 3034, 11031, 89, 651, 10644, 11257, 12104, 2323, 639, 6114, 1598, 377, 25189, 145, 199, 12498, 12709, 11674, 1573, 174, 154, 157, 168, 364, 11967, 8845, 578, 75, 13891, 9390, 378, 2322, 3179, 9361, 784, 9446, 9311, 4477, 2255, 6499, 9434, 816, 18, 11239, 330, 26422, 415, 8874, 11956, 607, 686, 10603, 8413, 20737, 14585, 8854, 4961, 1669, 17832, 48138, 2255, 9427, 782, 563, 489, 949, 11860, 4584, 451, 35196, 20927, 146599, 9302, 8987, 1645, 3573, 10478, 11159, 409, 9819, 4232, 8818, 12145, 66, 25624, 9366, 1624, 2163, 24183, 55306, 754, 22073, 9772, 10806, 2118, 55306, 11076, 68924, 17589, 1813, 29911, 14583, 11975, 45609, 8197, 597, 32302, 9445, 2898, 7984, 424, 9716, 17204, 27265, 9415, 9619, 638, 884, 4421, 2142, 8834, 9458, 345568, 9433, 9437, 2649, 10155, 28353, 12628, 33344, 1281, 9770, 4995, 61337, 9414, 8078, 2895, 2639, 184, 586, 9458, 11258, 9411, 9033, 6116, 9457, 11003, 10153, 10731, 510, 10336, 18355, 251481, 45928, 11568, 9091, 9273, 12665, 9909, 9603, 9536, 13997, 9095, 688, 17447, 9482, 9070, 10802, 17207, 14819, 10510, 9059, 193, 236, 2759, 888, 36593, 36955, 2758, 514579, 306, 14522, 20239, 9593, 10502, 788, 22588, 8005, 11592, 11074, 9607, 10057, 10897, 9066, 251, 268, 10895, 954, 10280, 10535, 532, 7095, 11543, 9327, 12606, 9431, 31044, 18660, 22660, 19186, 11224, 433, 12092, 454, 11238, 601, 25750, 10608, 1857, 595, 343, 10200, 3063, 8009, 756, 2640, 830, 642, 814, 41671, 27214, 33519, 16235, 11449, 41848, 571, 8851, 30346, 13549, 7340, 794, 152, 172, 621, 579, 17692, 41240, 9404, 9622, 18519, 10858, 34615, 27526, 10149, 18183, 14334, 32636, 10714, 10427, 1607, 14534, 695, 11969, 10684, 8840, 10539, 935, 627, 2925, 10830, 981, 426, 213, 284, 239, 289, 963, 11113, 6620, 804, 599, 303, 381, 10907, 220, 3529, 3085, 2897, 1585, 900, 488, 261, 11076, 11360, 11302, 21711, 475, 521, 221, 702, 1630, 10161, 333484, 947, 144, 1092, 703, 387, 11235, 696, 379, 3090, 5925, 11778, 1554, 903, 914, 910, 665, 783, 625, 8816, 983, 7863, 28005, 49806, 31465, 2058, 38523, 468, 9444, 6283, 11517, 9312, 10530, 48750, 400, 12158, 9208, 16934, 27793, 11780, 1572, 8973, 9348, 9560, 9804, 31611, 65796, 10954, 1024, 628, 37108, 3036, 12106, <NA>, 25066, 12122, 9331, 11596, 1637, 10395, 12160, 9409, 178, 4722, 18215, 11310, 9350, 9612, 9739, 26141, 10612, 10909, 713, 2088, 11236, 13203, 9057, 70912, 10020, 576, 8766, 1592, 37144, 11101, 22621, 144673, 10545, 9268, 144982, 38955, 11210, 27854, 2769, 567, 3078, 909, 705, 223, 4174, 20758, 17281, 1939, 3598, 13562, 1712, 260, 10331, 228, 39940, 11306, 6346, 35115, 18444, 24795, 15947, 9078, 29682, 8367, 819, 12614, 11575, 11386, 15764, 17979, 9305, 790, 1103, 11298, 4483, 659, 7452, 975, 18129, 402838, 14285, 31225, 335, 11645, 3109, 311, 490, 9665, 18971, 1480, 829, 235, 832, 14462, 8428, 212, 1633, 288, 16633, 10322, 655, 8077, 25944, 49126, 40368, 32146, 4722, 229, 9529, 11349, 6217, 653, 20539, 168283, 10357, 37430, 17832, 10351, 3597, 36797, 9386, 2320, 9559, 14908, 37244, 4824, 978, 2666, 9087, 524, 17015, 28387, 11062, 10474, 49805, 9587, 17402, 41647, 16771, 25440, 2259, 872, 49763, 26561, 1412, 10409, 13667, 168535, 10896, 16420, 47018, 577, 9089, 9623, 40154, 1775, 6520, 2293, 11472, 9382, 22625, 18395, 21183, 13701, 6280, 1945, 10452, 10464, 11566, 18620, 12121, 9800, 10445, 12519, 10635, 114, 47333, 360255, 3595, 10546, 1770, 30892, 14370, 4104, 10003, 20457, 11831, 714, 11702, 50797, 9407, 8844, 11862, 139405, 11525, 11859, 9102, 2086, 9283, 9614, 10324, 11066, 5757, 493666, 8839, 10329, 8512, 9886, 9344, 48787, 11980, 18402, 47939, 18256, 1909, 4954, 8467, 397, 47504, 8986, 56428, 9058, 63020, 161495, 92769, 20306, 11381, 48287, 11382, 34152, 10660, 11011, 15128, 8831, 40480, 44318, 2654, 46094, 2019, 31642, 31643, 10440, 9516, 8291, 18133, 7007, 8850, 20967, 21352, 32562, 124472, 7300, 10824, 40926, 61752, 11107, 2300, 40001, 753, 10990, 20759, 10547, 9826, 11228, 36344, 18550, 109478, 10061, 3587, 10723, 10987, 28288, 1859, 32574, 45450, 51043, 9333, 9625, 31102, 15944, 11229, 9591, 30500, 42314, 1834, 2119, 124837, 8074, 124676, 763, 9964, 4485, 339, 96288, 52263, 24913, 103688, 28198, 9279, 4789, 17795, 68924, 2928, 18451, 55146, 1968, 61563, 11419, 27322, 9413, 49462, 38295, 9416, 26180, 20723, 6623, 29461, 9416, 45019, 63437, 62422, 9827, 8067, 45153, 12616, 34838, 9823, 19601, 9574, 10371, 9714, 4233, 10217, 438108, 9922, 25994, 9746, 9438, 115, 26941, 27103, 9410, 39780, <NA>, 9490, 8583, 21252, 26269, 11808, 47452, 617, 9440, 2157, 8838, 795, 902, 40628, 10997, 922, 10404, 10534, 2045, 9101, 4307, 9100, 38223, 12123, 9306, 12559, 21612, 21539, 77223, 9450, 66588, 33657, 8438, 13595, 16297, 15765, 507, 11858, 4808, 10948, 175, 21915, 11861, 97406, 11359, 5894, 52856, 77350, 76, 11593, 25296, 31439, 9571, 21450, 9300, 47889, 27768, 41007, 13320, 8356, 23114, 40206, 81310, 54405, 38251, 41768, 41384, 17182, 10543, 29621, 20762, 36915, 58770, 20318, 52855, 10861, 44465, 38153, 31640, 34314, 293934, 17894, 24662, 50512, 118991, 11103, 11970, 34941, 32519, 26441, 28033, 26391, 18658, 22317, 16299, 144673, 20723, 35588, 1600, 10341, 16448, 26890, 14553, 549, 9401, 9403, 9360, 9611, 33660, 1701, 27845, 2469, 10835, 13528, 422, 25099, 12499, 38904, 14289, <NA>, 55261, 15602, 19326, 11041, 29918, 31504, 25059, 144673, 864, 10379, 9037, 10871, 10549, 19760, 10525, 9061, 36357, 12280, 10443, 2246, 9304, 11363, 18862, 22292, 11112, 12110, 9263, 47475, 43535, 11655, 23570, 19855, 10607, 18975, 30285, 21253, 19101, 28120, 11314, 21032, 13685, 37975, 30157, 9071, 36196, 2307, 9905, 2788, 52038, 15139, 15477, 12233, 11962, 337931, 12241, 41801, 8744, 51352, 36447, 33245, 25087, 9405, 1639, 867, 11114, 38554, 26271, 28121, 9308, 16399, 406, 2074, 159185, 83718, 23210, 46029, 37291, 10086, 41417, 42807, 1873, 259209, 10531, 9067, 60855, 29973, 23333, 47502, 44705, 32093, 41843, 11455, 15143, 61536, 5967, 26378, 57575, 22649, 16372, 11331, 37165, 63076, 11104, 290157, 32646, 12656, 14821, 49471, 10537, 31908, 10938, 19952, 10428, 10467, 26408, 10548, 8052, 88423, 19819, 117553, 38722, 46797, 36040, 46063, 40507, 26949, 12635, 8072, 77056, 36266, 11015, 102461, 1398, 64802, 37616, 92381, 36758, 42424, 36929, 15730, 36614, 1689, 13815, 17600, 26933, 22490, 63945, 47260, 32332, 14905, 17414, 11008, 40490, 10879, 26352, 26261, 19176, 24257, 12475, 59930, 52633, 9086, 26306, 25796, 43911, 32119, 19155, 527, 12527, 41878, 41852, 10363, 21588, 110465, 581579, 159, 3080, 198, 47199, 31000, 11863, 6071, 24070, 9271, 57834, 18551, 4916, 5879, 11867, 21626, 9691, 10634, 15789, 16295, 10449, 6, 34024, 35233, 25969, 46027, 22279, 3512, 18220, 3586, 10173, 10174, 99002, 31535, 124606, 64562, 52537, 12799, 1408, 9323, 10545, 78285, 12238, 8860, 12489, 26258, 11853, 26203, 9024, 36555, 105763, 266, 79593, 9054, 124680, 125021, 125021, 17770, 110972, 36834, 221917, 49963, 18555, 410921, 108401, 51242, 20649, 10497, 18299, 42580, 31586, 575751, 2124, 5550, 85247, 29649, 9400, 16052, 38225, 14398, 88224, 46732, 18080, 43566, 37345, 4380, 32308, 47449, 2021, 124460, 23449, 17834, 54007, 49645, 56651, 33506, 43742, 29376, 43795, 32872, 10890, 201445, 2087, 109560, 27993, 38867, 255546, 188589, 44495, 43488, 31357, 85328, 30949, 17585, 12723, 547, 61548, 89333, 39428, 291731, 203119, 47507, 59146, 54850, 161070, 43634, 37667, 90148, 87169, 81949, <NA>, 124306, 183955, 44535, 31546, 11511, 34170, 124645, 69895, 525936, 151489, 124614, 124619, 297645, 48144, 368995, 116690, 213917, 145925, 100914, 241058, 10232, 101230, 293794, 2033, 161806, 163801, 603385, <NA>, 116356, 67365, 136311, 17642, 146341, 512545, 104931, 18919, 86369, 199512, 64900, 1702, 233206, 243351, 66597, 14832, 40506, 58911, 90928, 76996, 93946, 109614, 53023, 50850, 144982, 65889, 17991, 37567, 43771, 18451, 249358, 111367, 75250, 36434, 1959, 125052, 28628, 43905, 268135, 191874, 30304, 1413, 23637, 25403, 13446, 50091, 8391, 2636, 47867, 28302, 39349, 8069, 19004, 11667, 32502, 11231, 10447, 24645, 19931, 8011, <NA>, 32325, 87078, 95963, 48992, 106143, 58985, 116844, 28059, 10215, 102406, 531591, 9822, 216794, 25719, 78406, 2625, 16097, 41478, 22067, 19092, 68274, 10533, 18069, 20723, 49980, 30528, 261246, 52873, 5801, 121357, 25670, 50001, 22688, 22356, 22613, 22733, 55058, 66473, 21202, 277102, 218713, 11238, 22797, 139408, 188588, 71754, 56583, 6715, 45325, 43475, 27303, 11687, 26531, 131957, 14587, 26167, 2212, 11443, 58372, 10869, 29444, 52059, 9313, 18713, 41580, 278939, 34444, 51980, 24405, 349394, 80350, 41043, 123505, 22826, 46986, 23945, 124829, 559489, 348549, 31388, 55936, 11800, 35645, 159, 59569, 12652, 55049, 37141, 41579, 66034, 9977, 896, 60082, 47686, 78802, <NA>, 55731, 28313, 39310, 75555, 31911, 41590, 41006, 12632, 17127, 9281, 12538, 1811, 11902, 87729, 27985, 95743, 124304, 15321, 17961, <NA>, 90214, 12793, 46924, 30765, 218473, 85638, 56830, 33689, 73067, 203994, 10802, 224516, 61813, 62488, 72031, 32631, 36141, 49803, 18242, 340210, 16417, 897, 288173, 35797, 88030, 185191, 105045, 277270, 44103, 245268, 55613, 215107, 202425, 196940, 77771, 181083, 41225, 87190, 123763, 42005, 35206, 4837, 253632, 43596, 27256, 26174, 572997, 117500, 41326, <NA>, 46681, 60083, 16375, 158312, 11220, 358338, 37820, 21736, 45549, 63105, 10412, 18420, 124633, 43775, 49728, 44308, 32622, 31556, 65046, 14583, 125052, 15170, 18423, 31017, 68545, 46338, 41577, 64382, 49478, 267188, 32332, 9558, 27098, 36807, 48260, 161158, 1802, 17941, 2212, 11907, 83720, 49133, 124626, 44284, 41653, 38884, 68445, 117730, 123067, 124613, 110513, 23223, 43777, 257719, 85588, 58102, 2892, 106129, 22797, 44641, 5910, 53092, 1774, 22797, 29193, 47694, 99479, 31535, 50463, 102732, 124639, 168535, 25697, 42758, 41588, 45671, 125587, 13982, 102878, 124843, 291634, 107743, 407992, 281289, 47112, 8223, 226229, 47796, 38191, 59232, 124851, 44361, 2923, 10215, 38129, 88893]\n"
     ]
    }
   ],
   "source": [
    "tmdb_ids = links.tmdb_id.tolist()\n",
    "print(tmdb_ids)"
   ]
  },
  {
   "cell_type": "code",
   "execution_count": 7,
   "metadata": {},
   "outputs": [],
   "source": [
    "def get_movie_features(tmdb_ids):\n",
    "    num = len(tmdb_ids)\n",
    "    tick = 0\n",
    "    features = []\n",
    "    for i in tmdb_ids:\n",
    "        feature = tmdb.movie(i)\n",
    "        if feature != False: \n",
    "            features.append(feature)\n",
    "        \n",
    "        tick = tick + 1\n",
    "        update_progress(tick / num)\n",
    "    \n",
    "    update_progress(1)\n",
    "    return features"
   ]
  },
  {
   "cell_type": "code",
   "execution_count": 8,
   "metadata": {},
   "outputs": [],
   "source": [
    "def save_movie_features(features):\n",
    "    outfile = \"data/features.json\"\n",
    "    with open(outfile, 'w') as fout:\n",
    "            json.dump(features, fout)"
   ]
  },
  {
   "cell_type": "code",
   "execution_count": 9,
   "metadata": {},
   "outputs": [],
   "source": [
    "# Uncomment and Run this to download movie features from tmdb\n",
    "\n",
    "#features = get_movie_features(tmdb_ids)\n",
    "#save_movie_features(features)"
   ]
  },
  {
   "cell_type": "markdown",
   "metadata": {},
   "source": [
    "## Create Item Features Augment"
   ]
  },
  {
   "cell_type": "code",
   "execution_count": 10,
   "metadata": {},
   "outputs": [],
   "source": [
    "df_features = pd.read_json(\"data/features.json\")\n",
    "#df_features = pd.DataFrame.from_dict(features)"
   ]
  },
  {
   "cell_type": "code",
   "execution_count": 11,
   "metadata": {},
   "outputs": [],
   "source": [
    "# Select the non NA links\n",
    "links_full = links[~links.tmdb_id.isna()][[\"movie_id\", \"tmdb_id\"]]"
   ]
  },
  {
   "cell_type": "code",
   "execution_count": 12,
   "metadata": {},
   "outputs": [],
   "source": [
    "df_item_features = pd.merge(left=df_features, right=links_full, left_on=\"id\", right_on=\"tmdb_id\", how=\"left\")"
   ]
  },
  {
   "cell_type": "code",
   "execution_count": 13,
   "metadata": {},
   "outputs": [
    {
     "data": {
      "text/html": [
       "<div>\n",
       "<style scoped>\n",
       "    .dataframe tbody tr th:only-of-type {\n",
       "        vertical-align: middle;\n",
       "    }\n",
       "\n",
       "    .dataframe tbody tr th {\n",
       "        vertical-align: top;\n",
       "    }\n",
       "\n",
       "    .dataframe thead th {\n",
       "        text-align: right;\n",
       "    }\n",
       "</style>\n",
       "<table border=\"1\" class=\"dataframe\">\n",
       "  <thead>\n",
       "    <tr style=\"text-align: right;\">\n",
       "      <th></th>\n",
       "      <th>adult</th>\n",
       "      <th>backdrop_path</th>\n",
       "      <th>belongs_to_collection</th>\n",
       "      <th>budget</th>\n",
       "      <th>genres</th>\n",
       "      <th>homepage</th>\n",
       "      <th>id</th>\n",
       "      <th>imdb_id</th>\n",
       "      <th>original_language</th>\n",
       "      <th>original_title</th>\n",
       "      <th>...</th>\n",
       "      <th>runtime</th>\n",
       "      <th>spoken_languages</th>\n",
       "      <th>status</th>\n",
       "      <th>tagline</th>\n",
       "      <th>title</th>\n",
       "      <th>video</th>\n",
       "      <th>vote_average</th>\n",
       "      <th>vote_count</th>\n",
       "      <th>movie_id</th>\n",
       "      <th>tmdb_id</th>\n",
       "    </tr>\n",
       "  </thead>\n",
       "  <tbody>\n",
       "    <tr>\n",
       "      <th>0</th>\n",
       "      <td>False</td>\n",
       "      <td>/dji4Fm0gCDVb9DQQMRvAI8YNnTz.jpg</td>\n",
       "      <td>{'id': 10194, 'name': 'Toy Story Collection', ...</td>\n",
       "      <td>30000000</td>\n",
       "      <td>[{'id': 16, 'name': 'Animation'}, {'id': 35, '...</td>\n",
       "      <td>http://toystory.disney.com/toy-story</td>\n",
       "      <td>862</td>\n",
       "      <td>tt0114709</td>\n",
       "      <td>en</td>\n",
       "      <td>Toy Story</td>\n",
       "      <td>...</td>\n",
       "      <td>81.0</td>\n",
       "      <td>[{'iso_639_1': 'en', 'name': 'English'}]</td>\n",
       "      <td>Released</td>\n",
       "      <td></td>\n",
       "      <td>Toy Story</td>\n",
       "      <td>False</td>\n",
       "      <td>7.9</td>\n",
       "      <td>10878</td>\n",
       "      <td>1</td>\n",
       "      <td>862</td>\n",
       "    </tr>\n",
       "    <tr>\n",
       "      <th>1</th>\n",
       "      <td>False</td>\n",
       "      <td>/dA9I0Vd9OZzRQ2GyGcsFXdKGMz3.jpg</td>\n",
       "      <td>{'id': 645, 'name': 'James Bond Collection', '...</td>\n",
       "      <td>58000000</td>\n",
       "      <td>[{'id': 12, 'name': 'Adventure'}, {'id': 28, '...</td>\n",
       "      <td>http://www.mgm.com/view/movie/757/Goldeneye/</td>\n",
       "      <td>710</td>\n",
       "      <td>tt0113189</td>\n",
       "      <td>en</td>\n",
       "      <td>GoldenEye</td>\n",
       "      <td>...</td>\n",
       "      <td>130.0</td>\n",
       "      <td>[{'iso_639_1': 'en', 'name': 'English'}, {'iso...</td>\n",
       "      <td>Released</td>\n",
       "      <td>No limits. No fears. No substitutes.</td>\n",
       "      <td>GoldenEye</td>\n",
       "      <td>False</td>\n",
       "      <td>6.8</td>\n",
       "      <td>2037</td>\n",
       "      <td>2</td>\n",
       "      <td>710</td>\n",
       "    </tr>\n",
       "    <tr>\n",
       "      <th>2</th>\n",
       "      <td>False</td>\n",
       "      <td>/3EqYpbGCE9S5GddU2K4cYzP5UmI.jpg</td>\n",
       "      <td>None</td>\n",
       "      <td>4000000</td>\n",
       "      <td>[{'id': 80, 'name': 'Crime'}, {'id': 35, 'name...</td>\n",
       "      <td>None</td>\n",
       "      <td>5</td>\n",
       "      <td>tt0113101</td>\n",
       "      <td>en</td>\n",
       "      <td>Four Rooms</td>\n",
       "      <td>...</td>\n",
       "      <td>98.0</td>\n",
       "      <td>[{'iso_639_1': 'en', 'name': 'English'}]</td>\n",
       "      <td>Released</td>\n",
       "      <td>Twelve outrageous guests. Four scandalous requ...</td>\n",
       "      <td>Four Rooms</td>\n",
       "      <td>False</td>\n",
       "      <td>6.1</td>\n",
       "      <td>1251</td>\n",
       "      <td>3</td>\n",
       "      <td>5</td>\n",
       "    </tr>\n",
       "    <tr>\n",
       "      <th>3</th>\n",
       "      <td>False</td>\n",
       "      <td>/g1BfxcnplYEveGqS1ttfhdRBgbR.jpg</td>\n",
       "      <td>{'id': 91698, 'name': 'Chili Palmer Collection...</td>\n",
       "      <td>30250000</td>\n",
       "      <td>[{'id': 35, 'name': 'Comedy'}, {'id': 53, 'nam...</td>\n",
       "      <td>None</td>\n",
       "      <td>8012</td>\n",
       "      <td>tt0113161</td>\n",
       "      <td>en</td>\n",
       "      <td>Get Shorty</td>\n",
       "      <td>...</td>\n",
       "      <td>105.0</td>\n",
       "      <td>[{'iso_639_1': 'en', 'name': 'English'}]</td>\n",
       "      <td>Released</td>\n",
       "      <td>The mob is tough, but it’s nothing like show b...</td>\n",
       "      <td>Get Shorty</td>\n",
       "      <td>False</td>\n",
       "      <td>6.5</td>\n",
       "      <td>501</td>\n",
       "      <td>4</td>\n",
       "      <td>8012</td>\n",
       "    </tr>\n",
       "    <tr>\n",
       "      <th>4</th>\n",
       "      <td>False</td>\n",
       "      <td>/gE1DHa82NZVb9B2Lx2cLNz43Iwd.jpg</td>\n",
       "      <td>None</td>\n",
       "      <td>0</td>\n",
       "      <td>[{'id': 18, 'name': 'Drama'}, {'id': 53, 'name...</td>\n",
       "      <td>None</td>\n",
       "      <td>1710</td>\n",
       "      <td>tt0112722</td>\n",
       "      <td>en</td>\n",
       "      <td>Copycat</td>\n",
       "      <td>...</td>\n",
       "      <td>124.0</td>\n",
       "      <td>[{'iso_639_1': 'en', 'name': 'English'}, {'iso...</td>\n",
       "      <td>Released</td>\n",
       "      <td>One man is copying the most notorious killers ...</td>\n",
       "      <td>Copycat</td>\n",
       "      <td>False</td>\n",
       "      <td>6.5</td>\n",
       "      <td>424</td>\n",
       "      <td>5</td>\n",
       "      <td>1710</td>\n",
       "    </tr>\n",
       "  </tbody>\n",
       "</table>\n",
       "<p>5 rows × 27 columns</p>\n",
       "</div>"
      ],
      "text/plain": [
       "   adult                     backdrop_path  \\\n",
       "0  False  /dji4Fm0gCDVb9DQQMRvAI8YNnTz.jpg   \n",
       "1  False  /dA9I0Vd9OZzRQ2GyGcsFXdKGMz3.jpg   \n",
       "2  False  /3EqYpbGCE9S5GddU2K4cYzP5UmI.jpg   \n",
       "3  False  /g1BfxcnplYEveGqS1ttfhdRBgbR.jpg   \n",
       "4  False  /gE1DHa82NZVb9B2Lx2cLNz43Iwd.jpg   \n",
       "\n",
       "                               belongs_to_collection    budget  \\\n",
       "0  {'id': 10194, 'name': 'Toy Story Collection', ...  30000000   \n",
       "1  {'id': 645, 'name': 'James Bond Collection', '...  58000000   \n",
       "2                                               None   4000000   \n",
       "3  {'id': 91698, 'name': 'Chili Palmer Collection...  30250000   \n",
       "4                                               None         0   \n",
       "\n",
       "                                              genres  \\\n",
       "0  [{'id': 16, 'name': 'Animation'}, {'id': 35, '...   \n",
       "1  [{'id': 12, 'name': 'Adventure'}, {'id': 28, '...   \n",
       "2  [{'id': 80, 'name': 'Crime'}, {'id': 35, 'name...   \n",
       "3  [{'id': 35, 'name': 'Comedy'}, {'id': 53, 'nam...   \n",
       "4  [{'id': 18, 'name': 'Drama'}, {'id': 53, 'name...   \n",
       "\n",
       "                                       homepage    id    imdb_id  \\\n",
       "0          http://toystory.disney.com/toy-story   862  tt0114709   \n",
       "1  http://www.mgm.com/view/movie/757/Goldeneye/   710  tt0113189   \n",
       "2                                          None     5  tt0113101   \n",
       "3                                          None  8012  tt0113161   \n",
       "4                                          None  1710  tt0112722   \n",
       "\n",
       "  original_language original_title  ... runtime  \\\n",
       "0                en      Toy Story  ...    81.0   \n",
       "1                en      GoldenEye  ...   130.0   \n",
       "2                en     Four Rooms  ...    98.0   \n",
       "3                en     Get Shorty  ...   105.0   \n",
       "4                en        Copycat  ...   124.0   \n",
       "\n",
       "                                    spoken_languages    status  \\\n",
       "0           [{'iso_639_1': 'en', 'name': 'English'}]  Released   \n",
       "1  [{'iso_639_1': 'en', 'name': 'English'}, {'iso...  Released   \n",
       "2           [{'iso_639_1': 'en', 'name': 'English'}]  Released   \n",
       "3           [{'iso_639_1': 'en', 'name': 'English'}]  Released   \n",
       "4  [{'iso_639_1': 'en', 'name': 'English'}, {'iso...  Released   \n",
       "\n",
       "                                             tagline       title  video  \\\n",
       "0                                                      Toy Story  False   \n",
       "1               No limits. No fears. No substitutes.   GoldenEye  False   \n",
       "2  Twelve outrageous guests. Four scandalous requ...  Four Rooms  False   \n",
       "3  The mob is tough, but it’s nothing like show b...  Get Shorty  False   \n",
       "4  One man is copying the most notorious killers ...     Copycat  False   \n",
       "\n",
       "   vote_average  vote_count movie_id tmdb_id  \n",
       "0           7.9       10878        1     862  \n",
       "1           6.8        2037        2     710  \n",
       "2           6.1        1251        3       5  \n",
       "3           6.5         501        4    8012  \n",
       "4           6.5         424        5    1710  \n",
       "\n",
       "[5 rows x 27 columns]"
      ]
     },
     "execution_count": 13,
     "metadata": {},
     "output_type": "execute_result"
    }
   ],
   "source": [
    "df_item_features.head()"
   ]
  },
  {
   "cell_type": "code",
   "execution_count": 14,
   "metadata": {},
   "outputs": [],
   "source": [
    "df_item_features.to_csv(\"data/item_features.csv\", index=None)"
   ]
  },
  {
   "cell_type": "markdown",
   "metadata": {},
   "source": [
    "## Get Movie Posters"
   ]
  },
  {
   "cell_type": "code",
   "execution_count": 15,
   "metadata": {},
   "outputs": [
    {
     "name": "stdout",
     "output_type": "stream",
     "text": [
      "Directory already exists C:\\Users\\sadha\\OneDrive\\Desktop\\Movie Recommendation System/data/posters\n"
     ]
    }
   ],
   "source": [
    "# Create Poster Directory\n",
    "create_directory(\"/data/posters\")"
   ]
  },
  {
   "cell_type": "code",
   "execution_count": 16,
   "metadata": {},
   "outputs": [],
   "source": [
    "def poster(movie_id, df):\n",
    "    \"\"\"\n",
    "    Gets the movie poster from the movie_id\n",
    "    \n",
    "    poster_path (string): path for the poster\n",
    "    df (pd.Dataframe): pandas dataframe with movie id and poster_path\n",
    "    \"\"\"\n",
    "    directory_path = \"data/posters/\"    \n",
    "    poster_path = df[df.movie_id == movie_id].poster_path.values[0]\n",
    "    if poster_path == None:\n",
    "        poster_path = \"\"\n",
    "    \n",
    "    save_path = directory_path + str(movie_id) + \".jpg\"\n",
    "    \n",
    "    base_url = \"https://image.tmdb.org/t/p/w92\"\n",
    "    url = base_url + poster_path   \n",
    "    \n",
    "    response = requests.request(\"GET\", url, stream=True)\n",
    "    if response.status_code == 200:\n",
    "        with open(save_path, 'wb') as out_file:\n",
    "            response.raw.decode_content = True \n",
    "            shutil.copyfileobj(response.raw, out_file)\n",
    "        return True\n",
    "    else: \n",
    "        return False"
   ]
  },
  {
   "cell_type": "code",
   "execution_count": 17,
   "metadata": {},
   "outputs": [
    {
     "data": {
      "text/html": [
       "<div>\n",
       "<style scoped>\n",
       "    .dataframe tbody tr th:only-of-type {\n",
       "        vertical-align: middle;\n",
       "    }\n",
       "\n",
       "    .dataframe tbody tr th {\n",
       "        vertical-align: top;\n",
       "    }\n",
       "\n",
       "    .dataframe thead th {\n",
       "        text-align: right;\n",
       "    }\n",
       "</style>\n",
       "<table border=\"1\" class=\"dataframe\">\n",
       "  <thead>\n",
       "    <tr style=\"text-align: right;\">\n",
       "      <th></th>\n",
       "      <th>movie_id</th>\n",
       "      <th>poster_path</th>\n",
       "    </tr>\n",
       "  </thead>\n",
       "  <tbody>\n",
       "    <tr>\n",
       "      <th>340</th>\n",
       "      <td>330</td>\n",
       "      <td>None</td>\n",
       "    </tr>\n",
       "    <tr>\n",
       "      <th>399</th>\n",
       "      <td>387</td>\n",
       "      <td>None</td>\n",
       "    </tr>\n",
       "    <tr>\n",
       "      <th>788</th>\n",
       "      <td>767</td>\n",
       "      <td>None</td>\n",
       "    </tr>\n",
       "    <tr>\n",
       "      <th>891</th>\n",
       "      <td>868</td>\n",
       "      <td>None</td>\n",
       "    </tr>\n",
       "    <tr>\n",
       "      <th>1376</th>\n",
       "      <td>1340</td>\n",
       "      <td>None</td>\n",
       "    </tr>\n",
       "    <tr>\n",
       "      <th>1382</th>\n",
       "      <td>1346</td>\n",
       "      <td>None</td>\n",
       "    </tr>\n",
       "    <tr>\n",
       "      <th>1469</th>\n",
       "      <td>1431</td>\n",
       "      <td>None</td>\n",
       "    </tr>\n",
       "    <tr>\n",
       "      <th>1542</th>\n",
       "      <td>1498</td>\n",
       "      <td>None</td>\n",
       "    </tr>\n",
       "    <tr>\n",
       "      <th>1612</th>\n",
       "      <td>1568</td>\n",
       "      <td>None</td>\n",
       "    </tr>\n",
       "    <tr>\n",
       "      <th>1720</th>\n",
       "      <td>1667</td>\n",
       "      <td>None</td>\n",
       "    </tr>\n",
       "  </tbody>\n",
       "</table>\n",
       "</div>"
      ],
      "text/plain": [
       "      movie_id poster_path\n",
       "340        330        None\n",
       "399        387        None\n",
       "788        767        None\n",
       "891        868        None\n",
       "1376      1340        None\n",
       "1382      1346        None\n",
       "1469      1431        None\n",
       "1542      1498        None\n",
       "1612      1568        None\n",
       "1720      1667        None"
      ]
     },
     "execution_count": 17,
     "metadata": {},
     "output_type": "execute_result"
    }
   ],
   "source": [
    "df_item_features[df_item_features.poster_path.isna()][[\"movie_id\", \"poster_path\"]]"
   ]
  },
  {
   "cell_type": "code",
   "execution_count": 18,
   "metadata": {},
   "outputs": [],
   "source": [
    "import shutil"
   ]
  },
  {
   "cell_type": "code",
   "execution_count": 19,
   "metadata": {},
   "outputs": [],
   "source": [
    "#poster(1, df_item_features)"
   ]
  },
  {
   "cell_type": "code",
   "execution_count": 20,
   "metadata": {},
   "outputs": [],
   "source": [
    "#from IPython.display import Image \n",
    "#Image(filename='data/posters/8.jpg')"
   ]
  },
  {
   "cell_type": "code",
   "execution_count": 21,
   "metadata": {},
   "outputs": [],
   "source": [
    "def get_all_posters(df):\n",
    "    \"\"\"\n",
    "    Get all posters from the dataframe and save with movie_id\n",
    "    \"\"\"\n",
    "    id_list = df.movie_id.tolist()\n",
    "    num = len(id_list)\n",
    "    tick = 0\n",
    "    \n",
    "    for i in id_list:\n",
    "        df[\"image\"] = poster(i, df)\n",
    "        tick = tick + 1\n",
    "        update_progress(tick / num)\n",
    "    \n",
    "    update_progress(1)\n",
    "    return df"
   ]
  },
  {
   "cell_type": "code",
   "execution_count": 22,
   "metadata": {},
   "outputs": [],
   "source": [
    "#Uncomment and run this to get posters\n",
    "#get_all_posters(df_item_features)"
   ]
  },
  {
   "cell_type": "code",
   "execution_count": null,
   "metadata": {},
   "outputs": [],
   "source": []
  },
  {
   "cell_type": "code",
   "execution_count": null,
   "metadata": {},
   "outputs": [],
   "source": []
  }
 ],
 "metadata": {
  "kernelspec": {
   "display_name": "Python 3 (ipykernel)",
   "language": "python",
   "name": "python3"
  },
  "language_info": {
   "codemirror_mode": {
    "name": "ipython",
    "version": 3
   },
   "file_extension": ".py",
   "mimetype": "text/x-python",
   "name": "python",
   "nbconvert_exporter": "python",
   "pygments_lexer": "ipython3",
   "version": "3.9.13"
  }
 },
 "nbformat": 4,
 "nbformat_minor": 4
}
