{
 "cells": [
  {
   "cell_type": "markdown",
   "metadata": {},
   "source": [
    "# Refine the Data"
   ]
  },
  {
   "cell_type": "markdown",
   "metadata": {},
   "source": [
    "Create the items, users and interaction matrix\n",
    "\n",
    "- **Items**: item id + metadata features\n",
    "- **Users**: User id + metadata features\n",
    "- **Interaction**: Explicit Matrix, Implicit Matrix"
   ]
  },
  {
   "cell_type": "code",
   "execution_count": 1,
   "metadata": {},
   "outputs": [],
   "source": [
    "import sys\n",
    "sys.path.append(\"../\")\n",
    "\n",
    "import warnings\n",
    "warnings.filterwarnings(\"ignore\")"
   ]
  },
  {
   "cell_type": "code",
   "execution_count": 2,
   "metadata": {},
   "outputs": [],
   "source": [
    "import numpy as np\n",
    "import pandas as pd\n",
    "import re\n",
    "from reco.preprocess import remove_year"
   ]
  },
  {
   "cell_type": "markdown",
   "metadata": {},
   "source": [
    "## Items\n",
    "\n",
    "For the items, we will keep the following:\n",
    "- From `items_raw` dataframe\n",
    "  - movie_id\n",
    "  - title\n",
    "  - year (release)\n",
    "  - genre categories\n",
    "- From `item_features` dataframe\n",
    "  - overview\n",
    "  - language (original_language)\n",
    "  - runtime\n",
    "  - vote_average\n",
    "  - vote_count"
   ]
  },
  {
   "cell_type": "code",
   "execution_count": 3,
   "metadata": {},
   "outputs": [],
   "source": [
    "items_raw = pd.read_csv(\"data/items_raw.csv\")\n",
    "item_features = pd.read_csv(\"data/item_features.csv\")"
   ]
  },
  {
   "cell_type": "markdown",
   "metadata": {},
   "source": [
    "*1. Get `year` from `release_title`* "
   ]
  },
  {
   "cell_type": "code",
   "execution_count": 4,
   "metadata": {},
   "outputs": [],
   "source": [
    "items_raw[\"release_date\"] = pd.to_datetime(items_raw.release_date, infer_datetime_format=True)\n",
    "items_raw[\"year\"] = items_raw.release_date.apply(lambda x: str(x.year))"
   ]
  },
  {
   "cell_type": "markdown",
   "metadata": {},
   "source": [
    "*2. Drop `imdb_url`,  `video_release_date` & `release_date`*"
   ]
  },
  {
   "cell_type": "code",
   "execution_count": 5,
   "metadata": {},
   "outputs": [],
   "source": [
    "items_main = items_raw.drop(['video_release_date', 'release_date', 'imdb_url'], axis=1).copy()"
   ]
  },
  {
   "cell_type": "code",
   "execution_count": 6,
   "metadata": {},
   "outputs": [],
   "source": [
    "# Match Whitespace + ( + YEAR + )\n",
    "# regex_year = re.compile(r'\\s\\(\\d{4}\\)')\n",
    "# items[\"movie\"] = items.title.str.replace(regex_year, \"\")\n",
    "# items[\"movie\"] = items.movie.str.strip()"
   ]
  },
  {
   "cell_type": "markdown",
   "metadata": {},
   "source": [
    "*3. Get the additional features from the item_features*"
   ]
  },
  {
   "cell_type": "code",
   "execution_count": 7,
   "metadata": {},
   "outputs": [],
   "source": [
    "items_addtl = item_features[['overview', 'original_language', 'runtime', 'vote_average', 'vote_count', \"movie_id\"]].copy()"
   ]
  },
  {
   "cell_type": "markdown",
   "metadata": {},
   "source": [
    "*4. Merge the two dataframes*"
   ]
  },
  {
   "cell_type": "code",
   "execution_count": 8,
   "metadata": {},
   "outputs": [],
   "source": [
    "items = pd.merge(left=items_main, right=items_addtl, on=\"movie_id\", how=\"left\")"
   ]
  },
  {
   "cell_type": "code",
   "execution_count": 9,
   "metadata": {},
   "outputs": [
    {
     "data": {
      "text/html": [
       "<div>\n",
       "<style scoped>\n",
       "    .dataframe tbody tr th:only-of-type {\n",
       "        vertical-align: middle;\n",
       "    }\n",
       "\n",
       "    .dataframe tbody tr th {\n",
       "        vertical-align: top;\n",
       "    }\n",
       "\n",
       "    .dataframe thead th {\n",
       "        text-align: right;\n",
       "    }\n",
       "</style>\n",
       "<table border=\"1\" class=\"dataframe\">\n",
       "  <thead>\n",
       "    <tr style=\"text-align: right;\">\n",
       "      <th></th>\n",
       "      <th>movie_id</th>\n",
       "      <th>title</th>\n",
       "      <th>genre_unknown</th>\n",
       "      <th>Action</th>\n",
       "      <th>Adventure</th>\n",
       "      <th>Animation</th>\n",
       "      <th>Children</th>\n",
       "      <th>Comedy</th>\n",
       "      <th>Crime</th>\n",
       "      <th>Documentary</th>\n",
       "      <th>...</th>\n",
       "      <th>SciFi</th>\n",
       "      <th>Thriller</th>\n",
       "      <th>War</th>\n",
       "      <th>Western</th>\n",
       "      <th>year</th>\n",
       "      <th>overview</th>\n",
       "      <th>original_language</th>\n",
       "      <th>runtime</th>\n",
       "      <th>vote_average</th>\n",
       "      <th>vote_count</th>\n",
       "    </tr>\n",
       "  </thead>\n",
       "  <tbody>\n",
       "    <tr>\n",
       "      <th>0</th>\n",
       "      <td>1</td>\n",
       "      <td>Toy Story (1995)</td>\n",
       "      <td>0</td>\n",
       "      <td>0</td>\n",
       "      <td>0</td>\n",
       "      <td>1</td>\n",
       "      <td>1</td>\n",
       "      <td>1</td>\n",
       "      <td>0</td>\n",
       "      <td>0</td>\n",
       "      <td>...</td>\n",
       "      <td>0</td>\n",
       "      <td>0</td>\n",
       "      <td>0</td>\n",
       "      <td>0</td>\n",
       "      <td>1995</td>\n",
       "      <td>Led by Woody, Andy's toys live happily in his ...</td>\n",
       "      <td>en</td>\n",
       "      <td>81.0</td>\n",
       "      <td>7.9</td>\n",
       "      <td>10878.0</td>\n",
       "    </tr>\n",
       "    <tr>\n",
       "      <th>1</th>\n",
       "      <td>2</td>\n",
       "      <td>GoldenEye (1995)</td>\n",
       "      <td>0</td>\n",
       "      <td>1</td>\n",
       "      <td>1</td>\n",
       "      <td>0</td>\n",
       "      <td>0</td>\n",
       "      <td>0</td>\n",
       "      <td>0</td>\n",
       "      <td>0</td>\n",
       "      <td>...</td>\n",
       "      <td>0</td>\n",
       "      <td>1</td>\n",
       "      <td>0</td>\n",
       "      <td>0</td>\n",
       "      <td>1995</td>\n",
       "      <td>James Bond must unmask the mysterious head of ...</td>\n",
       "      <td>en</td>\n",
       "      <td>130.0</td>\n",
       "      <td>6.8</td>\n",
       "      <td>2037.0</td>\n",
       "    </tr>\n",
       "    <tr>\n",
       "      <th>2</th>\n",
       "      <td>3</td>\n",
       "      <td>Four Rooms (1995)</td>\n",
       "      <td>0</td>\n",
       "      <td>0</td>\n",
       "      <td>0</td>\n",
       "      <td>0</td>\n",
       "      <td>0</td>\n",
       "      <td>0</td>\n",
       "      <td>0</td>\n",
       "      <td>0</td>\n",
       "      <td>...</td>\n",
       "      <td>0</td>\n",
       "      <td>1</td>\n",
       "      <td>0</td>\n",
       "      <td>0</td>\n",
       "      <td>1995</td>\n",
       "      <td>It's Ted the Bellhop's first night on the job....</td>\n",
       "      <td>en</td>\n",
       "      <td>98.0</td>\n",
       "      <td>6.1</td>\n",
       "      <td>1251.0</td>\n",
       "    </tr>\n",
       "    <tr>\n",
       "      <th>3</th>\n",
       "      <td>4</td>\n",
       "      <td>Get Shorty (1995)</td>\n",
       "      <td>0</td>\n",
       "      <td>1</td>\n",
       "      <td>0</td>\n",
       "      <td>0</td>\n",
       "      <td>0</td>\n",
       "      <td>1</td>\n",
       "      <td>0</td>\n",
       "      <td>0</td>\n",
       "      <td>...</td>\n",
       "      <td>0</td>\n",
       "      <td>0</td>\n",
       "      <td>0</td>\n",
       "      <td>0</td>\n",
       "      <td>1995</td>\n",
       "      <td>Chili Palmer is a Miami mobster who gets sent ...</td>\n",
       "      <td>en</td>\n",
       "      <td>105.0</td>\n",
       "      <td>6.5</td>\n",
       "      <td>501.0</td>\n",
       "    </tr>\n",
       "    <tr>\n",
       "      <th>4</th>\n",
       "      <td>5</td>\n",
       "      <td>Copycat (1995)</td>\n",
       "      <td>0</td>\n",
       "      <td>0</td>\n",
       "      <td>0</td>\n",
       "      <td>0</td>\n",
       "      <td>0</td>\n",
       "      <td>0</td>\n",
       "      <td>1</td>\n",
       "      <td>0</td>\n",
       "      <td>...</td>\n",
       "      <td>0</td>\n",
       "      <td>1</td>\n",
       "      <td>0</td>\n",
       "      <td>0</td>\n",
       "      <td>1995</td>\n",
       "      <td>An agoraphobic psychologist and a female detec...</td>\n",
       "      <td>en</td>\n",
       "      <td>124.0</td>\n",
       "      <td>6.5</td>\n",
       "      <td>424.0</td>\n",
       "    </tr>\n",
       "  </tbody>\n",
       "</table>\n",
       "<p>5 rows × 27 columns</p>\n",
       "</div>"
      ],
      "text/plain": [
       "   movie_id              title  genre_unknown  Action  Adventure  Animation  \\\n",
       "0         1   Toy Story (1995)              0       0          0          1   \n",
       "1         2   GoldenEye (1995)              0       1          1          0   \n",
       "2         3  Four Rooms (1995)              0       0          0          0   \n",
       "3         4  Get Shorty (1995)              0       1          0          0   \n",
       "4         5     Copycat (1995)              0       0          0          0   \n",
       "\n",
       "   Children  Comedy  Crime  Documentary  ...  SciFi  Thriller  War  Western  \\\n",
       "0         1       1      0            0  ...      0         0    0        0   \n",
       "1         0       0      0            0  ...      0         1    0        0   \n",
       "2         0       0      0            0  ...      0         1    0        0   \n",
       "3         0       1      0            0  ...      0         0    0        0   \n",
       "4         0       0      1            0  ...      0         1    0        0   \n",
       "\n",
       "   year                                           overview  original_language  \\\n",
       "0  1995  Led by Woody, Andy's toys live happily in his ...                 en   \n",
       "1  1995  James Bond must unmask the mysterious head of ...                 en   \n",
       "2  1995  It's Ted the Bellhop's first night on the job....                 en   \n",
       "3  1995  Chili Palmer is a Miami mobster who gets sent ...                 en   \n",
       "4  1995  An agoraphobic psychologist and a female detec...                 en   \n",
       "\n",
       "   runtime  vote_average  vote_count  \n",
       "0     81.0           7.9     10878.0  \n",
       "1    130.0           6.8      2037.0  \n",
       "2     98.0           6.1      1251.0  \n",
       "3    105.0           6.5       501.0  \n",
       "4    124.0           6.5       424.0  \n",
       "\n",
       "[5 rows x 27 columns]"
      ]
     },
     "execution_count": 9,
     "metadata": {},
     "output_type": "execute_result"
    }
   ],
   "source": [
    "items.head()"
   ]
  },
  {
   "cell_type": "code",
   "execution_count": 10,
   "metadata": {},
   "outputs": [
    {
     "data": {
      "text/plain": [
       "18"
      ]
     },
     "execution_count": 10,
     "metadata": {},
     "output_type": "execute_result"
    }
   ],
   "source": [
    "items.overview.isna().sum()"
   ]
  },
  {
   "cell_type": "code",
   "execution_count": 11,
   "metadata": {},
   "outputs": [],
   "source": [
    "items.overview.fillna(\"None\", inplace=True)"
   ]
  },
  {
   "cell_type": "code",
   "execution_count": 12,
   "metadata": {},
   "outputs": [],
   "source": [
    "df_items = pd.read_csv(\"data/items.csv\")"
   ]
  },
  {
   "cell_type": "code",
   "execution_count": 13,
   "metadata": {},
   "outputs": [
    {
     "data": {
      "text/html": [
       "<div>\n",
       "<style scoped>\n",
       "    .dataframe tbody tr th:only-of-type {\n",
       "        vertical-align: middle;\n",
       "    }\n",
       "\n",
       "    .dataframe tbody tr th {\n",
       "        vertical-align: top;\n",
       "    }\n",
       "\n",
       "    .dataframe thead th {\n",
       "        text-align: right;\n",
       "    }\n",
       "</style>\n",
       "<table border=\"1\" class=\"dataframe\">\n",
       "  <thead>\n",
       "    <tr style=\"text-align: right;\">\n",
       "      <th></th>\n",
       "      <th>movie_id</th>\n",
       "      <th>title</th>\n",
       "      <th>genre_unknown</th>\n",
       "      <th>Action</th>\n",
       "      <th>Adventure</th>\n",
       "      <th>Animation</th>\n",
       "      <th>Children</th>\n",
       "      <th>Comedy</th>\n",
       "      <th>Crime</th>\n",
       "      <th>Documentary</th>\n",
       "      <th>...</th>\n",
       "      <th>Thriller</th>\n",
       "      <th>War</th>\n",
       "      <th>Western</th>\n",
       "      <th>year</th>\n",
       "      <th>overview</th>\n",
       "      <th>original_language</th>\n",
       "      <th>runtime</th>\n",
       "      <th>vote_average</th>\n",
       "      <th>vote_count</th>\n",
       "      <th>cleaned_title</th>\n",
       "    </tr>\n",
       "  </thead>\n",
       "  <tbody>\n",
       "    <tr>\n",
       "      <th>0</th>\n",
       "      <td>1</td>\n",
       "      <td>Toy Story (1995)</td>\n",
       "      <td>0</td>\n",
       "      <td>0</td>\n",
       "      <td>0</td>\n",
       "      <td>1</td>\n",
       "      <td>1</td>\n",
       "      <td>1</td>\n",
       "      <td>0</td>\n",
       "      <td>0</td>\n",
       "      <td>...</td>\n",
       "      <td>0</td>\n",
       "      <td>0</td>\n",
       "      <td>0</td>\n",
       "      <td>1995.0</td>\n",
       "      <td>Led by Woody, Andy's toys live happily in his ...</td>\n",
       "      <td>en</td>\n",
       "      <td>81.0</td>\n",
       "      <td>7.9</td>\n",
       "      <td>10878.0</td>\n",
       "      <td>Toy Story</td>\n",
       "    </tr>\n",
       "    <tr>\n",
       "      <th>1</th>\n",
       "      <td>2</td>\n",
       "      <td>GoldenEye (1995)</td>\n",
       "      <td>0</td>\n",
       "      <td>1</td>\n",
       "      <td>1</td>\n",
       "      <td>0</td>\n",
       "      <td>0</td>\n",
       "      <td>0</td>\n",
       "      <td>0</td>\n",
       "      <td>0</td>\n",
       "      <td>...</td>\n",
       "      <td>1</td>\n",
       "      <td>0</td>\n",
       "      <td>0</td>\n",
       "      <td>1995.0</td>\n",
       "      <td>James Bond must unmask the mysterious head of ...</td>\n",
       "      <td>en</td>\n",
       "      <td>130.0</td>\n",
       "      <td>6.8</td>\n",
       "      <td>2037.0</td>\n",
       "      <td>GoldenEye</td>\n",
       "    </tr>\n",
       "    <tr>\n",
       "      <th>2</th>\n",
       "      <td>3</td>\n",
       "      <td>Four Rooms (1995)</td>\n",
       "      <td>0</td>\n",
       "      <td>0</td>\n",
       "      <td>0</td>\n",
       "      <td>0</td>\n",
       "      <td>0</td>\n",
       "      <td>0</td>\n",
       "      <td>0</td>\n",
       "      <td>0</td>\n",
       "      <td>...</td>\n",
       "      <td>1</td>\n",
       "      <td>0</td>\n",
       "      <td>0</td>\n",
       "      <td>1995.0</td>\n",
       "      <td>It's Ted the Bellhop's first night on the job....</td>\n",
       "      <td>en</td>\n",
       "      <td>98.0</td>\n",
       "      <td>6.1</td>\n",
       "      <td>1251.0</td>\n",
       "      <td>Four Rooms</td>\n",
       "    </tr>\n",
       "    <tr>\n",
       "      <th>3</th>\n",
       "      <td>4</td>\n",
       "      <td>Get Shorty (1995)</td>\n",
       "      <td>0</td>\n",
       "      <td>1</td>\n",
       "      <td>0</td>\n",
       "      <td>0</td>\n",
       "      <td>0</td>\n",
       "      <td>1</td>\n",
       "      <td>0</td>\n",
       "      <td>0</td>\n",
       "      <td>...</td>\n",
       "      <td>0</td>\n",
       "      <td>0</td>\n",
       "      <td>0</td>\n",
       "      <td>1995.0</td>\n",
       "      <td>Chili Palmer is a Miami mobster who gets sent ...</td>\n",
       "      <td>en</td>\n",
       "      <td>105.0</td>\n",
       "      <td>6.5</td>\n",
       "      <td>501.0</td>\n",
       "      <td>Get Shorty</td>\n",
       "    </tr>\n",
       "    <tr>\n",
       "      <th>4</th>\n",
       "      <td>5</td>\n",
       "      <td>Copycat (1995)</td>\n",
       "      <td>0</td>\n",
       "      <td>0</td>\n",
       "      <td>0</td>\n",
       "      <td>0</td>\n",
       "      <td>0</td>\n",
       "      <td>0</td>\n",
       "      <td>1</td>\n",
       "      <td>0</td>\n",
       "      <td>...</td>\n",
       "      <td>1</td>\n",
       "      <td>0</td>\n",
       "      <td>0</td>\n",
       "      <td>1995.0</td>\n",
       "      <td>An agoraphobic psychologist and a female detec...</td>\n",
       "      <td>en</td>\n",
       "      <td>124.0</td>\n",
       "      <td>6.5</td>\n",
       "      <td>424.0</td>\n",
       "      <td>Copycat</td>\n",
       "    </tr>\n",
       "  </tbody>\n",
       "</table>\n",
       "<p>5 rows × 28 columns</p>\n",
       "</div>"
      ],
      "text/plain": [
       "   movie_id              title  genre_unknown  Action  Adventure  Animation  \\\n",
       "0         1   Toy Story (1995)              0       0          0          1   \n",
       "1         2   GoldenEye (1995)              0       1          1          0   \n",
       "2         3  Four Rooms (1995)              0       0          0          0   \n",
       "3         4  Get Shorty (1995)              0       1          0          0   \n",
       "4         5     Copycat (1995)              0       0          0          0   \n",
       "\n",
       "   Children  Comedy  Crime  Documentary  ...  Thriller  War  Western    year  \\\n",
       "0         1       1      0            0  ...         0    0        0  1995.0   \n",
       "1         0       0      0            0  ...         1    0        0  1995.0   \n",
       "2         0       0      0            0  ...         1    0        0  1995.0   \n",
       "3         0       1      0            0  ...         0    0        0  1995.0   \n",
       "4         0       0      1            0  ...         1    0        0  1995.0   \n",
       "\n",
       "                                            overview  original_language  \\\n",
       "0  Led by Woody, Andy's toys live happily in his ...                 en   \n",
       "1  James Bond must unmask the mysterious head of ...                 en   \n",
       "2  It's Ted the Bellhop's first night on the job....                 en   \n",
       "3  Chili Palmer is a Miami mobster who gets sent ...                 en   \n",
       "4  An agoraphobic psychologist and a female detec...                 en   \n",
       "\n",
       "   runtime  vote_average  vote_count  cleaned_title  \n",
       "0     81.0           7.9     10878.0      Toy Story  \n",
       "1    130.0           6.8      2037.0      GoldenEye  \n",
       "2     98.0           6.1      1251.0     Four Rooms  \n",
       "3    105.0           6.5       501.0     Get Shorty  \n",
       "4    124.0           6.5       424.0        Copycat  \n",
       "\n",
       "[5 rows x 28 columns]"
      ]
     },
     "execution_count": 13,
     "metadata": {},
     "output_type": "execute_result"
    }
   ],
   "source": [
    "df_items['cleaned_title'] = df_items['title'].apply(remove_year)\n",
    "df_items.head()"
   ]
  },
  {
   "cell_type": "markdown",
   "metadata": {},
   "source": [
    "### Getting the sentence vector"
   ]
  },
  {
   "cell_type": "code",
   "execution_count": 14,
   "metadata": {},
   "outputs": [],
   "source": [
    "import spacy\n",
    "nlp = spacy.load('en_core_web_lg')"
   ]
  },
  {
   "cell_type": "code",
   "execution_count": 15,
   "metadata": {},
   "outputs": [],
   "source": [
    "doc = nlp(items[\"overview\"][0])"
   ]
  },
  {
   "cell_type": "code",
   "execution_count": 16,
   "metadata": {},
   "outputs": [
    {
     "data": {
      "text/plain": [
       "array([-1.6682576 ,  0.08209237, -1.8998522 , -0.57894546,  3.637206  ,\n",
       "        0.46126536,  0.20418729,  3.307543  ,  1.0883235 , -0.9990239 ,\n",
       "        3.715574  ,  0.8342156 , -2.6748798 ,  1.082945  ,  1.0651544 ,\n",
       "        1.2832453 , -0.37863958, -0.07726289,  0.31270948, -1.385957  ,\n",
       "        2.1643152 , -1.409468  , -0.0342092 , -0.88258064,  0.66496366,\n",
       "       -0.22921385, -3.0330706 , -0.5107614 ,  0.83954465,  1.8079745 ,\n",
       "       -0.6356474 ,  0.06916294, -0.1220132 , -1.0252012 , -3.5674474 ,\n",
       "       -0.32074094, -0.9797936 ,  1.7485722 , -0.36911505,  0.14500082,\n",
       "        0.4732576 ,  0.21603526,  0.12897743,  0.2927039 , -1.0907979 ,\n",
       "        1.0357541 , -0.8144599 , -1.6231511 , -0.12688123,  2.5538268 ,\n",
       "       -1.6596926 ,  1.6522672 , -0.5406606 , -2.2643535 ,  0.3958007 ,\n",
       "       -0.511619  , -0.49368063, -0.11880509,  0.5386718 , -0.18335347,\n",
       "       -0.51058096, -1.1527691 ,  0.6106561 , -0.7836873 ,  2.5334463 ,\n",
       "        1.5647869 , -1.6526694 , -2.130539  ,  0.8158034 ,  0.78071225,\n",
       "       -0.17955282, -1.7276887 , -2.0565386 , -0.18378432,  1.0338284 ,\n",
       "        0.66419804, -2.372854  ,  2.6282718 , -2.3772273 , -1.0042797 ,\n",
       "       -3.7754753 ,  0.27623522,  1.2052534 ,  0.7035408 ,  3.0975277 ,\n",
       "       -0.43469697, -2.2414029 , -2.4280202 , -0.7606489 , -0.7321564 ,\n",
       "       -1.6355748 ,  0.13890998,  0.5422713 , -3.1277227 ,  1.6705714 ,\n",
       "       -1.1688948 ,  0.79662573, -1.4914906 ,  1.5672044 ,  1.4354734 ,\n",
       "        1.7795726 ,  1.1412162 ,  2.0249908 ,  2.7840223 ,  0.36326975,\n",
       "        1.8789251 ,  0.3368341 , -1.1009585 ,  0.56107074, -2.6962607 ,\n",
       "       -0.22142316,  2.028767  , -1.321262  ,  0.69892323,  1.5737878 ,\n",
       "       -0.6434318 ,  0.06141941, -0.29320535, -0.04781255, -0.60234296,\n",
       "       -0.9315054 , -2.2839565 ,  0.45478353, -0.12390049, -0.582339  ,\n",
       "       -1.0479891 ,  1.1891421 , -1.162247  ,  2.2077062 , -1.13497   ,\n",
       "       -2.3871362 , -0.59700376,  2.8002124 , -0.98555505, -0.36105043,\n",
       "        0.05893697, -2.020754  , -0.7929115 ,  2.4368732 , -2.204729  ,\n",
       "       -2.0652912 ,  0.02795197, -0.10122997,  1.2881114 ,  1.5662899 ,\n",
       "        0.7855761 , -3.9639094 , -0.33328375,  2.7113545 ,  1.1884886 ,\n",
       "        0.19610137,  0.3563714 ,  0.7885429 ,  1.9943267 , -1.6607746 ,\n",
       "        1.6373864 ,  2.0963385 , -0.18950026, -1.8971499 , -0.6251907 ,\n",
       "       -0.6619283 , -3.5453894 , -0.5392111 ,  1.6153368 , -2.1562634 ,\n",
       "       -1.2125064 , -1.4129028 ,  0.7707358 , -1.8986048 , -0.25514093,\n",
       "        1.9769706 , -0.6496596 ,  2.1574006 ,  0.21870187,  1.6986005 ,\n",
       "       -0.5638176 , -0.3443064 ,  0.34783804, -1.2140133 , -2.2424746 ,\n",
       "       -0.68726015, -0.44942927,  1.1225805 ,  0.28893557, -0.624341  ,\n",
       "       -0.51826394, -0.02697931, -0.7634283 ,  0.35388565,  0.20869307,\n",
       "        0.3254763 , -1.4081882 ,  0.31954134, -1.9431179 ,  0.045661  ,\n",
       "        0.07295956, -1.7068654 ,  1.139374  ,  0.14051646,  0.17180228,\n",
       "       -0.08387937, -1.1723838 ,  0.44430035, -2.4005587 ,  1.5248411 ,\n",
       "        0.29494593, -3.2437835 ,  1.1365937 , -0.76435643, -0.3746607 ,\n",
       "        0.1006584 ,  1.2229873 , -0.6356089 ,  2.095081  ,  0.6065624 ,\n",
       "        2.7852879 , -1.4194143 , -0.37676004,  0.09762612,  0.04056674,\n",
       "       -1.6430395 ,  0.9970764 , -0.7820173 ,  1.0868835 , -2.3295135 ,\n",
       "       -0.48212397,  1.2502286 ,  2.3517358 ,  0.75020057,  0.26903912,\n",
       "        2.1667066 , -1.8032503 , -1.3412771 ,  1.5000513 ,  1.3109561 ,\n",
       "        2.2812748 , -2.6881924 ,  1.0570832 , -0.6277685 , -0.8097255 ,\n",
       "       -0.49146593,  1.1765497 ,  0.6965087 , -0.42139116, -1.0473324 ,\n",
       "        1.8203043 , -1.5092638 , -0.26227424, -0.59567267,  2.5595782 ,\n",
       "        0.15469243, -1.6004736 , -3.531529  ,  0.5670451 ,  0.84501636,\n",
       "       -0.7024187 ,  2.3119159 , -1.1535492 , -0.48293418,  1.547009  ,\n",
       "        0.30853084,  3.1258888 ,  2.315098  ,  0.96274483,  1.1620471 ,\n",
       "       -0.97748953, -0.15854277,  1.7296929 , -0.8220716 ,  0.47522852,\n",
       "        1.15087   , -0.76659083,  0.08353931, -0.48812744,  1.505369  ,\n",
       "        1.1577282 ,  2.3944533 , -1.0305129 , -0.13680819,  2.0026617 ,\n",
       "       -0.43742597,  0.48487356,  0.23921345,  1.1822969 ,  2.1631143 ,\n",
       "       -0.25204542, -1.0214663 ,  0.54850084, -2.0505698 , -0.04993929,\n",
       "       -0.00800852, -0.9384357 , -0.4088663 ,  0.05404577, -1.4153935 ,\n",
       "        0.2611855 , -0.9166886 , -1.1898123 , -1.9378206 , -0.13374689],\n",
       "      dtype=float32)"
      ]
     },
     "execution_count": 16,
     "metadata": {},
     "output_type": "execute_result"
    }
   ],
   "source": [
    "doc.vector"
   ]
  },
  {
   "cell_type": "code",
   "execution_count": 17,
   "metadata": {},
   "outputs": [],
   "source": [
    "def word_vec(sentence):\n",
    "    doc = nlp(sentence)\n",
    "    return doc.vector"
   ]
  },
  {
   "cell_type": "code",
   "execution_count": 18,
   "metadata": {},
   "outputs": [
    {
     "name": "stdout",
     "output_type": "stream",
     "text": [
      "Wall time: 3min 16s\n"
     ]
    }
   ],
   "source": [
    "%%time\n",
    "overview_embedding = items[\"overview\"].apply(word_vec)"
   ]
  },
  {
   "cell_type": "code",
   "execution_count": 19,
   "metadata": {},
   "outputs": [],
   "source": [
    "overview_embedding = overview_embedding.to_list()"
   ]
  },
  {
   "cell_type": "code",
   "execution_count": 20,
   "metadata": {},
   "outputs": [],
   "source": [
    "overview_embedding_list = []\n",
    "for vec in overview_embedding:\n",
    "    overview_embedding_list.append(vec.tolist())"
   ]
  },
  {
   "cell_type": "code",
   "execution_count": 21,
   "metadata": {},
   "outputs": [
    {
     "data": {
      "text/plain": [
       "1746"
      ]
     },
     "execution_count": 21,
     "metadata": {},
     "output_type": "execute_result"
    }
   ],
   "source": [
    "len(overview_embedding_list)"
   ]
  },
  {
   "cell_type": "code",
   "execution_count": 22,
   "metadata": {},
   "outputs": [],
   "source": [
    "overview_embedding_df = pd.DataFrame(overview_embedding_list)"
   ]
  },
  {
   "cell_type": "code",
   "execution_count": 23,
   "metadata": {},
   "outputs": [
    {
     "data": {
      "text/html": [
       "<div>\n",
       "<style scoped>\n",
       "    .dataframe tbody tr th:only-of-type {\n",
       "        vertical-align: middle;\n",
       "    }\n",
       "\n",
       "    .dataframe tbody tr th {\n",
       "        vertical-align: top;\n",
       "    }\n",
       "\n",
       "    .dataframe thead th {\n",
       "        text-align: right;\n",
       "    }\n",
       "</style>\n",
       "<table border=\"1\" class=\"dataframe\">\n",
       "  <thead>\n",
       "    <tr style=\"text-align: right;\">\n",
       "      <th></th>\n",
       "      <th>0</th>\n",
       "      <th>1</th>\n",
       "      <th>2</th>\n",
       "      <th>3</th>\n",
       "      <th>4</th>\n",
       "      <th>5</th>\n",
       "      <th>6</th>\n",
       "      <th>7</th>\n",
       "      <th>8</th>\n",
       "      <th>9</th>\n",
       "      <th>...</th>\n",
       "      <th>290</th>\n",
       "      <th>291</th>\n",
       "      <th>292</th>\n",
       "      <th>293</th>\n",
       "      <th>294</th>\n",
       "      <th>295</th>\n",
       "      <th>296</th>\n",
       "      <th>297</th>\n",
       "      <th>298</th>\n",
       "      <th>299</th>\n",
       "    </tr>\n",
       "  </thead>\n",
       "  <tbody>\n",
       "    <tr>\n",
       "      <th>0</th>\n",
       "      <td>-1.668258</td>\n",
       "      <td>0.082092</td>\n",
       "      <td>-1.899852</td>\n",
       "      <td>-0.578945</td>\n",
       "      <td>3.637206</td>\n",
       "      <td>0.461265</td>\n",
       "      <td>0.204187</td>\n",
       "      <td>3.307543</td>\n",
       "      <td>1.088323</td>\n",
       "      <td>-0.999024</td>\n",
       "      <td>...</td>\n",
       "      <td>-0.008009</td>\n",
       "      <td>-0.938436</td>\n",
       "      <td>-0.408866</td>\n",
       "      <td>0.054046</td>\n",
       "      <td>-1.415393</td>\n",
       "      <td>0.261185</td>\n",
       "      <td>-0.916689</td>\n",
       "      <td>-1.189812</td>\n",
       "      <td>-1.937821</td>\n",
       "      <td>-0.133747</td>\n",
       "    </tr>\n",
       "    <tr>\n",
       "      <th>1</th>\n",
       "      <td>-2.191469</td>\n",
       "      <td>0.074849</td>\n",
       "      <td>-1.251624</td>\n",
       "      <td>1.047345</td>\n",
       "      <td>5.300576</td>\n",
       "      <td>0.019676</td>\n",
       "      <td>0.971809</td>\n",
       "      <td>3.437134</td>\n",
       "      <td>0.696242</td>\n",
       "      <td>-0.539811</td>\n",
       "      <td>...</td>\n",
       "      <td>0.045850</td>\n",
       "      <td>-0.212353</td>\n",
       "      <td>-0.292129</td>\n",
       "      <td>1.653200</td>\n",
       "      <td>-1.479490</td>\n",
       "      <td>0.741954</td>\n",
       "      <td>0.323610</td>\n",
       "      <td>-2.008511</td>\n",
       "      <td>-1.147235</td>\n",
       "      <td>0.422195</td>\n",
       "    </tr>\n",
       "    <tr>\n",
       "      <th>2</th>\n",
       "      <td>-0.348014</td>\n",
       "      <td>1.825774</td>\n",
       "      <td>-2.712861</td>\n",
       "      <td>-0.789508</td>\n",
       "      <td>5.125006</td>\n",
       "      <td>0.652385</td>\n",
       "      <td>0.293594</td>\n",
       "      <td>4.687879</td>\n",
       "      <td>0.155474</td>\n",
       "      <td>0.518683</td>\n",
       "      <td>...</td>\n",
       "      <td>0.985423</td>\n",
       "      <td>-1.384183</td>\n",
       "      <td>1.144868</td>\n",
       "      <td>0.452811</td>\n",
       "      <td>-2.827790</td>\n",
       "      <td>1.156295</td>\n",
       "      <td>0.888090</td>\n",
       "      <td>-0.011078</td>\n",
       "      <td>-2.181588</td>\n",
       "      <td>1.911778</td>\n",
       "    </tr>\n",
       "    <tr>\n",
       "      <th>3</th>\n",
       "      <td>-2.298307</td>\n",
       "      <td>0.527417</td>\n",
       "      <td>-2.091048</td>\n",
       "      <td>-0.578071</td>\n",
       "      <td>3.678412</td>\n",
       "      <td>-0.044843</td>\n",
       "      <td>0.907063</td>\n",
       "      <td>3.620301</td>\n",
       "      <td>0.787013</td>\n",
       "      <td>-0.807374</td>\n",
       "      <td>...</td>\n",
       "      <td>0.205412</td>\n",
       "      <td>-1.575186</td>\n",
       "      <td>0.487452</td>\n",
       "      <td>-0.045207</td>\n",
       "      <td>-1.349275</td>\n",
       "      <td>0.439918</td>\n",
       "      <td>1.038211</td>\n",
       "      <td>0.148759</td>\n",
       "      <td>-2.477566</td>\n",
       "      <td>1.225671</td>\n",
       "    </tr>\n",
       "    <tr>\n",
       "      <th>4</th>\n",
       "      <td>-1.722893</td>\n",
       "      <td>1.267963</td>\n",
       "      <td>-2.099204</td>\n",
       "      <td>0.110817</td>\n",
       "      <td>4.552235</td>\n",
       "      <td>0.197369</td>\n",
       "      <td>2.252256</td>\n",
       "      <td>3.794675</td>\n",
       "      <td>0.768062</td>\n",
       "      <td>-0.360550</td>\n",
       "      <td>...</td>\n",
       "      <td>-0.518746</td>\n",
       "      <td>0.685921</td>\n",
       "      <td>-0.308899</td>\n",
       "      <td>0.812863</td>\n",
       "      <td>-1.295362</td>\n",
       "      <td>1.145068</td>\n",
       "      <td>0.450276</td>\n",
       "      <td>-0.127351</td>\n",
       "      <td>-3.191836</td>\n",
       "      <td>0.640060</td>\n",
       "    </tr>\n",
       "  </tbody>\n",
       "</table>\n",
       "<p>5 rows × 300 columns</p>\n",
       "</div>"
      ],
      "text/plain": [
       "        0         1         2         3         4         5         6    \\\n",
       "0 -1.668258  0.082092 -1.899852 -0.578945  3.637206  0.461265  0.204187   \n",
       "1 -2.191469  0.074849 -1.251624  1.047345  5.300576  0.019676  0.971809   \n",
       "2 -0.348014  1.825774 -2.712861 -0.789508  5.125006  0.652385  0.293594   \n",
       "3 -2.298307  0.527417 -2.091048 -0.578071  3.678412 -0.044843  0.907063   \n",
       "4 -1.722893  1.267963 -2.099204  0.110817  4.552235  0.197369  2.252256   \n",
       "\n",
       "        7         8         9    ...       290       291       292       293  \\\n",
       "0  3.307543  1.088323 -0.999024  ... -0.008009 -0.938436 -0.408866  0.054046   \n",
       "1  3.437134  0.696242 -0.539811  ...  0.045850 -0.212353 -0.292129  1.653200   \n",
       "2  4.687879  0.155474  0.518683  ...  0.985423 -1.384183  1.144868  0.452811   \n",
       "3  3.620301  0.787013 -0.807374  ...  0.205412 -1.575186  0.487452 -0.045207   \n",
       "4  3.794675  0.768062 -0.360550  ... -0.518746  0.685921 -0.308899  0.812863   \n",
       "\n",
       "        294       295       296       297       298       299  \n",
       "0 -1.415393  0.261185 -0.916689 -1.189812 -1.937821 -0.133747  \n",
       "1 -1.479490  0.741954  0.323610 -2.008511 -1.147235  0.422195  \n",
       "2 -2.827790  1.156295  0.888090 -0.011078 -2.181588  1.911778  \n",
       "3 -1.349275  0.439918  1.038211  0.148759 -2.477566  1.225671  \n",
       "4 -1.295362  1.145068  0.450276 -0.127351 -3.191836  0.640060  \n",
       "\n",
       "[5 rows x 300 columns]"
      ]
     },
     "execution_count": 23,
     "metadata": {},
     "output_type": "execute_result"
    }
   ],
   "source": [
    "overview_embedding_df.head()"
   ]
  },
  {
   "cell_type": "code",
   "execution_count": 24,
   "metadata": {},
   "outputs": [
    {
     "data": {
      "text/plain": [
       "Index(['movie_id', 'title', 'genre_unknown', 'Action', 'Adventure',\n",
       "       'Animation', 'Children', 'Comedy', 'Crime', 'Documentary', 'Drama',\n",
       "       'Fantasy', 'FilmNoir', 'Horror', 'Musical', 'Mystery', 'Romance',\n",
       "       'SciFi', 'Thriller', 'War', 'Western', 'year', 'overview',\n",
       "       'original_language', 'runtime', 'vote_average', 'vote_count'],\n",
       "      dtype='object')"
      ]
     },
     "execution_count": 24,
     "metadata": {},
     "output_type": "execute_result"
    }
   ],
   "source": [
    "items.columns"
   ]
  },
  {
   "cell_type": "code",
   "execution_count": 25,
   "metadata": {},
   "outputs": [],
   "source": [
    "item_similarity_df = pd.concat([\n",
    "    items[['movie_id', 'genre_unknown', 'Action', 'Adventure',\n",
    "       'Animation', 'Children', 'Comedy', 'Crime', 'Documentary', 'Drama',\n",
    "       'Fantasy', 'FilmNoir', 'Horror', 'Musical', 'Mystery', 'Romance',\n",
    "       'SciFi', 'Thriller', 'War', 'Western']], \n",
    "    overview_embedding_df],\n",
    "    axis=1)"
   ]
  },
  {
   "cell_type": "code",
   "execution_count": 26,
   "metadata": {},
   "outputs": [
    {
     "data": {
      "text/html": [
       "<div>\n",
       "<style scoped>\n",
       "    .dataframe tbody tr th:only-of-type {\n",
       "        vertical-align: middle;\n",
       "    }\n",
       "\n",
       "    .dataframe tbody tr th {\n",
       "        vertical-align: top;\n",
       "    }\n",
       "\n",
       "    .dataframe thead th {\n",
       "        text-align: right;\n",
       "    }\n",
       "</style>\n",
       "<table border=\"1\" class=\"dataframe\">\n",
       "  <thead>\n",
       "    <tr style=\"text-align: right;\">\n",
       "      <th></th>\n",
       "      <th>movie_id</th>\n",
       "      <th>genre_unknown</th>\n",
       "      <th>Action</th>\n",
       "      <th>Adventure</th>\n",
       "      <th>Animation</th>\n",
       "      <th>Children</th>\n",
       "      <th>Comedy</th>\n",
       "      <th>Crime</th>\n",
       "      <th>Documentary</th>\n",
       "      <th>Drama</th>\n",
       "      <th>...</th>\n",
       "      <th>290</th>\n",
       "      <th>291</th>\n",
       "      <th>292</th>\n",
       "      <th>293</th>\n",
       "      <th>294</th>\n",
       "      <th>295</th>\n",
       "      <th>296</th>\n",
       "      <th>297</th>\n",
       "      <th>298</th>\n",
       "      <th>299</th>\n",
       "    </tr>\n",
       "  </thead>\n",
       "  <tbody>\n",
       "    <tr>\n",
       "      <th>0</th>\n",
       "      <td>1</td>\n",
       "      <td>0</td>\n",
       "      <td>0</td>\n",
       "      <td>0</td>\n",
       "      <td>1</td>\n",
       "      <td>1</td>\n",
       "      <td>1</td>\n",
       "      <td>0</td>\n",
       "      <td>0</td>\n",
       "      <td>0</td>\n",
       "      <td>...</td>\n",
       "      <td>-0.008009</td>\n",
       "      <td>-0.938436</td>\n",
       "      <td>-0.408866</td>\n",
       "      <td>0.054046</td>\n",
       "      <td>-1.415393</td>\n",
       "      <td>0.261185</td>\n",
       "      <td>-0.916689</td>\n",
       "      <td>-1.189812</td>\n",
       "      <td>-1.937821</td>\n",
       "      <td>-0.133747</td>\n",
       "    </tr>\n",
       "    <tr>\n",
       "      <th>1</th>\n",
       "      <td>2</td>\n",
       "      <td>0</td>\n",
       "      <td>1</td>\n",
       "      <td>1</td>\n",
       "      <td>0</td>\n",
       "      <td>0</td>\n",
       "      <td>0</td>\n",
       "      <td>0</td>\n",
       "      <td>0</td>\n",
       "      <td>0</td>\n",
       "      <td>...</td>\n",
       "      <td>0.045850</td>\n",
       "      <td>-0.212353</td>\n",
       "      <td>-0.292129</td>\n",
       "      <td>1.653200</td>\n",
       "      <td>-1.479490</td>\n",
       "      <td>0.741954</td>\n",
       "      <td>0.323610</td>\n",
       "      <td>-2.008511</td>\n",
       "      <td>-1.147235</td>\n",
       "      <td>0.422195</td>\n",
       "    </tr>\n",
       "    <tr>\n",
       "      <th>2</th>\n",
       "      <td>3</td>\n",
       "      <td>0</td>\n",
       "      <td>0</td>\n",
       "      <td>0</td>\n",
       "      <td>0</td>\n",
       "      <td>0</td>\n",
       "      <td>0</td>\n",
       "      <td>0</td>\n",
       "      <td>0</td>\n",
       "      <td>0</td>\n",
       "      <td>...</td>\n",
       "      <td>0.985423</td>\n",
       "      <td>-1.384183</td>\n",
       "      <td>1.144868</td>\n",
       "      <td>0.452811</td>\n",
       "      <td>-2.827790</td>\n",
       "      <td>1.156295</td>\n",
       "      <td>0.888090</td>\n",
       "      <td>-0.011078</td>\n",
       "      <td>-2.181588</td>\n",
       "      <td>1.911778</td>\n",
       "    </tr>\n",
       "    <tr>\n",
       "      <th>3</th>\n",
       "      <td>4</td>\n",
       "      <td>0</td>\n",
       "      <td>1</td>\n",
       "      <td>0</td>\n",
       "      <td>0</td>\n",
       "      <td>0</td>\n",
       "      <td>1</td>\n",
       "      <td>0</td>\n",
       "      <td>0</td>\n",
       "      <td>1</td>\n",
       "      <td>...</td>\n",
       "      <td>0.205412</td>\n",
       "      <td>-1.575186</td>\n",
       "      <td>0.487452</td>\n",
       "      <td>-0.045207</td>\n",
       "      <td>-1.349275</td>\n",
       "      <td>0.439918</td>\n",
       "      <td>1.038211</td>\n",
       "      <td>0.148759</td>\n",
       "      <td>-2.477566</td>\n",
       "      <td>1.225671</td>\n",
       "    </tr>\n",
       "    <tr>\n",
       "      <th>4</th>\n",
       "      <td>5</td>\n",
       "      <td>0</td>\n",
       "      <td>0</td>\n",
       "      <td>0</td>\n",
       "      <td>0</td>\n",
       "      <td>0</td>\n",
       "      <td>0</td>\n",
       "      <td>1</td>\n",
       "      <td>0</td>\n",
       "      <td>1</td>\n",
       "      <td>...</td>\n",
       "      <td>-0.518746</td>\n",
       "      <td>0.685921</td>\n",
       "      <td>-0.308899</td>\n",
       "      <td>0.812863</td>\n",
       "      <td>-1.295362</td>\n",
       "      <td>1.145068</td>\n",
       "      <td>0.450276</td>\n",
       "      <td>-0.127351</td>\n",
       "      <td>-3.191836</td>\n",
       "      <td>0.640060</td>\n",
       "    </tr>\n",
       "  </tbody>\n",
       "</table>\n",
       "<p>5 rows × 320 columns</p>\n",
       "</div>"
      ],
      "text/plain": [
       "   movie_id  genre_unknown  Action  Adventure  Animation  Children  Comedy  \\\n",
       "0         1              0       0          0          1         1       1   \n",
       "1         2              0       1          1          0         0       0   \n",
       "2         3              0       0          0          0         0       0   \n",
       "3         4              0       1          0          0         0       1   \n",
       "4         5              0       0          0          0         0       0   \n",
       "\n",
       "   Crime  Documentary  Drama  ...       290       291       292       293  \\\n",
       "0      0            0      0  ... -0.008009 -0.938436 -0.408866  0.054046   \n",
       "1      0            0      0  ...  0.045850 -0.212353 -0.292129  1.653200   \n",
       "2      0            0      0  ...  0.985423 -1.384183  1.144868  0.452811   \n",
       "3      0            0      1  ...  0.205412 -1.575186  0.487452 -0.045207   \n",
       "4      1            0      1  ... -0.518746  0.685921 -0.308899  0.812863   \n",
       "\n",
       "        294       295       296       297       298       299  \n",
       "0 -1.415393  0.261185 -0.916689 -1.189812 -1.937821 -0.133747  \n",
       "1 -1.479490  0.741954  0.323610 -2.008511 -1.147235  0.422195  \n",
       "2 -2.827790  1.156295  0.888090 -0.011078 -2.181588  1.911778  \n",
       "3 -1.349275  0.439918  1.038211  0.148759 -2.477566  1.225671  \n",
       "4 -1.295362  1.145068  0.450276 -0.127351 -3.191836  0.640060  \n",
       "\n",
       "[5 rows x 320 columns]"
      ]
     },
     "execution_count": 26,
     "metadata": {},
     "output_type": "execute_result"
    }
   ],
   "source": [
    "item_similarity_df.head()"
   ]
  },
  {
   "cell_type": "markdown",
   "metadata": {},
   "source": [
    "# Build nearest neighbor model"
   ]
  },
  {
   "cell_type": "code",
   "execution_count": 35,
   "metadata": {},
   "outputs": [],
   "source": [
    "from reco.recommend import get_similar\n",
    "from sklearn.neighbors import NearestNeighbors, VALID_METRICS\n",
    "import matplotlib.pyplot as plt\n",
    "import matplotlib.image as mpimg\n",
    "import PIL\n",
    "from reco.preprocess import encode_user_item_withencoder"
   ]
  },
  {
   "cell_type": "code",
   "execution_count": 36,
   "metadata": {},
   "outputs": [],
   "source": [
    "from sklearn.neighbors import NearestNeighbors\n",
    "from sklearn.metrics.pairwise import cosine_distances, cosine_similarity"
   ]
  },
  {
   "cell_type": "code",
   "execution_count": 37,
   "metadata": {},
   "outputs": [],
   "source": [
    "def get_similar(embedding, k):\n",
    "    model_similar_items = NearestNeighbors(n_neighbors=k, metric=\"cosine\",\n",
    "                                           algorithm=\"brute\").fit(embedding)\n",
    "    distances, indices = model_similar_items.kneighbors(embedding)\n",
    "    \n",
    "    return distances, indices"
   ]
  },
  {
   "cell_type": "code",
   "execution_count": 38,
   "metadata": {},
   "outputs": [
    {
     "name": "stdout",
     "output_type": "stream",
     "text": [
      "Wall time: 437 ms\n"
     ]
    }
   ],
   "source": [
    "%%time\n",
    "item_distances, item_similar_indices = get_similar(overview_embedding_df, 5)"
   ]
  },
  {
   "cell_type": "code",
   "execution_count": 39,
   "metadata": {},
   "outputs": [
    {
     "data": {
      "text/plain": [
       "array([[   0,  731, 1089,  220, 1460],\n",
       "       [   1,  249,  223,  655,  305],\n",
       "       [   2,  996,  813, 1354, 1676],\n",
       "       ...,\n",
       "       [1472, 1743, 1473, 1742,   35],\n",
       "       [1744,  188,  533, 1181, 1141],\n",
       "       [1745,  331, 1619, 1646, 1615]], dtype=int64)"
      ]
     },
     "execution_count": 39,
     "metadata": {},
     "output_type": "execute_result"
    }
   ],
   "source": [
    "item_similar_indices"
   ]
  },
  {
   "cell_type": "code",
   "execution_count": 40,
   "metadata": {},
   "outputs": [],
   "source": [
    "df_ratings = pd.read_csv(\"data/ratings.csv\")"
   ]
  },
  {
   "cell_type": "code",
   "execution_count": 41,
   "metadata": {},
   "outputs": [
    {
     "name": "stdout",
     "output_type": "stream",
     "text": [
      "Number of users:  943\n",
      "Number of items:  1682\n"
     ]
    }
   ],
   "source": [
    "DATA, user_encoder, item_encoder = encode_user_item_withencoder(df_ratings, \"user_id\", \"movie_id\", \"rating\", \"unix_timestamp\")"
   ]
  },
  {
   "cell_type": "code",
   "execution_count": 42,
   "metadata": {},
   "outputs": [],
   "source": [
    "def show_similar(item_name, item_similar_indices,item_encoder, df_items):\n",
    "    \n",
    "    # Get the item index from the item name\n",
    "    item_index = df_items[df_items['cleaned_title'] == item_name]['movie_id'].values[0]\n",
    "    # Encode the item index using the item encoder\n",
    "    item_encoded = item_encoder.transform([item_index])[0]\n",
    "        \n",
    "    movie_ids = item_similar_indices[item_index]\n",
    "    #movie_ids = item_encoder.inverse_transform(s)\n",
    "\n",
    "    images = []\n",
    "    for movie_id in movie_ids:\n",
    "        img_path = 'data/posters/' + str(movie_id+1) + '.jpg'\n",
    "        images.append(mpimg.imread(img_path))\n",
    "\n",
    "    plt.figure(figsize=(20,10))\n",
    "    columns = 5\n",
    "    for i, image in enumerate(images):\n",
    "        plt.subplot(len(images) // columns + 1, columns, i + 1)\n",
    "        plt.axis('off')\n",
    "        plt.imshow(image)"
   ]
  },
  {
   "cell_type": "code",
   "execution_count": 43,
   "metadata": {},
   "outputs": [
    {
     "ename": "FileNotFoundError",
     "evalue": "[Errno 2] No such file or directory: 'data/posters/1331.jpg'",
     "output_type": "error",
     "traceback": [
      "\u001b[1;31m---------------------------------------------------------------------------\u001b[0m",
      "\u001b[1;31mFileNotFoundError\u001b[0m                         Traceback (most recent call last)",
      "\u001b[1;32m~\\AppData\\Local\\Temp\\ipykernel_11612\\3995822101.py\u001b[0m in \u001b[0;36m<module>\u001b[1;34m\u001b[0m\n\u001b[1;32m----> 1\u001b[1;33m \u001b[0mshow_similar\u001b[0m\u001b[1;33m(\u001b[0m\u001b[1;34m\"Apollo 13\"\u001b[0m\u001b[1;33m,\u001b[0m \u001b[0mitem_similar_indices\u001b[0m\u001b[1;33m,\u001b[0m \u001b[0mitem_encoder\u001b[0m\u001b[1;33m,\u001b[0m \u001b[0mdf_items\u001b[0m\u001b[1;33m)\u001b[0m\u001b[1;33m\u001b[0m\u001b[1;33m\u001b[0m\u001b[0m\n\u001b[0m",
      "\u001b[1;32m~\\AppData\\Local\\Temp\\ipykernel_11612\\580461995.py\u001b[0m in \u001b[0;36mshow_similar\u001b[1;34m(item_name, item_similar_indices, item_encoder, df_items)\u001b[0m\n\u001b[0;32m     12\u001b[0m     \u001b[1;32mfor\u001b[0m \u001b[0mmovie_id\u001b[0m \u001b[1;32min\u001b[0m \u001b[0mmovie_ids\u001b[0m\u001b[1;33m:\u001b[0m\u001b[1;33m\u001b[0m\u001b[1;33m\u001b[0m\u001b[0m\n\u001b[0;32m     13\u001b[0m         \u001b[0mimg_path\u001b[0m \u001b[1;33m=\u001b[0m \u001b[1;34m'data/posters/'\u001b[0m \u001b[1;33m+\u001b[0m \u001b[0mstr\u001b[0m\u001b[1;33m(\u001b[0m\u001b[0mmovie_id\u001b[0m\u001b[1;33m+\u001b[0m\u001b[1;36m1\u001b[0m\u001b[1;33m)\u001b[0m \u001b[1;33m+\u001b[0m \u001b[1;34m'.jpg'\u001b[0m\u001b[1;33m\u001b[0m\u001b[1;33m\u001b[0m\u001b[0m\n\u001b[1;32m---> 14\u001b[1;33m         \u001b[0mimages\u001b[0m\u001b[1;33m.\u001b[0m\u001b[0mappend\u001b[0m\u001b[1;33m(\u001b[0m\u001b[0mmpimg\u001b[0m\u001b[1;33m.\u001b[0m\u001b[0mimread\u001b[0m\u001b[1;33m(\u001b[0m\u001b[0mimg_path\u001b[0m\u001b[1;33m)\u001b[0m\u001b[1;33m)\u001b[0m\u001b[1;33m\u001b[0m\u001b[1;33m\u001b[0m\u001b[0m\n\u001b[0m\u001b[0;32m     15\u001b[0m \u001b[1;33m\u001b[0m\u001b[0m\n\u001b[0;32m     16\u001b[0m     \u001b[0mplt\u001b[0m\u001b[1;33m.\u001b[0m\u001b[0mfigure\u001b[0m\u001b[1;33m(\u001b[0m\u001b[0mfigsize\u001b[0m\u001b[1;33m=\u001b[0m\u001b[1;33m(\u001b[0m\u001b[1;36m20\u001b[0m\u001b[1;33m,\u001b[0m\u001b[1;36m10\u001b[0m\u001b[1;33m)\u001b[0m\u001b[1;33m)\u001b[0m\u001b[1;33m\u001b[0m\u001b[1;33m\u001b[0m\u001b[0m\n",
      "\u001b[1;32m~\\anaconda3\\lib\\site-packages\\matplotlib\\image.py\u001b[0m in \u001b[0;36mimread\u001b[1;34m(fname, format)\u001b[0m\n\u001b[0;32m   1558\u001b[0m                     \u001b[0mresponse\u001b[0m \u001b[1;33m=\u001b[0m \u001b[0mio\u001b[0m\u001b[1;33m.\u001b[0m\u001b[0mBytesIO\u001b[0m\u001b[1;33m(\u001b[0m\u001b[0mresponse\u001b[0m\u001b[1;33m.\u001b[0m\u001b[0mread\u001b[0m\u001b[1;33m(\u001b[0m\u001b[1;33m)\u001b[0m\u001b[1;33m)\u001b[0m\u001b[1;33m\u001b[0m\u001b[1;33m\u001b[0m\u001b[0m\n\u001b[0;32m   1559\u001b[0m                 \u001b[1;32mreturn\u001b[0m \u001b[0mimread\u001b[0m\u001b[1;33m(\u001b[0m\u001b[0mresponse\u001b[0m\u001b[1;33m,\u001b[0m \u001b[0mformat\u001b[0m\u001b[1;33m=\u001b[0m\u001b[0mext\u001b[0m\u001b[1;33m)\u001b[0m\u001b[1;33m\u001b[0m\u001b[1;33m\u001b[0m\u001b[0m\n\u001b[1;32m-> 1560\u001b[1;33m     \u001b[1;32mwith\u001b[0m \u001b[0mimg_open\u001b[0m\u001b[1;33m(\u001b[0m\u001b[0mfname\u001b[0m\u001b[1;33m)\u001b[0m \u001b[1;32mas\u001b[0m \u001b[0mimage\u001b[0m\u001b[1;33m:\u001b[0m\u001b[1;33m\u001b[0m\u001b[1;33m\u001b[0m\u001b[0m\n\u001b[0m\u001b[0;32m   1561\u001b[0m         return (_pil_png_to_float_array(image)\n\u001b[0;32m   1562\u001b[0m                 \u001b[1;32mif\u001b[0m \u001b[0misinstance\u001b[0m\u001b[1;33m(\u001b[0m\u001b[0mimage\u001b[0m\u001b[1;33m,\u001b[0m \u001b[0mPIL\u001b[0m\u001b[1;33m.\u001b[0m\u001b[0mPngImagePlugin\u001b[0m\u001b[1;33m.\u001b[0m\u001b[0mPngImageFile\u001b[0m\u001b[1;33m)\u001b[0m \u001b[1;32melse\u001b[0m\u001b[1;33m\u001b[0m\u001b[1;33m\u001b[0m\u001b[0m\n",
      "\u001b[1;32m~\\anaconda3\\lib\\site-packages\\PIL\\Image.py\u001b[0m in \u001b[0;36mopen\u001b[1;34m(fp, mode, formats)\u001b[0m\n\u001b[0;32m   3090\u001b[0m \u001b[1;33m\u001b[0m\u001b[0m\n\u001b[0;32m   3091\u001b[0m     \u001b[1;32mif\u001b[0m \u001b[0mfilename\u001b[0m\u001b[1;33m:\u001b[0m\u001b[1;33m\u001b[0m\u001b[1;33m\u001b[0m\u001b[0m\n\u001b[1;32m-> 3092\u001b[1;33m         \u001b[0mfp\u001b[0m \u001b[1;33m=\u001b[0m \u001b[0mbuiltins\u001b[0m\u001b[1;33m.\u001b[0m\u001b[0mopen\u001b[0m\u001b[1;33m(\u001b[0m\u001b[0mfilename\u001b[0m\u001b[1;33m,\u001b[0m \u001b[1;34m\"rb\"\u001b[0m\u001b[1;33m)\u001b[0m\u001b[1;33m\u001b[0m\u001b[1;33m\u001b[0m\u001b[0m\n\u001b[0m\u001b[0;32m   3093\u001b[0m         \u001b[0mexclusive_fp\u001b[0m \u001b[1;33m=\u001b[0m \u001b[1;32mTrue\u001b[0m\u001b[1;33m\u001b[0m\u001b[1;33m\u001b[0m\u001b[0m\n\u001b[0;32m   3094\u001b[0m \u001b[1;33m\u001b[0m\u001b[0m\n",
      "\u001b[1;31mFileNotFoundError\u001b[0m: [Errno 2] No such file or directory: 'data/posters/1331.jpg'"
     ]
    }
   ],
   "source": [
    "show_similar(\"Apollo 13\", item_similar_indices, item_encoder, df_items)"
   ]
  },
  {
   "cell_type": "code",
   "execution_count": null,
   "metadata": {},
   "outputs": [],
   "source": []
  },
  {
   "cell_type": "code",
   "execution_count": null,
   "metadata": {},
   "outputs": [],
   "source": []
  }
 ],
 "metadata": {
  "kernelspec": {
   "display_name": "Python 3 (ipykernel)",
   "language": "python",
   "name": "python3"
  },
  "language_info": {
   "codemirror_mode": {
    "name": "ipython",
    "version": 3
   },
   "file_extension": ".py",
   "mimetype": "text/x-python",
   "name": "python",
   "nbconvert_exporter": "python",
   "pygments_lexer": "ipython3",
   "version": "3.9.13"
  }
 },
 "nbformat": 4,
 "nbformat_minor": 4
}
